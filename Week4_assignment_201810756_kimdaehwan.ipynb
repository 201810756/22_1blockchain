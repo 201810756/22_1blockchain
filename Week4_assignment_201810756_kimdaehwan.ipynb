{
 "cells": [
  {
   "cell_type": "markdown",
   "id": "9feade11",
   "metadata": {},
   "source": [
    "# [week4 _ assignment]\n",
    "### [휴먼지능정보공학과 201810756 김대환]\n",
    "---"
   ]
  },
  {
   "cell_type": "markdown",
   "id": "4abe165c",
   "metadata": {},
   "source": [
    "##### [문제 : 1번]"
   ]
  },
  {
   "cell_type": "markdown",
   "id": "b7a05d09",
   "metadata": {},
   "source": [
    "2건의 데이터에 대해 Me\"rkle Root 값 계산하고 출력\n",
    "* txA='Hello'\n",
    "* txB='How are you?'"
   ]
  },
  {
   "cell_type": "code",
   "execution_count": 5,
   "id": "bef2bc66",
   "metadata": {},
   "outputs": [
    {
     "name": "stdout",
     "output_type": "stream",
     "text": [
      "_hA :  70bc18bef5ae66b72d1995f8db90a583a60d77b4066e4653f1cead613025861c\n",
      "_hB :  1027ce357faf49fc632d35908db181ae951aa3df9060595d94fb33769d71e7d0\n",
      "----------------------------------------------\n",
      "hA :  1c86253061adcef153466e06b4770da683a590dbf895192db766aef5be18bc70\n",
      "hB :  d0e7719d7633fb945d596090dfa31a95ae81b18d90352d63fc49af7f35ce2710\n",
      "----------------------------------------------\n",
      "_hAhB :  1c86253061adcef153466e06b4770da683a590dbf895192db766aef5be18bc70d0e7719d7633fb945d596090dfa31a95ae81b18d90352d63fc49af7f35ce2710\n",
      "----------------------------------------------\n",
      "_hAB :  e0c76d87a5a5c18ab29757603c5d1bda709306203b0a44c53fc6c90fba162903\n",
      "----------------------------------------------\n",
      "최종 merkle root :  032916ba0fc9c63fc5440a3b20069370da1b5d3c605797b28ac1a5a5876dc7e0\n"
     ]
    }
   ],
   "source": [
    "import hashlib\n",
    "txA='Hello'\n",
    "txB='How are you?'\n",
    "# 각각의 문자열을 재해싱 -> _hA,_hB / 왜 더블해싱 ? : 'length extension attack' 방지 \n",
    "_hA=hashlib.sha256(hashlib.sha256(txA.encode()).digest()).hexdigest()\n",
    "_hB=hashlib.sha256(hashlib.sha256(txB.encode()).digest()).hexdigest()\n",
    "print(\"_hA : \",_hA)\n",
    "print(\"_hB : \",_hB)\n",
    "print(\"----------------------------------------------\")\n",
    "# 바이트 교환 \n",
    "hA=\"\".join(reversed([_hA[i:i+2]for i in range(0,32*2,2)]))\n",
    "hB=\"\".join(reversed([_hB[i:i+2]for i in range(0,32*2,2)]))\n",
    "print(\"hA : \",hA)\n",
    "print(\"hB : \",hB)\n",
    "print(\"----------------------------------------------\")\n",
    "# hA + hB\n",
    "_hAhB=hA+hB\n",
    "print(\"_hAhB : \",_hAhB)\n",
    "print(\"----------------------------------------------\")\n",
    "# _hAhB 재해싱(더블)\n",
    "_hAB=hashlib.sha256(hashlib.sha256(_hAhB.encode()).digest()).hexdigest()\n",
    "print(\"_hAB : \",_hAB)\n",
    "print(\"----------------------------------------------\")\n",
    "# 바이트 교환\n",
    "hAB=\"\".join(reversed([_hAB[i:i+2] for i in range(0,32*2,2)]))\n",
    "print(\"최종 merkle root : \", hAB)"
   ]
  },
  {
   "cell_type": "markdown",
   "id": "b53a5bf1",
   "metadata": {},
   "source": [
    "##### [문제 : 2번]"
   ]
  },
  {
   "cell_type": "markdown",
   "id": "cbd92a08",
   "metadata": {},
   "source": [
    "친구에게 주소를 구하고, 그 주소로 송금\\\n",
    "송금이 되지 않는다면 왜 안되는지 이유를 알아보자.\\\n",
    "안되면 친구의 주소를 만들고 전송한다.\n",
    "* 잔고의 증가분\n",
    "* 소요된 gas비용"
   ]
  },
  {
   "cell_type": "code",
   "execution_count": 6,
   "id": "18e371e6",
   "metadata": {},
   "outputs": [
    {
     "name": "stdout",
     "output_type": "stream",
     "text": [
      "Overwriting src/w4_assignment_testTransaction.js\n"
     ]
    }
   ],
   "source": [
    "%%writefile src/w4_assignment_testTransaction.js\n",
    "var hqaccount=\"0x4fa2c7caac80a8518264d263bdb5ed74f1a6f398\"; // 상대방 주소 \n",
    "console.log('거래 전 상대방 잔고 : ',eth.getBalance(hqaccount));\n",
    "var before_balance=eth.getBalance(hqaccount);\n",
    "console.log('block number : ',eth.blockNumber);\n",
    "var t=eth.sendTransaction({from:eth.accounts[0],to:hqaccount,value:500});\n",
    "console.log('transactionHash : ',t);\n",
    "console.log('..mining start');\n",
    "miner.start(1);admin.sleepBlocks(1);miner.stop();\n",
    "console.log('mining done..');\n",
    "console.log('block number : ',eth.blockNumber);\n",
    "var after_balance=eth.getBalance(hqaccount);\n",
    "console.log('거래 후 상대방 잔고 : ',eth.getBalance(hqaccount));\n",
    "console.log ('잔고 증가분 : ',after_balance-before_balance);\n",
    "console.log('소요된 gas 비용 : ',eth.getTransactionReceipt(t).gasUsed);"
   ]
  },
  {
   "cell_type": "code",
   "execution_count": 8,
   "id": "3c530e16",
   "metadata": {},
   "outputs": [
    {
     "name": "stdout",
     "output_type": "stream",
     "text": [
      "거래 전 상대방 잔고 :  6000\n",
      "block number :  3140\n",
      "transactionHash :  0x03a54f2fc348dbd062a795cee17b789c89f4867b623e98e5ea39f4a9d1d8f6a3\n",
      "..mining start\n",
      "mining done..\n",
      "block number :  3141\n",
      "거래 후 상대방 잔고 :  6500\n",
      "잔고 증가분 :  500\n",
      "소요된 gas 비용 :  21000\n",
      "\u001b[1mnull\u001b[0m\n"
     ]
    }
   ],
   "source": [
    "# w4_assignment_testTransaction.js 실행\n",
    "!geth --exec 'loadScript(\"src/w4_assignment_testTransaction.js\")' attach http://localhost:8445"
   ]
  },
  {
   "cell_type": "markdown",
   "id": "5f69485b",
   "metadata": {},
   "source": [
    "상대방에게 송금이 잘 되었음을 확인\\\n",
    "목표한 금액(500) 만큼 상대방의 잔고가 늘었음"
   ]
  },
  {
   "cell_type": "markdown",
   "id": "f73e5283",
   "metadata": {},
   "source": [
    "##### [문제 : 3번]"
   ]
  },
  {
   "cell_type": "markdown",
   "id": "6aa1e2fa",
   "metadata": {},
   "source": [
    "블록헤더 데이터의 해시 값에 NONCE를 증가시키면서\n",
    "앞 자리의 0의 개수를 맞출 때까지 반복한다.\n",
    "1. 찾고자하는 해시 '''0000'''로 시작, 몇 회만에 찾는지 출력\n",
    "2. 찾고자하는 해시 '''00000'''로 시작, 몇 회만에 찾는지 출력\n",
    "3. 찾고자하는 해시 '''000000'''로 시작, 몇 회만에 찾는지 출력"
   ]
  },
  {
   "cell_type": "code",
   "execution_count": 9,
   "id": "bb3f1650",
   "metadata": {},
   "outputs": [
    {
     "name": "stdout",
     "output_type": "stream",
     "text": [
      "{\r\n",
      "  pending: {},\r\n",
      "  queued: {}\r\n",
      "}\r\n"
     ]
    }
   ],
   "source": [
    "# 적체되어 있는 거래 확인\n",
    "!geth --exec txpool.inspect attach http://localhost:8445"
   ]
  },
  {
   "cell_type": "code",
   "execution_count": 10,
   "id": "1fdeafee",
   "metadata": {},
   "outputs": [
    {
     "name": "stdout",
     "output_type": "stream",
     "text": [
      "solved  Nonce :  23021 guessHash :  00004b3bc24b04b605412a973e2b8c754fb8087f00432c6a029bd67d79605bf8\n"
     ]
    }
   ],
   "source": [
    "# 해시 맞추기 target : \"0000\" / 시작 해시 : 1번 문제에서 구한 merkle root로 임의설정\n",
    "ntry=1\n",
    "found=False\n",
    "blockNumber=54 \n",
    "NONCE=0\n",
    "data='hello'\n",
    "previousHash='032916ba0fc9c63fc5440a3b20069370da1b5d3c605797b28ac1a5a5876dc7e0'\n",
    "while found==False:\n",
    "    z=str(blockNumber)+str(NONCE)+data+previousHash\n",
    "    guessHash=hashlib.sha256(z.encode()).hexdigest()\n",
    "    if guessHash[:4]=='0000':\n",
    "        found=True\n",
    "    NONCE+=1\n",
    "    if(NONCE%10000000==0):\n",
    "        print(\"NONCE: \",NONCE, guessHash)\n",
    "print(\"solved \",\"Nonce : \",NONCE,\"guessHash : \",guessHash)"
   ]
  },
  {
   "cell_type": "code",
   "execution_count": 11,
   "id": "b01a1b5e",
   "metadata": {},
   "outputs": [
    {
     "name": "stdout",
     "output_type": "stream",
     "text": [
      "solved  Nonce :  966124 guessHash :  00000e9f000080833cd40b0c3cc3fea979afefdad55bfd2057e1335a279f5709\n"
     ]
    }
   ],
   "source": [
    "# target : \"00000\"\n",
    "ntry=1\n",
    "found=False\n",
    "blockNumber=54 \n",
    "NONCE=0\n",
    "data='hello'\n",
    "previousHash='032916ba0fc9c63fc5440a3b20069370da1b5d3c605797b28ac1a5a5876dc7e0'\n",
    "while found==False:\n",
    "    z=str(blockNumber)+str(NONCE)+data+previousHash\n",
    "    guessHash=hashlib.sha256(z.encode()).hexdigest()\n",
    "    if guessHash[:5]=='00000':\n",
    "        found=True\n",
    "    NONCE+=1\n",
    "    if(NONCE%10000000==0):\n",
    "        print(\"NONCE: \",NONCE, guessHash)\n",
    "print(\"solved \",\"Nonce : \",NONCE,\"guessHash : \",guessHash)"
   ]
  },
  {
   "cell_type": "code",
   "execution_count": 12,
   "id": "773fd2d4",
   "metadata": {},
   "outputs": [
    {
     "name": "stdout",
     "output_type": "stream",
     "text": [
      "NONCE:  10000000 74a3f8f2af60a8ca2837f5c84edfe681683066da5be2a55e3858b7c47baf81e8\n",
      "NONCE:  20000000 22832c44e0932d51f55b35c8c8302c32d34f0aefafa21af56701d2231d8dcb5d\n",
      "NONCE:  30000000 052e776db155d4b8f98a9c1b27d7ec7aa4c7bdc1b745337ee68a28c7d88702ba\n",
      "solved  Nonce :  38750291 guessHash :  000000eb5835517c61592ed42091047668ab738cc795d60ec36b26d8726d22bc\n"
     ]
    }
   ],
   "source": [
    "# target : \"000000\"\n",
    "ntry=1\n",
    "found=False\n",
    "blockNumber=54 \n",
    "NONCE=0\n",
    "data='hello'\n",
    "previousHash='032916ba0fc9c63fc5440a3b20069370da1b5d3c605797b28ac1a5a5876dc7e0'\n",
    "while found==False:\n",
    "    z=str(blockNumber)+str(NONCE)+data+previousHash\n",
    "    guessHash=hashlib.sha256(z.encode()).hexdigest()\n",
    "    if guessHash[:6]=='000000':\n",
    "        found=True\n",
    "    NONCE+=1\n",
    "    if(NONCE%10000000==0):\n",
    "        print(\"NONCE: \",NONCE, guessHash)\n",
    "print(\"solved \",\"Nonce : \",NONCE,\"guessHash : \",guessHash)"
   ]
  },
  {
   "cell_type": "markdown",
   "id": "6ed6f9f7",
   "metadata": {},
   "source": [
    "블록헤더의 Hash 값(guessHash) 이 찾고자하는 목표 해시값의 최대값보다 작은 범위안에 들게 되면 멈추는데\\\n",
    "목표 해시값이 \"0000\"인 경우 최대값은 \"0000FFFF...\" 이므로 이보다 작은 해시값을 가지는 NONCE를 출력(23021).\\\n",
    "\"00000\"인 경우 최대값은 \"00000FFF...\" , 이보다 작은 해시값을 가지는 NONCE 출력(966124)\\\n",
    "\"000000\"인 경우 최대값은 \"000000FF...\", 이보다 작은 해기값을 가지는 NONCE 출력(39750291)\\\n",
    "**NONCE가 곧 횟수**\\\n",
    "목표해시값이 작을수록 시간이 오래 걸리고 찾는 회수가 많이 소모된다."
   ]
  },
  {
   "cell_type": "code",
   "execution_count": null,
   "id": "e15f638a",
   "metadata": {},
   "outputs": [],
   "source": []
  }
 ],
 "metadata": {
  "kernelspec": {
   "display_name": "Python 3 (ipykernel)",
   "language": "python",
   "name": "python3"
  },
  "language_info": {
   "codemirror_mode": {
    "name": "ipython",
    "version": 3
   },
   "file_extension": ".py",
   "mimetype": "text/x-python",
   "name": "python",
   "nbconvert_exporter": "python",
   "pygments_lexer": "ipython3",
   "version": "3.9.10"
  }
 },
 "nbformat": 4,
 "nbformat_minor": 5
}
