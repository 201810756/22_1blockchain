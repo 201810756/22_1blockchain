{
 "cells": [
  {
   "cell_type": "markdown",
   "id": "0f3ac71d",
   "metadata": {},
   "source": [
    "# [블록체인 프로그래밍] 중간고사 답안지\n",
    "---\n",
    "## 휴먼지능정보공학과 201810756 김대환\n",
    "---"
   ]
  },
  {
   "cell_type": "markdown",
   "id": "73e0cd4b",
   "metadata": {},
   "source": [
    "##### 문제 1번"
   ]
  },
  {
   "cell_type": "code",
   "execution_count": 196,
   "id": "9ab387a1",
   "metadata": {},
   "outputs": [
    {
     "name": "stdout",
     "output_type": "stream",
     "text": [
      "Overwriting src/midterm_1.js\n"
     ]
    }
   ],
   "source": [
    "%%writefile src/midterm_1.js\n",
    "var Web3=require('web3');\n",
    "var web3=new Web3('http://127.0.0.1:8345');\n",
    "async function midterm1(){\n",
    "    var accounts=await web3.eth.getAccounts();\n",
    "    var ac0=accounts[0];\n",
    "    var ac1=accounts[1];\n",
    "    console.log(\"(1) ac0: \",ac0,\" ac1: \",ac1);\n",
    "    var bal_ac0=await web3.eth.getBalance(ac0);\n",
    "    var bal_ac1=await web3.eth.getBalance(ac1);\n",
    "    console.log(\"(2) bal Of ac0: \",bal_ac0,\" bal Of ac2: \",bal_ac1);\n",
    "    var tR=await web3.eth.sendTransaction({from:ac0,to:ac1,value:1111}).then(console.log(\"(3) callback - sending ac0-> ac1\"));\n",
    "    console.log(\"(4) transactionHash: \",tR.transactionHash);\n",
    "    var gasPrice=await web3.eth.getGasPrice();\n",
    "    console.log(\"(5) gas costs: \",tR.gasUsed*gasPrice);\n",
    "    var nonce=await web3.eth.getTransactionCount(ac0);\n",
    "    console.log(\"(6) nonce: \",nonce);\n",
    "    var Abal_ac0=await web3.eth.getBalance(accounts[0]);\n",
    "    var Abal_ac1=await web3.eth.getBalance(accounts[1]);\n",
    "    var diff0=Abal_ac0-bal_ac0;\n",
    "    var diff1=Abal_ac1-bal_ac1;\n",
    "    console.log(\"(7) bal diff0: \",diff0,\" bal diff1: \",diff1);\n",
    "    var sum_result=0;\n",
    "    var i;\n",
    "    console.log(\"(8) adding balance\");\n",
    "    for(i=0; i<10; i++){\n",
    "        console.log(\"sum: \",sum_result,\" adding \",i,\"bal: \",await web3.eth.getBalance(accounts[i]));\n",
    "        var tmp=await web3.eth.getBalance(accounts[i]);\n",
    "        sum_result+=parseInt(tmp);\n",
    "    }\n",
    "    console.log(\"(9) balance total: \",sum_result);\n",
    "}\n",
    "midterm1()"
   ]
  },
  {
   "cell_type": "code",
   "execution_count": 197,
   "id": "071f578b",
   "metadata": {},
   "outputs": [
    {
     "name": "stdout",
     "output_type": "stream",
     "text": [
      "(1) ac0:  0xA2283D98Eb7757300fe8d6E3ECbb64bdfe6e7b95  ac1:  0xdDA55812DC28eE5A3Db72a684A4C1c2a354d63eA\n",
      "(2) bal Of ac0:  99981519999999951116  bal Of ac2:  100000000000000048884\n",
      "(3) callback - sending ac0-> ac1\n",
      "(4) transactionHash:  0xfb583730f6c07f5551b5f8c5145d943f985b3d5b3c4d1e13a24150f1ec8f630f\n",
      "(5) gas costs:  \u001b[33m420000000000000\u001b[39m\n",
      "(6) nonce:  \u001b[33m45\u001b[39m\n",
      "(7) bal diff0:  \u001b[33m-420000000000000\u001b[39m  bal diff1:  \u001b[33m0\u001b[39m\n",
      "(8) adding balance\n",
      "sum:  \u001b[33m0\u001b[39m  adding  \u001b[33m0\u001b[39m bal:  99981099999999950005\n",
      "sum:  \u001b[33m99981099999999950000\u001b[39m  adding  \u001b[33m1\u001b[39m bal:  100000000000000049995\n",
      "sum:  \u001b[33m199981100000000000000\u001b[39m  adding  \u001b[33m2\u001b[39m bal:  100000000000000000000\n",
      "sum:  \u001b[33m299981100000000000000\u001b[39m  adding  \u001b[33m3\u001b[39m bal:  100000000000000000000\n",
      "sum:  \u001b[33m399981100000000000000\u001b[39m  adding  \u001b[33m4\u001b[39m bal:  100000000000000000000\n",
      "sum:  \u001b[33m499981100000000000000\u001b[39m  adding  \u001b[33m5\u001b[39m bal:  100000000000000000000\n",
      "sum:  \u001b[33m599981100000000100000\u001b[39m  adding  \u001b[33m6\u001b[39m bal:  100000000000000000000\n",
      "sum:  \u001b[33m699981100000000100000\u001b[39m  adding  \u001b[33m7\u001b[39m bal:  100000000000000000000\n",
      "sum:  \u001b[33m799981100000000100000\u001b[39m  adding  \u001b[33m8\u001b[39m bal:  100000000000000000000\n",
      "sum:  \u001b[33m899981100000000100000\u001b[39m  adding  \u001b[33m9\u001b[39m bal:  100000000000000000000\n",
      "(9) balance total:  \u001b[33m999981100000000100000\u001b[39m\n"
     ]
    }
   ],
   "source": [
    "!node src/midterm_1.js"
   ]
  },
  {
   "cell_type": "markdown",
   "id": "a03f4eb3",
   "metadata": {},
   "source": [
    "1번 문제의 (7)에 해당하는 잔액 증감이 올바르게 출력되지 않는 것 같습니다.\n",
    "\n",
    "-----"
   ]
  },
  {
   "cell_type": "markdown",
   "id": "6d851024",
   "metadata": {},
   "source": [
    "##### 문제 2번"
   ]
  },
  {
   "cell_type": "markdown",
   "id": "54840ba2",
   "metadata": {},
   "source": [
    "\n",
    "[vm]from: 0x5B3...eddC4to: Counter.add() 0xd91...39138value: 0 weidata: 0x4f2...be91flogs: 0hash: 0x046...35359\n",
    "transact to Counter.add pending ... \n",
    "[vm]from: 0x5B3...eddC4to: Counter.add() 0xd91...39138value: 0 weidata: 0x4f2...be91flogs: 0hash: 0x8c6...01f4b\n",
    "transact to Counter.subtract pending ... \n",
    "[vm]from: 0x5B3...eddC4to: Counter.subtract() 0xd91...39138value: 0 weidata: 0x6de...ebae3logs: 0hash: 0x638...224e5\n",
    "call to Counter.getCount\n",
    "CALL\n",
    "[call]from: 0x5B38Da6a701c568545dCfcB03FcB875f56beddC4to: Counter.getCount()data: 0xa87...d942c\n",
    "call to Counter.getTimeCalled\n",
    "CALL\n"
   ]
  },
  {
   "cell_type": "code",
   "execution_count": 108,
   "id": "ed253dd0",
   "metadata": {},
   "outputs": [
    {
     "name": "stdout",
     "output_type": "stream",
     "text": [
      "Overwriting src/midterm_2.sol\n"
     ]
    }
   ],
   "source": [
    "%%writefile src/midterm_2.sol\n",
    "pragma solidity 0.8.12;\n",
    "contract Counter{\n",
    "    uint counter=0;\n",
    "    uint startTime;\n",
    "    function getCount() view public returns(uint){\n",
    "        return counter;\n",
    "    }\n",
    "    function add() public{\n",
    "        counter++;\n",
    "    }\n",
    "    function subtract() public{\n",
    "        counter--;\n",
    "    }\n",
    "    function setTimeCalled() public{\n",
    "        startTime=block.timestamp;\n",
    "    }\n",
    "    function getTimeCalled() view public returns(uint){\n",
    "        return startTime;\n",
    "    }\n",
    "}"
   ]
  },
  {
   "cell_type": "markdown",
   "id": "e4a5c761",
   "metadata": {},
   "source": [
    "기존 문제의 function setTimeCalled() internal{} 로 구현하였을 때 올바르게 timestamp가 되지 않아\n",
    "\n",
    "function setTimeCalled() public{} 으로 바꾸어 구현하였습니다..(강의자료 timer컨트랙 참고)"
   ]
  },
  {
   "cell_type": "code",
   "execution_count": 109,
   "id": "e1955831",
   "metadata": {},
   "outputs": [
    {
     "name": "stdout",
     "output_type": "stream",
     "text": [
      "\u001b[1m\u001b[33mWarning\u001b[0m\u001b[1m\u001b[37m: SPDX license identifier not provided in source file. Before publishing, consider adding a comment containing \"SPDX-License-Identifier: <SPDX-License>\" to each source file. Use \"SPDX-License-Identifier: UNLICENSED\" for non-open-source code. Please see https://spdx.org for more information.\r\n",
      "\u001b[0m\u001b[1m\u001b[34m-->\u001b[0m src/midterm_2.sol\r\n",
      "\r\n"
     ]
    }
   ],
   "source": [
    "!solc --optimize --combined-json abi,bin src/midterm_2.sol > src/midterm_2.json"
   ]
  },
  {
   "cell_type": "code",
   "execution_count": 110,
   "id": "4885139c",
   "metadata": {},
   "outputs": [
    {
     "name": "stdout",
     "output_type": "stream",
     "text": [
      "{\"contracts\":{\"src/midterm_2.sol:Counter\":{\"abi\":[{\"inputs\":[],\"name\":\"add\",\"outputs\":[],\"stateMutability\":\"nonpayable\",\"type\":\"function\"},{\"inputs\":[],\"name\":\"getCount\",\"outputs\":[{\"internalType\":\"uint256\",\"name\":\"\",\"type\":\"uint256\"}],\"stateMutability\":\"view\",\"type\":\"function\"},{\"inputs\":[],\"name\":\"getTimeCalled\",\"outputs\":[{\"internalType\":\"uint256\",\"name\":\"\",\"type\":\"uint256\"}],\"stateMutability\":\"view\",\"type\":\"function\"},{\"inputs\":[],\"name\":\"setTimeCalled\",\"outputs\":[],\"stateMutability\":\"nonpayable\",\"type\":\"function\"},{\"inputs\":[],\"name\":\"subtract\",\"outputs\":[],\"stateMutability\":\"nonpayable\",\"type\":\"function\"}],\"bin\":\"60806040526000805534801561001457600080fd5b50610121806100246000396000f3fe6080604052348015600f57600080fd5b506004361060505760003560e01c80633bab7be71460555780634f2be91f14605f5780636deebae3146065578063a87d942c14606b578063c457a0a4146081575b600080fd5b605d42600155565b005b605d6088565b605d609c565b6000545b60405190815260200160405180910390f35b600154606f565b60008054908060958360bf565b9190505550565b60008054908060958360d7565b634e487b7160e01b600052601160045260246000fd5b600060001982141560d05760d060a9565b5060010190565b60008160e35760e360a9565b50600019019056fea264697066735822122078a9e193130702ac59574f755ffddcd151814d9f6e8b7dfee7226694f430a24164736f6c634300080c0033\"}},\"version\":\"0.8.12+commit.f00d7308.Darwin.appleclang\"}\r\n"
     ]
    }
   ],
   "source": [
    "!cat src/midterm_2.json"
   ]
  },
  {
   "cell_type": "code",
   "execution_count": 122,
   "id": "c77884f0",
   "metadata": {},
   "outputs": [
    {
     "name": "stdout",
     "output_type": "stream",
     "text": [
      "Overwriting src/midterm_2Deploy.js\n"
     ]
    }
   ],
   "source": [
    "%%writefile src/midterm_2Deploy.js\n",
    "var Web3 = require('web3');\n",
    "var _abiBinJson = require('./midterm_2.json');     \n",
    "var web3 = new Web3(new Web3.providers.HttpProvider(\"http://127.0.0.1:8445\"));\n",
    "contractName=Object.keys(_abiBinJson.contracts);\n",
    "_abi=_abiBinJson.contracts[contractName].abi;\n",
    "_abiArray=JSON.parse(JSON.stringify(_abi));\n",
    "_bin=_abiBinJson.contracts[contractName].bin;\n",
    "async function deploy() {\n",
    "    const accounts = await web3.eth.getAccounts();\n",
    "    var midtermCon= await new web3.eth.Contract(_abiArray)\n",
    "        .deploy({data: \"0x\"+_bin})\n",
    "        .send({from: accounts[0], gas: 364124})\n",
    "    console.log(\"---> The contract deployed to: \" + midtermCon.options.address)\n",
    "}\n",
    "deploy()"
   ]
  },
  {
   "cell_type": "code",
   "execution_count": 123,
   "id": "487792cf",
   "metadata": {},
   "outputs": [
    {
     "name": "stdout",
     "output_type": "stream",
     "text": [
      "---> The contract deployed to: 0x170F2F381F5d6ca1040ca0a24A6bc9c04A68B78f\r\n"
     ]
    }
   ],
   "source": [
    "!node src/midterm_2Deploy.js"
   ]
  },
  {
   "cell_type": "markdown",
   "id": "783469a3",
   "metadata": {},
   "source": [
    "8445 coinbase 계정 해제와 마이닝은 터미널 단말에서 진행했습니다"
   ]
  },
  {
   "cell_type": "code",
   "execution_count": 124,
   "id": "75ef653b",
   "metadata": {},
   "outputs": [
    {
     "name": "stdout",
     "output_type": "stream",
     "text": [
      "Overwriting src/midterm2_Use.js\n"
     ]
    }
   ],
   "source": [
    "%%writefile src/midterm2_Use.js\n",
    "var Web3=require('web3');\n",
    "var _abiBinJson = require('./midterm_2.json');\n",
    "var web3 = new Web3(new Web3.providers.HttpProvider(\"http://127.0.0.1:8445\"));\n",
    "contractName=Object.keys(_abiBinJson.contracts); \n",
    "_abi=_abiBinJson.contracts[contractName].abi;\n",
    "_abiArray=JSON.parse(JSON.stringify(_abi));\n",
    "var midtermCon = new web3.eth.Contract(_abiArray,\"0x170F2F381F5d6ca1040ca0a24A6bc9c04A68B78f\");\n",
    "async function midterm2Use(){\n",
    "    const accounts = await web3.eth.getAccounts();\n",
    "    await midtermCon.methods.setTimeCalled().send({from:accounts[0],gas:100000});\n",
    "    midtermCon.methods.getCount().call().then(function(value){\n",
    "        console.log(\"current count: \",value);\n",
    "    });\n",
    "    midtermCon.methods.getTimeCalled().call().then(function(value){\n",
    "        console.log(\"current time: \",value);\n",
    "    });\n",
    "}\n",
    "midterm2Use()"
   ]
  },
  {
   "cell_type": "code",
   "execution_count": 125,
   "id": "65050e39",
   "metadata": {},
   "outputs": [
    {
     "name": "stdout",
     "output_type": "stream",
     "text": [
      "current count:  0\r\n",
      "current time:  1650871125\r\n"
     ]
    }
   ],
   "source": [
    "!node src/midterm2_Use.js"
   ]
  },
  {
   "cell_type": "code",
   "execution_count": 126,
   "id": "facb6867",
   "metadata": {},
   "outputs": [
    {
     "name": "stdout",
     "output_type": "stream",
     "text": [
      "Overwriting src/midterm2_Use_2.js\n"
     ]
    }
   ],
   "source": [
    "%%writefile src/midterm2_Use_2.js\n",
    "var Web3=require('web3');\n",
    "var _abiBinJson = require('./midterm_2.json');\n",
    "var web3 = new Web3(new Web3.providers.HttpProvider(\"http://127.0.0.1:8445\"));\n",
    "contractName=Object.keys(_abiBinJson.contracts); \n",
    "_abi=_abiBinJson.contracts[contractName].abi;\n",
    "_abiArray=JSON.parse(JSON.stringify(_abi));\n",
    "var midtermCon = new web3.eth.Contract(_abiArray,\"0x170F2F381F5d6ca1040ca0a24A6bc9c04A68B78f\");\n",
    "async function midterm2Use(){\n",
    "    const accounts = await web3.eth.getAccounts();\n",
    "    await midtermCon.methods.add().send({from:accounts[0],gas:100000});\n",
    "    midtermCon.methods.getCount().call().then(function(value){\n",
    "        console.log(\"current count: \",value);\n",
    "    });\n",
    "    midtermCon.methods.getTimeCalled().call().then(function(value){\n",
    "        console.log(\"current time: \",value);\n",
    "    });\n",
    "}\n",
    "midterm2Use()"
   ]
  },
  {
   "cell_type": "code",
   "execution_count": 127,
   "id": "8e9a3553",
   "metadata": {},
   "outputs": [
    {
     "name": "stdout",
     "output_type": "stream",
     "text": [
      "current count:  1\r\n",
      "current time:  1650871125\r\n"
     ]
    }
   ],
   "source": [
    "!node src/midterm2_Use_2.js"
   ]
  },
  {
   "cell_type": "code",
   "execution_count": 128,
   "id": "67deeb14",
   "metadata": {},
   "outputs": [
    {
     "name": "stdout",
     "output_type": "stream",
     "text": [
      "current count:  2\r\n",
      "current time:  1650871125\r\n"
     ]
    }
   ],
   "source": [
    "!node src/midterm2_Use_2.js"
   ]
  },
  {
   "cell_type": "code",
   "execution_count": null,
   "id": "f31bccea",
   "metadata": {},
   "outputs": [],
   "source": []
  }
 ],
 "metadata": {
  "kernelspec": {
   "display_name": "Python 3 (ipykernel)",
   "language": "python",
   "name": "python3"
  },
  "language_info": {
   "codemirror_mode": {
    "name": "ipython",
    "version": 3
   },
   "file_extension": ".py",
   "mimetype": "text/x-python",
   "name": "python",
   "nbconvert_exporter": "python",
   "pygments_lexer": "ipython3",
   "version": "3.9.12"
  }
 },
 "nbformat": 4,
 "nbformat_minor": 5
}
