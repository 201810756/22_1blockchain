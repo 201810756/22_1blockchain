{
 "cells": [
  {
   "cell_type": "markdown",
   "id": "674f1aac",
   "metadata": {},
   "source": [
    "# [블록체인 프로그래밍 5주차 과제]\n",
    "---"
   ]
  },
  {
   "cell_type": "markdown",
   "id": "93083fee",
   "metadata": {},
   "source": [
    "### [문제1]\n"
   ]
  },
  {
   "cell_type": "markdown",
   "id": "e45e179c",
   "metadata": {},
   "source": [
    "##### 1-1\n",
    "ganache를 백그라운드로 띄우고, node에서 연결하여, coinbase주소를 출력하세요."
   ]
  },
  {
   "cell_type": "code",
   "execution_count": 123,
   "id": "662406b9",
   "metadata": {},
   "outputs": [
    {
     "name": "stdout",
     "output_type": "stream",
     "text": [
      "Overwriting src/ganacheCoinbase.js\n"
     ]
    }
   ],
   "source": [
    "%%writefile src/ganacheCoinbase.js\n",
    "var Web3=require('web3');\n",
    "var web3=new Web3('http://127.0.0.1:8345');\n",
    "web3.eth.getCoinbase().then(console.log);"
   ]
  },
  {
   "cell_type": "code",
   "execution_count": 124,
   "id": "465f5395",
   "metadata": {},
   "outputs": [
    {
     "name": "stdout",
     "output_type": "stream",
     "text": [
      "0xded91ce5590557e8a685d13a7272e9c3b01df252\r\n"
     ]
    }
   ],
   "source": [
    "!node src/ganacheCoinbase.js"
   ]
  },
  {
   "cell_type": "markdown",
   "id": "284d1d1d",
   "metadata": {},
   "source": [
    "##### 1-2\n",
    "문제1-1을 geth를 띄우고 실행, geth 에서의 coinbase 출력 "
   ]
  },
  {
   "cell_type": "code",
   "execution_count": 7,
   "id": "bf321585",
   "metadata": {},
   "outputs": [
    {
     "name": "stdout",
     "output_type": "stream",
     "text": [
      "\u001b[32m\"0xded91ce5590557e8a685d13a7272e9c3b01df252\"\u001b[0m\r\n"
     ]
    }
   ],
   "source": [
    "!geth --exec eth.coinbase attach http://127.0.0.1:8345"
   ]
  },
  {
   "cell_type": "markdown",
   "id": "e4db464c",
   "metadata": {},
   "source": [
    "##### 1-3\n",
    "ganache의 coinbased에서 geth의 coinbase로 1 ether를 송금해보세요. 송금 성공이면 잔고변화를 출력하고 실패이면 그 이유를 간단히 설명하세요"
   ]
  },
  {
   "cell_type": "code",
   "execution_count": 8,
   "id": "d64f3dfc",
   "metadata": {},
   "outputs": [
    {
     "name": "stdout",
     "output_type": "stream",
     "text": [
      "\u001b[32m\"0x9178bdc606dd7ccc4e51936342d480514d65e054\"\u001b[0m\r\n"
     ]
    }
   ],
   "source": [
    "!geth --exec eth.coinbase attach http://localhost:8445"
   ]
  },
  {
   "cell_type": "code",
   "execution_count": 69,
   "id": "01a97819",
   "metadata": {},
   "outputs": [
    {
     "name": "stdout",
     "output_type": "stream",
     "text": [
      "Overwriting src/w5_gethFromGanache.js\n"
     ]
    }
   ],
   "source": [
    "%%writefile src/w5_gethFromGanache.js\n",
    "var Web3=require('web3');\n",
    "var web3=new Web3('http://127.0.0.1:8345');\n",
    "var gethaccount=\"0x9178bdc606dd7ccc4e51936342d480514d65e054\";\n",
    "var ganaaccount=\"0xded91ce5590557e8a685d13a7272e9c3b01df252\";\n",
    "web3.eth.getBalance(gethaccount).then(console.log);\n",
    "web3.eth.sendTransaction({from:ganaaccount,to:gethaccount,value:500});"
   ]
  },
  {
   "cell_type": "code",
   "execution_count": 70,
   "id": "ca9168cf",
   "metadata": {},
   "outputs": [
    {
     "name": "stdout",
     "output_type": "stream",
     "text": [
      "1000000000000005500\r\n"
     ]
    }
   ],
   "source": [
    "!node src/w5_gethFromGanache.js"
   ]
  },
  {
   "cell_type": "code",
   "execution_count": 71,
   "id": "c144b998",
   "metadata": {},
   "outputs": [
    {
     "name": "stdout",
     "output_type": "stream",
     "text": [
      "Overwriting src/w5_checkBalance.js\n"
     ]
    }
   ],
   "source": [
    "%%writefile src/w5_checkBalance.js\n",
    "var Web3=require('web3');\n",
    "var web3=new Web3('http://127.0.0.1:8345');\n",
    "var gethaccount=\"0x9178bdc606dd7ccc4e51936342d480514d65e054\";\n",
    "web3.eth.getBalance(gethaccount).then(console.log);"
   ]
  },
  {
   "cell_type": "code",
   "execution_count": 72,
   "id": "2b49740d",
   "metadata": {},
   "outputs": [
    {
     "name": "stdout",
     "output_type": "stream",
     "text": [
      "1000000000000006000\r\n"
     ]
    }
   ],
   "source": [
    "!node src/w5_checkBalance.js"
   ]
  },
  {
   "cell_type": "markdown",
   "id": "5482c356",
   "metadata": {},
   "source": [
    "async/await 으로 구현"
   ]
  },
  {
   "cell_type": "code",
   "execution_count": 73,
   "id": "22bb0f7f",
   "metadata": {},
   "outputs": [
    {
     "name": "stdout",
     "output_type": "stream",
     "text": [
      "Overwriting src/w5_withasync.js\n"
     ]
    }
   ],
   "source": [
    "%%writefile src/w5_withasync.js\n",
    "var Web3=require('web3');\n",
    "var web3=new Web3('http://127.0.0.1:8345');\n",
    "async function sendTrans(){\n",
    "    geth_account=await web3.eth.getBalance(\"0x9178bdc606dd7ccc4e51936342d480514d65e054\");\n",
    "    console.log('before : ',geth_account);\n",
    "    await web3.eth.sendTransaction({from:\"0xded91ce5590557e8a685d13a7272e9c3b01df252\",to:\"0x9178bdc606dd7ccc4e51936342d480514d65e054\",value:500});\n",
    "    geth_account_after=await web3.eth.getBalance(\"0x9178bdc606dd7ccc4e51936342d480514d65e054\");\n",
    "    console.log('after : ',geth_account_after);\n",
    "}\n",
    "sendTrans()"
   ]
  },
  {
   "cell_type": "code",
   "execution_count": 74,
   "id": "6d5d54aa",
   "metadata": {},
   "outputs": [
    {
     "name": "stdout",
     "output_type": "stream",
     "text": [
      "before :  1000000000000006000\r\n",
      "after :  1000000000000006500\r\n"
     ]
    }
   ],
   "source": [
    "!node src/w5_withasync.js"
   ]
  },
  {
   "cell_type": "markdown",
   "id": "619b4f61",
   "metadata": {},
   "source": [
    "---"
   ]
  },
  {
   "cell_type": "markdown",
   "id": "871b1866",
   "metadata": {},
   "source": [
    "### [문제2]"
   ]
  },
  {
   "cell_type": "markdown",
   "id": "1ff538e8",
   "metadata": {},
   "source": [
    "##### 2-1\n",
    "ganache에 연결하고, 현재 coinbase의 잔고를 ether로 출력하세요"
   ]
  },
  {
   "cell_type": "code",
   "execution_count": 112,
   "id": "25c1b94f",
   "metadata": {},
   "outputs": [
    {
     "name": "stdout",
     "output_type": "stream",
     "text": [
      "Overwriting src/w5_etherBalance.js\n"
     ]
    }
   ],
   "source": [
    "%%writefile src/w5_etherBalance.js\n",
    "var Web3=require('web3');\n",
    "var web3=new Web3('http://127.0.0.1:8345');\n",
    "web3.eth.getBalance(\"0xded91ce5590557e8a685d13a7272e9c3b01df252\").then(web3.utils.fromWei).then(console.log);"
   ]
  },
  {
   "cell_type": "code",
   "execution_count": 113,
   "id": "4615961e",
   "metadata": {},
   "outputs": [
    {
     "name": "stdout",
     "output_type": "stream",
     "text": [
      "98.9941199999999935\r\n"
     ]
    }
   ],
   "source": [
    "!node src/w5_etherBalance.js"
   ]
  },
  {
   "cell_type": "code",
   "execution_count": 107,
   "id": "60767c8c",
   "metadata": {},
   "outputs": [
    {
     "name": "stdout",
     "output_type": "stream",
     "text": [
      "Overwriting src/w5_balanceWithasync.js\n"
     ]
    }
   ],
   "source": [
    "%%writefile src/w5_balanceWithasync.js\n",
    "var Web3=require('web3');\n",
    "var web3=new Web3('http://127.0.0.1:8345');\n",
    "async function toEther(){\n",
    "    wei_balance=await web3.eth.getBalance(\"0xded91ce5590557e8a685d13a7272e9c3b01df252\");\n",
    "    ether_balance=await web3.utils.fromWei(wei_balance);\n",
    "    console.log('balance in ether : ', ether_balance);\n",
    "}\n",
    "toEther()"
   ]
  },
  {
   "cell_type": "code",
   "execution_count": 104,
   "id": "f06760cf",
   "metadata": {},
   "outputs": [
    {
     "name": "stdout",
     "output_type": "stream",
     "text": [
      "balance in ether :  98.9941199999999935\r\n"
     ]
    }
   ],
   "source": [
    "!node src/w5_balanceWithasync.js"
   ]
  },
  {
   "cell_type": "markdown",
   "id": "45a9b832",
   "metadata": {},
   "source": [
    "##### 2-2\n",
    "현재 거래소 환전 가격을 구해서 한화로 계산하여 얼마인지 출력하세요. 환전 가격은 거래소 가격을 읽어서 프로그램에 코딩한다.\n",
    "\n",
    "현재가격 : 4,072,000 원 ( 4월 9일 토요일 오전 00:44 기준)"
   ]
  },
  {
   "cell_type": "code",
   "execution_count": 119,
   "id": "7498a197",
   "metadata": {},
   "outputs": [
    {
     "name": "stdout",
     "output_type": "stream",
     "text": [
      "Overwriting src/w5_etherToWon.js\n"
     ]
    }
   ],
   "source": [
    "%%writefile src/w5_etherToWon.js\n",
    "var Web3=require('web3');\n",
    "var web3=new Web3('http://127.0.0.1:8345');\n",
    "async function toWon(){\n",
    "    wei_balance=await web3.eth.getBalance(\"0xded91ce5590557e8a685d13a7272e9c3b01df252\");\n",
    "    ether_balance=await web3.utils.fromWei(wei_balance);\n",
    "    console.log('현재 ether의 원화 가치 : ', ether_balance * 4072000,'won');\n",
    "}\n",
    "toWon()"
   ]
  },
  {
   "cell_type": "code",
   "execution_count": 120,
   "id": "e7f74b24",
   "metadata": {},
   "outputs": [
    {
     "name": "stdout",
     "output_type": "stream",
     "text": [
      "현재 ether의 원화 가치 :  \u001b[33m403104056.64\u001b[39m won\r\n"
     ]
    }
   ],
   "source": [
    "!node src/w5_etherToWon.js"
   ]
  },
  {
   "cell_type": "code",
   "execution_count": null,
   "id": "cef95dee",
   "metadata": {},
   "outputs": [],
   "source": []
  }
 ],
 "metadata": {
  "kernelspec": {
   "display_name": "Python 3 (ipykernel)",
   "language": "python",
   "name": "python3"
  },
  "language_info": {
   "codemirror_mode": {
    "name": "ipython",
    "version": 3
   },
   "file_extension": ".py",
   "mimetype": "text/x-python",
   "name": "python",
   "nbconvert_exporter": "python",
   "pygments_lexer": "ipython3",
   "version": "3.9.12"
  }
 },
 "nbformat": 4,
 "nbformat_minor": 5
}
