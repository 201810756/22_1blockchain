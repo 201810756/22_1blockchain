{
 "cells": [
  {
   "cell_type": "markdown",
   "id": "203ee46a",
   "metadata": {},
   "source": [
    "### 블록체인프로그래밍 13주차 과제\n",
    "##### 휴먼지능정보공학과 201810756 김대환 "
   ]
  },
  {
   "cell_type": "markdown",
   "id": "f973a42c",
   "metadata": {},
   "source": [
    "---\n",
    "A, B 2인의 가위바위보 후 내기금액을 이긴 사람에게 지급하는 게임을 블록체인에 개발하세요.\n",
    "\n",
    "게임 컨트랙은 Rsp, 구현할 함수는 다음과 같다. 그 외 필요로 하는 함수는 추가할 수 있다.\n",
    "\n",
    "---"
   ]
  },
  {
   "cell_type": "markdown",
   "id": "c4c79843",
   "metadata": {},
   "source": [
    "##### [컨트랙 설명]\n",
    "* User struct 선언 : 이름, 배팅액, 자신의 패, 잔고를 가지고 있음\n",
    "* 처음에 initBal() function을 통해 개인 잔고 충전(onlyOwner modifier 사용 -> 게임의 주인? 느낌, host가 허락해야 충전할 수 있도록)\n",
    "* setA() function은 파라미터로 배팅액(uint)을 받음. 랜덤하게 0,1,2 난수 발생해서 자신의 패 결정\n",
    "    * onlyAhasMoney modifier 사용 -> A가 자신의 잔액보다 높은 배팅액을 걸었을 경우 게임 실행 X\n",
    "* setB() function은 파라미터로 패(uint), 배팅액(uint)를 받음. \n",
    "    * onlyBhasMoney modifier 사용 -> B가 자신의 잔액보다 높은 배팅액을 걸었을 경우 게임 실행 X\n",
    "* play() function :  게임 실행 결과를 저장 \n",
    "* distribuateBetAmount() function : 게임 실행 결과에 맞게 잔액 재설정\n",
    "* getMatchResult() function : 게임 결과 반환 \n",
    "* getBalance() function : 각 계정 및 컨트랙의 잔고 반환"
   ]
  },
  {
   "cell_type": "code",
   "execution_count": 2,
   "id": "06a5cee8",
   "metadata": {},
   "outputs": [
    {
     "name": "stdout",
     "output_type": "stream",
     "text": [
      "Overwriting src/Rsp.sol\n"
     ]
    }
   ],
   "source": [
    "%%writefile src/Rsp.sol\n",
    "//SPDX-License-Identifier: GPL-3.0-or-later\n",
    "pragma solidity 0.8.12;\n",
    "\n",
    "contract RSP{\n",
    "    struct User{\n",
    "        string userName;\n",
    "        uint amount;\n",
    "        uint card;\n",
    "        uint balance;\n",
    "    }\n",
    "    User A;\n",
    "    User B;\n",
    "    string result;\n",
    "    address owner;\n",
    "    constructor(){\n",
    "        owner = msg.sender;\n",
    "    }\n",
    "    function initBal(uint _balance) payable public onlyOwner{\n",
    "        require(msg.value == _balance);\n",
    "        A.balance = _balance;\n",
    "        B.balance = _balance;\n",
    "    }\n",
    "    function setA(uint _amount) public onlyAhasMoney{\n",
    "        uint cardNum = uint8(uint256(keccak256(abi.encodePacked(block.timestamp, block.difficulty)))%3);\n",
    "        // 0 : 가위, 1 : 바위, 2 : 보\n",
    "        A.userName = \"A\";\n",
    "        A.amount = _amount;\n",
    "        A.card = cardNum;\n",
    "    }\n",
    "    function setB(uint _cardNum, uint _amount) public onlyBhasMoney{\n",
    "        B.userName = \"B\";\n",
    "        B.amount = _amount;\n",
    "        B.card = _cardNum;\n",
    "    }\n",
    "    function play() public{\n",
    "        uint cardA = A.card;\n",
    "        uint cardB = B.card;\n",
    "        if(cardA == cardB) result = \"tie\";\n",
    "        else if((cardA == 0 && cardB == 2) || (cardA == 1 && cardB == 0) || (cardA == 2 && cardB ==1)) result = \"A wins\";\n",
    "        else result = \"B wins\";\n",
    "        }\n",
    "    function distribuateBetAmount() payable public{\n",
    "        if(keccak256(abi.encodePacked(result)) == keccak256(abi.encodePacked(\"A wins\"))){\n",
    "            A.balance += B.amount;\n",
    "            B.balance -= B.amount;\n",
    "        }\n",
    "        else if(keccak256(abi.encodePacked(result)) == keccak256(abi.encodePacked(\"B wins\"))){\n",
    "            B.balance += A.amount;\n",
    "            A.balance -= A.amount;\n",
    "        }\n",
    "    }\n",
    "    function getMatchResult() public view returns (string memory){\n",
    "        return result;\n",
    "    }\n",
    "    function getBalance() public view returns (uint, uint, uint){\n",
    "        return (A.balance, B.balance, address(this).balance);\n",
    "    }\n",
    "    modifier onlyOwner(){\n",
    "        require(msg.sender == owner);\n",
    "        _;\n",
    "    }\n",
    "    modifier onlyAhasMoney(){\n",
    "        require(A.balance >= A.amount);\n",
    "        _;\n",
    "    }\n",
    "    modifier onlyBhasMoney(){\n",
    "        require(B.balance >= B.amount);\n",
    "        _;\n",
    "    }\n",
    "}\n"
   ]
  },
  {
   "cell_type": "code",
   "execution_count": 3,
   "id": "ae079ffb",
   "metadata": {},
   "outputs": [],
   "source": [
    "!solc --optimize --combined-json abi,bin src/Rsp.sol > src/Rsp.json"
   ]
  },
  {
   "cell_type": "code",
   "execution_count": 4,
   "id": "795a3fa2",
   "metadata": {},
   "outputs": [
    {
     "name": "stdout",
     "output_type": "stream",
     "text": [
      "{\"contracts\":{\"src/Rsp.sol:RSP\":{\"abi\":[{\"inputs\":[],\"stateMutability\":\"nonpayable\",\"type\":\"constructor\"},{\"inputs\":[],\"name\":\"distribuateBetAmount\",\"outputs\":[],\"stateMutability\":\"payable\",\"type\":\"function\"},{\"inputs\":[],\"name\":\"getBalance\",\"outputs\":[{\"internalType\":\"uint256\",\"name\":\"\",\"type\":\"uint256\"},{\"internalType\":\"uint256\",\"name\":\"\",\"type\":\"uint256\"},{\"internalType\":\"uint256\",\"name\":\"\",\"type\":\"uint256\"}],\"stateMutability\":\"view\",\"type\":\"function\"},{\"inputs\":[],\"name\":\"getMatchResult\",\"outputs\":[{\"internalType\":\"string\",\"name\":\"\",\"type\":\"string\"}],\"stateMutability\":\"view\",\"type\":\"function\"},{\"inputs\":[{\"internalType\":\"uint256\",\"name\":\"_balance\",\"type\":\"uint256\"}],\"name\":\"initBal\",\"outputs\":[],\"stateMutability\":\"payable\",\"type\":\"function\"},{\"inputs\":[],\"name\":\"play\",\"outputs\":[],\"stateMutability\":\"nonpayable\",\"type\":\"function\"},{\"inputs\":[{\"internalType\":\"uint256\",\"name\":\"_amount\",\"type\":\"uint256\"}],\"name\":\"setA\",\"outputs\":[],\"stateMutability\":\"nonpayable\",\"type\":\"function\"},{\"inputs\":[{\"internalType\":\"uint256\",\"name\":\"_cardNum\",\"type\":\"uint256\"},{\"internalType\":\"uint256\",\"name\":\"_amount\",\"type\":\"uint256\"}],\"name\":\"setB\",\"outputs\":[],\"stateMutability\":\"nonpayable\",\"type\":\"function\"}],\"bin\":\"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\"}},\"version\":\"0.8.12+commit.f00d7308.Darwin.appleclang\"}\r\n"
     ]
    }
   ],
   "source": [
    "!cat src/Rsp.json"
   ]
  },
  {
   "cell_type": "markdown",
   "id": "9f06aae6",
   "metadata": {},
   "source": [
    "##### [배포하기]"
   ]
  },
  {
   "cell_type": "code",
   "execution_count": 7,
   "id": "536ab2ba",
   "metadata": {},
   "outputs": [
    {
     "name": "stdout",
     "output_type": "stream",
     "text": [
      "Overwriting src/RspDeploy.js\n"
     ]
    }
   ],
   "source": [
    "%%writefile src/RspDeploy.js\n",
    "var Web3 = require('web3');\n",
    "var _abiBinJson = require('./Rsp.json');\n",
    "var web3 = new Web3(new Web3.providers.HttpProvider(\"http://127.0.0.1:8345\"));\n",
    "contractName=Object.keys(_abiBinJson.contracts);\n",
    "_abi=_abiBinJson.contracts[contractName].abi;\n",
    "_abiArray=JSON.parse(JSON.stringify(_abi));\n",
    "_bin=_abiBinJson.contracts[contractName].bin;\n",
    "async function deploy(){\n",
    "    const accounts = await web3.eth.getAccounts();\n",
    "     new web3.eth.Contract(_abiArray).deploy({data: _bin}).estimateGas(function(err, gas) {\n",
    "        if(!err) console.log(\">> estimated gas: \"+ gas);\n",
    "    });\n",
    "    var deployed = await new web3.eth.Contract(_abiArray)\n",
    "        .deploy({data : \"0x\"+_bin})\n",
    "        .send({from: accounts[0], gas: 482645}, function(err,transactionHash){\n",
    "            if(!err) console.log(\"hash: \"+transactionHash);\n",
    "        })\n",
    "    console.log(deployed.options.address)\n",
    "}\n",
    "deploy()"
   ]
  },
  {
   "cell_type": "code",
   "execution_count": 8,
   "id": "4d77b6b9",
   "metadata": {},
   "outputs": [
    {
     "name": "stdout",
     "output_type": "stream",
     "text": [
      ">> estimated gas: 482645\n",
      "hash: 0x69183ab06a838c176829dad66104923e67d5e2dd26d68a35931d0b6eb71b54ad\n",
      "0x4c362EbF5142850e2EB9ff27F28101D7CBFbBFe7\n"
     ]
    }
   ],
   "source": [
    "!node src/RspDeploy.js"
   ]
  },
  {
   "cell_type": "markdown",
   "id": "78c975c9",
   "metadata": {},
   "source": [
    "##### [사용하기]"
   ]
  },
  {
   "cell_type": "code",
   "execution_count": 9,
   "id": "589bc7a2",
   "metadata": {},
   "outputs": [
    {
     "name": "stdout",
     "output_type": "stream",
     "text": [
      "Writing src/RspUse_1.js\n"
     ]
    }
   ],
   "source": [
    "%%writefile src/RspUse_1.js\n",
    "var Web3 = require('web3');\n",
    "var _abiBinJson = require('./Rsp.json');\n",
    "var web3 = new Web3(new Web3.providers.HttpProvider(\"http://127.0.0.1:8345\"));\n",
    "contractName=Object.keys(_abiBinJson.contracts);\n",
    "_abi=_abiBinJson.contracts[contractName].abi;\n",
    "_abiArray=JSON.parse(JSON.stringify(_abi));\n",
    "var RspGame = new web3.eth.Contract(_abiArray,'0x4c362EbF5142850e2EB9ff27F28101D7CBFbBFe7');\n",
    "async function use(){\n",
    "    const accounts = await web3.eth.getAccounts();\n",
    "    await RspGame.methods.initBal(3000).send({from:accounts[0], gas:259210, value : 3000});\n",
    "    await RspGame.methods.getBalance().call().then(function(value){\n",
    "        console.log(\"(1) [initial state of balance]\\n\"+\"A: \",value[0]+\"\\nB: \",value[1]+\"\\nContract: \",value[2])\n",
    "    });\n",
    "}\n",
    "use()"
   ]
  },
  {
   "cell_type": "markdown",
   "id": "49a649c4",
   "metadata": {},
   "source": [
    "##### [A,B 플레이어 모두 초기 자금으로 3000 wei 충전]\n",
    "##### [게임 전의 A잔고, B잔고, 컨트랙 잔고 출력]"
   ]
  },
  {
   "cell_type": "code",
   "execution_count": 10,
   "id": "67e3d66d",
   "metadata": {},
   "outputs": [
    {
     "name": "stdout",
     "output_type": "stream",
     "text": [
      "(1) [initial state of balance]\r\n",
      "A:  3000\r\n",
      "B:  3000\r\n",
      "Contract:  3000\r\n"
     ]
    }
   ],
   "source": [
    "!node src/RspUse_1.js"
   ]
  },
  {
   "cell_type": "code",
   "execution_count": 13,
   "id": "e52979f6",
   "metadata": {},
   "outputs": [
    {
     "name": "stdout",
     "output_type": "stream",
     "text": [
      "Overwriting src/RspUse_2.js\n"
     ]
    }
   ],
   "source": [
    "%%writefile src/RspUse_2.js\n",
    "var Web3 = require('web3');\n",
    "var _abiBinJson = require('./Rsp.json');\n",
    "var web3 = new Web3(new Web3.providers.HttpProvider(\"http://127.0.0.1:8345\"));\n",
    "contractName=Object.keys(_abiBinJson.contracts);\n",
    "_abi=_abiBinJson.contracts[contractName].abi;\n",
    "_abiArray=JSON.parse(JSON.stringify(_abi));\n",
    "var RspGame = new web3.eth.Contract(_abiArray,'0x4c362EbF5142850e2EB9ff27F28101D7CBFbBFe7');\n",
    "async function use(){\n",
    "    const accounts = await web3.eth.getAccounts();\n",
    "    // A,B 모두 1000wei 배팅, B는 1(바위) 내기로 함\n",
    "    await RspGame.methods.setA(1000).send({from:accounts[0], gas:259210});\n",
    "    await RspGame.methods.setB(1,1000).send({from:accounts[0], gas:259210});\n",
    "    await RspGame.methods.play().send({from:accounts[0],gas:259210});\n",
    "    await RspGame.methods.getMatchResult().call().then(function(value){\n",
    "        console.log(\"(2) [game result] : \", value)\n",
    "    });\n",
    "    await RspGame.methods.distribuateBetAmount().send({from:accounts[0], gas:259210});\n",
    "    await RspGame.methods.getBalance().call().then(function(value){\n",
    "        console.log(\"(3) [state of balance after Game]\\n\"+\"A: \",value[0]+\"\\nB: \",value[1]+\"\\nContract: \",value[2])\n",
    "    });\n",
    "}\n",
    "use()"
   ]
  },
  {
   "cell_type": "markdown",
   "id": "a607fd46",
   "metadata": {},
   "source": [
    "#### [첫번째 경기, B가 바위를 냈고 A는 랜덤으로 결정, B가 이겼으므로 B의 잔고가 A의 배팅액 만큼 늘었음]"
   ]
  },
  {
   "cell_type": "code",
   "execution_count": 14,
   "id": "44337ac5",
   "metadata": {},
   "outputs": [
    {
     "name": "stdout",
     "output_type": "stream",
     "text": [
      "(2) [game result] :  B wins\n",
      "(3) [state of balance after Game]\n",
      "A:  2000\n",
      "B:  4000\n",
      "Contract:  3000\n"
     ]
    }
   ],
   "source": [
    "!node src/RspUse_2.js"
   ]
  },
  {
   "cell_type": "markdown",
   "id": "1db5fb24",
   "metadata": {},
   "source": [
    "##### [두번째 경기, 다시 B가 이김]"
   ]
  },
  {
   "cell_type": "code",
   "execution_count": 15,
   "id": "7e05570c",
   "metadata": {},
   "outputs": [
    {
     "name": "stdout",
     "output_type": "stream",
     "text": [
      "(2) [game result] :  B wins\r\n",
      "(3) [state of balance after Game]\r\n",
      "A:  1000\r\n",
      "B:  5000\r\n",
      "Contract:  3000\r\n"
     ]
    }
   ],
   "source": [
    "!node src/RspUse_2.js"
   ]
  },
  {
   "cell_type": "markdown",
   "id": "071b6029",
   "metadata": {},
   "source": [
    "##### [3번째 경기, 무승부, 두 플레이어 모두 잔고 변화 없음]"
   ]
  },
  {
   "cell_type": "code",
   "execution_count": 16,
   "id": "07b4c42e",
   "metadata": {},
   "outputs": [
    {
     "name": "stdout",
     "output_type": "stream",
     "text": [
      "(2) [game result] :  tie\n",
      "(3) [state of balance after Game]\n",
      "A:  1000\n",
      "B:  5000\n",
      "Contract:  3000\n"
     ]
    }
   ],
   "source": [
    "!node src/RspUse_2.js"
   ]
  },
  {
   "cell_type": "markdown",
   "id": "725935ef",
   "metadata": {},
   "source": [
    "##### [4번째 경기, B의 승리, A의 잔고 0]"
   ]
  },
  {
   "cell_type": "code",
   "execution_count": 17,
   "id": "d71a5b2b",
   "metadata": {},
   "outputs": [
    {
     "name": "stdout",
     "output_type": "stream",
     "text": [
      "(2) [game result] :  B wins\n",
      "(3) [state of balance after Game]\n",
      "A:  0\n",
      "B:  6000\n",
      "Contract:  3000\n"
     ]
    }
   ],
   "source": [
    "!node src/RspUse_2.js"
   ]
  },
  {
   "cell_type": "markdown",
   "id": "34baffe9",
   "metadata": {},
   "source": [
    "##### [A가 잔고가 없는 상태로 게임을 진행하려하자 예외 발생 -> 게임 실행 X]"
   ]
  },
  {
   "cell_type": "code",
   "execution_count": 18,
   "id": "c78cd68e",
   "metadata": {},
   "outputs": [
    {
     "name": "stdout",
     "output_type": "stream",
     "text": [
      "/Users/kimdaehwan/Desktop/Code/201810756/node_modules/web3-core-helpers/src/errors.js:29\r\n",
      "        return new Error('Returned error: ' + message);\r\n",
      "               ^\r\n",
      "\r\n",
      "Error: Returned error: VM Exception while processing transaction: revert\r\n",
      "    at Object.ErrorResponse (/Users/kimdaehwan/Desktop/Code/201810756/node_modules/\u001b[4mweb3-core-helpers\u001b[24m/src/errors.js:29:16)\r\n",
      "    at /Users/kimdaehwan/Desktop/Code/201810756/node_modules/\u001b[4mweb3-core-requestmanager\u001b[24m/src/index.js:140:36\r\n",
      "    at XMLHttpRequest.request.onreadystatechange (/Users/kimdaehwan/Desktop/Code/201810756/node_modules/\u001b[4mweb3-providers-http\u001b[24m/src/index.js:110:13)\r\n",
      "    at XMLHttpRequestEventTarget.dispatchEvent (/Users/kimdaehwan/Desktop/Code/201810756/node_modules/\u001b[4mxhr2-cookies\u001b[24m/dist/xml-http-request-event-target.js:34:22)\r\n",
      "    at XMLHttpRequest._setReadyState (/Users/kimdaehwan/Desktop/Code/201810756/node_modules/\u001b[4mxhr2-cookies\u001b[24m/dist/xml-http-request.js:208:14)\r\n",
      "    at XMLHttpRequest._onHttpResponseEnd (/Users/kimdaehwan/Desktop/Code/201810756/node_modules/\u001b[4mxhr2-cookies\u001b[24m/dist/xml-http-request.js:318:14)\r\n",
      "    at IncomingMessage.<anonymous> (/Users/kimdaehwan/Desktop/Code/201810756/node_modules/\u001b[4mxhr2-cookies\u001b[24m/dist/xml-http-request.js:289:61)\r\n",
      "\u001b[90m    at IncomingMessage.emit (node:events:539:35)\u001b[39m\r\n",
      "\u001b[90m    at endReadableNT (node:internal/streams/readable:1345:12)\u001b[39m\r\n",
      "\u001b[90m    at processTicksAndRejections (node:internal/process/task_queues:83:21)\u001b[39m\r\n",
      "\r\n",
      "Node.js v17.8.0\r\n"
     ]
    }
   ],
   "source": [
    "!node src/RspUse_2.js"
   ]
  },
  {
   "cell_type": "markdown",
   "id": "1dd5231b",
   "metadata": {},
   "source": [
    "> 과제 풀이 후 의문점 :\\\n",
    "이 컨트랙에서 컨트랙 잔고는 무슨 역할을 하는 것인지 정확히 모르겠습니다. 컨트랙 잔고의 변화가 없을 뿐더러 게임 진행 상황에서는 컨트랙 잔고의 사용이나 변화가 발생할 여지도 없는 것 같습니다."
   ]
  },
  {
   "cell_type": "code",
   "execution_count": null,
   "id": "ec44b4ff",
   "metadata": {},
   "outputs": [],
   "source": []
  }
 ],
 "metadata": {
  "kernelspec": {
   "display_name": "Python 3 (ipykernel)",
   "language": "python",
   "name": "python3"
  },
  "language_info": {
   "codemirror_mode": {
    "name": "ipython",
    "version": 3
   },
   "file_extension": ".py",
   "mimetype": "text/x-python",
   "name": "python",
   "nbconvert_exporter": "python",
   "pygments_lexer": "ipython3",
   "version": "3.9.12"
  }
 },
 "nbformat": 4,
 "nbformat_minor": 5
}
