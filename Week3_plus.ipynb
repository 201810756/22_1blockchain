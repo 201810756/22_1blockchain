{
 "cells": [
  {
   "cell_type": "code",
   "execution_count": 2,
   "id": "653f8ea6",
   "metadata": {},
   "outputs": [],
   "source": [
    "import hashlib\n",
    "md=hashlib.md5(\"hello hash\".encode('utf-8'))"
   ]
  },
  {
   "cell_type": "code",
   "execution_count": 5,
   "id": "a29bfb60",
   "metadata": {},
   "outputs": [
    {
     "name": "stdout",
     "output_type": "stream",
     "text": [
      "hex hash:  43900bdf9f2b6f7198c39625e347c285\n"
     ]
    }
   ],
   "source": [
    "# hexdigest는 입력문자열의 hash결과를 16진수로 돌려준다\n",
    "print(\"hex hash: \", md.hexdigest())"
   ]
  },
  {
   "cell_type": "code",
   "execution_count": 4,
   "id": "ec3bb7b4",
   "metadata": {},
   "outputs": [
    {
     "name": "stdout",
     "output_type": "stream",
     "text": [
      "number of bytes:  16\n"
     ]
    }
   ],
   "source": [
    "# digest_size는 바이트 수를 나타낸다\n",
    "print(\"number of bytes: \",md.digest_size)"
   ]
  },
  {
   "cell_type": "code",
   "execution_count": 6,
   "id": "e2b43aed",
   "metadata": {},
   "outputs": [
    {
     "name": "stdout",
     "output_type": "stream",
     "text": [
      "hex hash :  e08e1d7bd3fec53b7360de39482ac30d8d1b7bedead27e013810e29095fee6fb\n",
      "number of bytes:  32\n"
     ]
    }
   ],
   "source": [
    "# sha256으로 해싱\n",
    "sha=hashlib.sha256(\"hello hash\".encode('utf-8'))\n",
    "print(\"hex hash : \",sha.hexdigest())\n",
    "print(\"number of bytes: \", sha.digest_size)"
   ]
  },
  {
   "cell_type": "code",
   "execution_count": 8,
   "id": "f4e3cb3c",
   "metadata": {},
   "outputs": [
    {
     "name": "stdout",
     "output_type": "stream",
     "text": [
      "hello hash0 => 6ca988a75d4e2ec1cd54f770ecb7481596b17914c0aead02e1ac7b2c6e55b7f4\n",
      "hello hash1 => d855ca459cebe93dfa6692f108b523db6300a431a2aaef7fb6880d418f3bfc60\n",
      "hello hash2 => 1f70312c0b5ea83976c4d594ce4fe4084a1f07f5baf689ac10e6992e2e494a3d\n",
      "hello hash3 => 91ee984baf3f0645c83d1b009ceedc4c173b753cc36ac6030644c023c562948a\n",
      "hello hash4 => 26bafb8d7e5e24c477183baf2b775206020e52ec029989fd01efa39161020099\n",
      "hello hash5 => eb64e466283cbf67eb4a5ed39dfc77bd57c54ada6980df366770811285e46590\n",
      "hello hash6 => 344cccffbb01d9601498db192657cff6ae0f03f1146619398df09e28c2e76f3b\n",
      "hello hash7 => 2bddc7f25e660930a403fe3a4daca7e26b15562870f32c1fa2956a5214cf6fd0\n",
      "hello hash8 => b1a61f5f62ab021f52ffec7a20a2e8bacfa839524ad080254c47ccddefac0d1e\n",
      "hello hash9 => 039c9d9a356d102ae644bb6faeae98e20bb6a5c61d3c81dc2516e100aa0ce2e1\n"
     ]
    }
   ],
   "source": [
    "text=\"hello hash\"\n",
    "for nonce in range(10):\n",
    "    input=text+str(nonce)\n",
    "    hash=hashlib.sha256(input.encode('utf-8')).hexdigest()\n",
    "    print(input,'=>',hash)\n",
    "# 입력 값이 조금만 달라져도 해시 값은 완전히 달라지는 것을 알 수 있음 "
   ]
  },
  {
   "cell_type": "markdown",
   "id": "29675519",
   "metadata": {},
   "source": [
    "# 디지털 서명"
   ]
  },
  {
   "cell_type": "code",
   "execution_count": 9,
   "id": "e6179efd",
   "metadata": {},
   "outputs": [
    {
     "name": "stdout",
     "output_type": "stream",
     "text": [
      "privKey: 3e295c8dc78fb7f3865067dfc42fe845263db7661296e7e32e3a37baa1a27a7b\n",
      "pubKey: 04f6cc26cec156c180f8a215cf54db7799d0d42179f1e0b628cf364f09da95f17d5aab7edeeb1f529137a241d07cec555b2d8ec44a4cd24e87cf98001d428f564f\n",
      "addr:  1NthZ9kJVbtxrHQiocfjLLTcMH3F2DLcgD\n"
     ]
    }
   ],
   "source": [
    "import bitcoin\n",
    "# 디지털 서명에 필요한 키 생성 \n",
    "privKey=bitcoin.sha256('hello key') \n",
    "pubKey=bitcoin.privtopub(privKey) \n",
    "addr=bitcoin.pubtoaddr(pubKey)\n",
    "print(\"privKey:\",privKey)\n",
    "print(\"pubKey:\",pubKey)\n",
    "print(\"addr: \",addr)"
   ]
  },
  {
   "cell_type": "code",
   "execution_count": 10,
   "id": "0be3fbec",
   "metadata": {},
   "outputs": [
    {
     "name": "stdout",
     "output_type": "stream",
     "text": [
      "signature:  Gxg7F5VjSyguXWt0TGKt5op0iQZVDK22Pa1aumPpC5gRbhc1iAPdAK4p+MZNRbQcFz8BTvljoT9YYv88pTZvw30=\n"
     ]
    }
   ],
   "source": [
    "# 송신측에서 약속을 정하는 메시지 사적키로 사인을 해서 보냄\n",
    "msg=\"let's meet in my office at 10 in the morning.\"\n",
    "sig=bitcoin.ecdsa_sign(msg,privKey)\n",
    "print(\"signature: \",sig)"
   ]
  },
  {
   "cell_type": "code",
   "execution_count": 11,
   "id": "af98e0d7",
   "metadata": {},
   "outputs": [
    {
     "name": "stdout",
     "output_type": "stream",
     "text": [
      "verified:  True\n"
     ]
    }
   ],
   "source": [
    "# 수신측에서 공개키로 그 메시지를 검증해서 원본임을 확인\n",
    "print(\"verified: \",bitcoin.ecdsa_verify(msg,sig,pubKey))"
   ]
  },
  {
   "cell_type": "code",
   "execution_count": 12,
   "id": "58965af7",
   "metadata": {},
   "outputs": [
    {
     "name": "stdout",
     "output_type": "stream",
     "text": [
      "verified:  False\n"
     ]
    }
   ],
   "source": [
    "# 위조 시도 \n",
    "msg1=\"let's meet in my office at 12 in the morning.\"\n",
    "print(\"verified: \", bitcoin.ecdsa_verify(msg1,sig,pubKey))"
   ]
  },
  {
   "cell_type": "code",
   "execution_count": null,
   "id": "382e8a3a",
   "metadata": {},
   "outputs": [],
   "source": []
  }
 ],
 "metadata": {
  "kernelspec": {
   "display_name": "Python 3 (ipykernel)",
   "language": "python",
   "name": "python3"
  },
  "language_info": {
   "codemirror_mode": {
    "name": "ipython",
    "version": 3
   },
   "file_extension": ".py",
   "mimetype": "text/x-python",
   "name": "python",
   "nbconvert_exporter": "python",
   "pygments_lexer": "ipython3",
   "version": "3.9.10"
  }
 },
 "nbformat": 4,
 "nbformat_minor": 5
}
