{
 "cells": [
  {
   "cell_type": "markdown",
   "id": "25d64eda",
   "metadata": {},
   "source": [
    "### [week10_assignment]\n",
    "#### 휴먼지능정보공학과 201810756 김대환"
   ]
  },
  {
   "cell_type": "markdown",
   "id": "7acf2513",
   "metadata": {},
   "source": [
    "---\n",
    "\n",
    "##### [컨트랙 구현] "
   ]
  },
  {
   "cell_type": "markdown",
   "id": "037bebbf",
   "metadata": {},
   "source": [
    "~~~\n",
    "//SPDX-License-Identifier: GPL-3.0-or-later\n",
    "pragma solidity 0.8.12;\n",
    "\n",
    "contract StudentCrud{\n",
    "    uint[] student_number;\n",
    "    string[] student_name;\n",
    "    bool[] enrolled;\n",
    "    function insert(uint n, string memory sn, bool e) public{\n",
    "        student_number.push(n);\n",
    "        student_name.push(sn);\n",
    "        enrolled.push(e);\n",
    "    }\n",
    "    function getFirstStudent() public view returns(uint, string memory, bool){\n",
    "        return (student_number[0],student_name[0],enrolled[0]);\n",
    "    }\n",
    "    function findBy(uint8 index) view public returns(uint, string memory, bool){\n",
    "        return (student_number[index-1],student_name[index-1],enrolled[index-1]);\n",
    "    }\n",
    "    function remove(uint index) public{\n",
    "        for(uint i=index-1;i<student_number.length-1;i++){\n",
    "            student_number[i]=student_number[i+1];\n",
    "            student_name[i]=student_name[i+1];\n",
    "            enrolled[i]=enrolled[i+1];\n",
    "        }\n",
    "        student_number.pop();\n",
    "        student_name.pop();\n",
    "        enrolled.pop();\n",
    "    }\n",
    "    function getLength() view public returns(uint){\n",
    "        return student_number.length;\n",
    "    }\n",
    "    function pop() public{\n",
    "        student_number.pop();\n",
    "        student_name.pop();\n",
    "        enrolled.pop();\n",
    "    }\n",
    "}\n",
    "~~~"
   ]
  },
  {
   "cell_type": "markdown",
   "id": "460828f7",
   "metadata": {},
   "source": [
    "##### [1] 항목 입력 \n",
    "\n",
    "transact to StudentCrud.insert pending ...\n",
    "\n",
    "[vm]from: 0x5B3...eddC4to: StudentCrud.insert(uint256,string,bool) 0xd91...39138value: 0 \n",
    "weidata: 0xf07...00000logs: 0hash: 0x342...bacfc\n",
    "\n",
    "transact to StudentCrud.insert pending ... \n",
    "\n",
    "[vm]from: 0x5B3...eddC4to: StudentCrud.insert(uint256,string,bool) 0xd91...39138value: 0 weidata: 0xf07...00000logs: 0hash: 0xb98...e18f4\n",
    "\n",
    "transact to StudentCrud.insert pending ... \n",
    "\n",
    "[vm]from: 0x5B3...eddC4to: StudentCrud.insert(uint256,string,bool) 0xd91...39138value: 0 weidata: 0xf07...00000logs: 0hash: 0x181...05dd4\n",
    "\n",
    "transact to StudentCrud.insert pending ... \n",
    "\n",
    "[vm]from: 0x5B3...eddC4to: StudentCrud.insert(uint256,string,bool) 0xd91...39138value: 0 weidata: 0xf07...00000logs: 0hash: 0x7bf...7e6b5\n",
    "\n"
   ]
  },
  {
   "cell_type": "markdown",
   "id": "9ec1fe0e",
   "metadata": {},
   "source": [
    "##### [2] 2번째 데이터 삭제 \n",
    "transact to StudentCrud.remove pending ... \n",
    "\n",
    "[vm]from: 0x5B3...eddC4to: StudentCrud.remove(uint256) 0xd91...39138value: 0 weidata: 0x4cc...00002logs: 0hash: 0x8c8...cb034\n"
   ]
  },
  {
   "cell_type": "markdown",
   "id": "1e34f6c3",
   "metadata": {},
   "source": [
    "##### [3] 배열 크기 조회 \n",
    "call to StudentCrud.getLength\n",
    "\n",
    "CALL\n",
    "[call]from: 0x5B38Da6a701c568545dCfcB03FcB875f56beddC4to: StudentCrud.getLength()data: 0xbe1...c766b"
   ]
  },
  {
   "cell_type": "markdown",
   "id": "ed936e56",
   "metadata": {},
   "source": [
    "##### [4] 2번째 데이터 조회\n",
    "call to StudentCrud.findBy\n",
    "\n",
    "CALL\n",
    "[call]from: 0x5B38Da6a701c568545dCfcB03FcB875f56beddC4to: StudentCrud.findBy(uint8)data: 0xedf...00002\n"
   ]
  },
  {
   "cell_type": "markdown",
   "id": "3bdec586",
   "metadata": {},
   "source": [
    "##### [5] 첫 데이터 조회\n",
    "call to StudentCrud.getFirstStudent\n",
    "CALL\n",
    "\n",
    "[call]from: 0x5B38Da6a701c568545dCfcB03FcB875f56beddC4to: StudentCrud.getFirstStudent()data: 0xacb...e8cee\n"
   ]
  },
  {
   "cell_type": "markdown",
   "id": "a70140bc",
   "metadata": {},
   "source": [
    "----"
   ]
  },
  {
   "cell_type": "markdown",
   "id": "433437b3",
   "metadata": {},
   "source": [
    "##### [노드에서 배포 및 실행] ganache 8345"
   ]
  },
  {
   "cell_type": "code",
   "execution_count": 1,
   "id": "bca05b0c",
   "metadata": {},
   "outputs": [
    {
     "name": "stdout",
     "output_type": "stream",
     "text": [
      "Writing src/StudentCrud.sol\n"
     ]
    }
   ],
   "source": [
    "%%writefile src/StudentCrud.sol\n",
    "pragma solidity 0.8.12;\n",
    "contract StudentCrud{\n",
    "    uint[] student_number;\n",
    "    string[] student_name;\n",
    "    bool[] enrolled;\n",
    "    function insert(uint n, string memory sn, bool e) public{\n",
    "        student_number.push(n);\n",
    "        student_name.push(sn);\n",
    "        enrolled.push(e);\n",
    "    }\n",
    "    function getFirstStudent() public view returns(uint, string memory, bool){\n",
    "        return (student_number[0],student_name[0],enrolled[0]);\n",
    "    }\n",
    "    function findBy(uint8 index) view public returns(uint, string memory, bool){\n",
    "        return (student_number[index-1],student_name[index-1],enrolled[index-1]);\n",
    "    }\n",
    "    function remove(uint index) public{\n",
    "        for(uint i=index-1;i<student_number.length-1;i++){\n",
    "            student_number[i]=student_number[i+1];\n",
    "            student_name[i]=student_name[i+1];\n",
    "            enrolled[i]=enrolled[i+1];\n",
    "        }\n",
    "        student_number.pop();\n",
    "        student_name.pop();\n",
    "        enrolled.pop();\n",
    "    }\n",
    "    function getLength() view public returns(uint){\n",
    "        return student_number.length;\n",
    "    }\n",
    "    function pop() public{\n",
    "        student_number.pop();\n",
    "        student_name.pop();\n",
    "        enrolled.pop();\n",
    "    }\n",
    "}"
   ]
  },
  {
   "cell_type": "code",
   "execution_count": 2,
   "id": "8d6f7119",
   "metadata": {},
   "outputs": [
    {
     "name": "stdout",
     "output_type": "stream",
     "text": [
      "\u001b[1m\u001b[33mWarning\u001b[0m\u001b[1m\u001b[37m: SPDX license identifier not provided in source file. Before publishing, consider adding a comment containing \"SPDX-License-Identifier: <SPDX-License>\" to each source file. Use \"SPDX-License-Identifier: UNLICENSED\" for non-open-source code. Please see https://spdx.org for more information.\r\n",
      "\u001b[0m\u001b[1m\u001b[34m-->\u001b[0m src/StudentCrud.sol\r\n",
      "\r\n"
     ]
    }
   ],
   "source": [
    "!solc --optimize --combined-json abi,bin src/StudentCrud.sol > src/StudentCrud.json"
   ]
  },
  {
   "cell_type": "code",
   "execution_count": 4,
   "id": "6a969798",
   "metadata": {},
   "outputs": [
    {
     "name": "stdout",
     "output_type": "stream",
     "text": [
      "{\"contracts\":{\"src/StudentCrud.sol:StudentCrud\":{\"abi\":[{\"inputs\":[{\"internalType\":\"uint8\",\"name\":\"index\",\"type\":\"uint8\"}],\"name\":\"findBy\",\"outputs\":[{\"internalType\":\"uint256\",\"name\":\"\",\"type\":\"uint256\"},{\"internalType\":\"string\",\"name\":\"\",\"type\":\"string\"},{\"internalType\":\"bool\",\"name\":\"\",\"type\":\"bool\"}],\"stateMutability\":\"view\",\"type\":\"function\"},{\"inputs\":[],\"name\":\"getFirstStudent\",\"outputs\":[{\"internalType\":\"uint256\",\"name\":\"\",\"type\":\"uint256\"},{\"internalType\":\"string\",\"name\":\"\",\"type\":\"string\"},{\"internalType\":\"bool\",\"name\":\"\",\"type\":\"bool\"}],\"stateMutability\":\"view\",\"type\":\"function\"},{\"inputs\":[],\"name\":\"getLength\",\"outputs\":[{\"internalType\":\"uint256\",\"name\":\"\",\"type\":\"uint256\"}],\"stateMutability\":\"view\",\"type\":\"function\"},{\"inputs\":[{\"internalType\":\"uint256\",\"name\":\"n\",\"type\":\"uint256\"},{\"internalType\":\"string\",\"name\":\"sn\",\"type\":\"string\"},{\"internalType\":\"bool\",\"name\":\"e\",\"type\":\"bool\"}],\"name\":\"insert\",\"outputs\":[],\"stateMutability\":\"nonpayable\",\"type\":\"function\"},{\"inputs\":[],\"name\":\"pop\",\"outputs\":[],\"stateMutability\":\"nonpayable\",\"type\":\"function\"},{\"inputs\":[{\"internalType\":\"uint256\",\"name\":\"index\",\"type\":\"uint256\"}],\"name\":\"remove\",\"outputs\":[],\"stateMutability\":\"nonpayable\",\"type\":\"function\"}],\"bin\":\"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\"}},\"version\":\"0.8.12+commit.f00d7308.Darwin.appleclang\"}\r\n"
     ]
    }
   ],
   "source": [
    "!cat src/StudentCrud.json"
   ]
  },
  {
   "cell_type": "code",
   "execution_count": 7,
   "id": "74a96b42",
   "metadata": {},
   "outputs": [
    {
     "name": "stdout",
     "output_type": "stream",
     "text": [
      "Overwriting src/StudentCrudDeploy.js\n"
     ]
    }
   ],
   "source": [
    "%%writefile src/StudentCrudDeploy.js\n",
    "var Web3=require('web3');\n",
    "var web3=new Web3(new Web3.providers.HttpProvider(\"http://127.0.0.1:8345\"));\n",
    "var _abiBinJson=require('./StudentCrud.json');\n",
    "contractName=Object.keys(_abiBinJson.contracts);\n",
    "_abi=_abiBinJson.contracts[contractName].abi;\n",
    "_abiArray=JSON.parse(JSON.stringify(_abi));\n",
    "_bin=_abiBinJson.contracts[contractName].bin;\n",
    "async function deploy(){\n",
    "    var accounts=await web3.eth.getAccounts();\n",
    "    var deployed=await new web3.eth.Contract(_abiArray)\n",
    "        .deploy({data:\"0x\"+_bin})\n",
    "        .send({from:accounts[0],gas:3641245})\n",
    "    console.log(\"contract address : \"+deployed.options.address)\n",
    "}\n",
    "deploy()"
   ]
  },
  {
   "cell_type": "code",
   "execution_count": 18,
   "id": "05cdf6c3",
   "metadata": {},
   "outputs": [
    {
     "name": "stdout",
     "output_type": "stream",
     "text": [
      "contract address : 0x9b96b96b964C6622a55ecB3b56C930661504Db3C\r\n"
     ]
    }
   ],
   "source": [
    "!node src/StudentCrudDeploy.js"
   ]
  },
  {
   "cell_type": "code",
   "execution_count": 19,
   "id": "20f31552",
   "metadata": {},
   "outputs": [
    {
     "name": "stdout",
     "output_type": "stream",
     "text": [
      "Overwriting src/StudentCrudUse.js\n"
     ]
    }
   ],
   "source": [
    "%%writefile src/StudentCrudUse.js\n",
    "var Web3=require('web3');\n",
    "var web3=new Web3(new Web3.providers.HttpProvider(\"http://127.0.0.1:8345\"));\n",
    "var _abiBinJson=require('./StudentCrud.json');\n",
    "contractName=Object.keys(_abiBinJson.contracts);\n",
    "_abi=_abiBinJson.contracts[contractName].abi;\n",
    "_abiArray=JSON.parse(JSON.stringify(_abi));\n",
    "var StudentCon=new web3.eth.Contract(_abiArray,\"0x9b96b96b964C6622a55ecB3b56C930661504Db3C\");\n",
    "async function Use(){\n",
    "    var accounts=await web3.eth.getAccounts();\n",
    "    await StudentCon.methods.insert(201711111,\"kim\",false).send({from:accounts[0],gas:1000000});\n",
    "    await StudentCon.methods.insert(201711112,\"park\",true).send({from:accounts[0],gas:1000000});\n",
    "    await StudentCon.methods.insert(201711113,\"lee\",false).send({from:accounts[0],gas:1000000});\n",
    "    await StudentCon.methods.insert(201711114,\"lim\",false).send({from:accounts[0],gas:1000000});\n",
    "    await StudentCon.methods.remove(2).send({from:accounts[0],gas:1000000});\n",
    "    StudentCon.methods.getLength().call().then(function(value){\n",
    "        console.log(\"Array length : \"+value);\n",
    "    });\n",
    "    StudentCon.methods.findBy(2).call().then(function(value){\n",
    "        console.log(value);\n",
    "    });\n",
    "    StudentCon.methods.getFirstStudent().call().then(function(value){\n",
    "        console.log(value);\n",
    "    });\n",
    "}\n",
    "Use()"
   ]
  },
  {
   "cell_type": "code",
   "execution_count": 20,
   "id": "0bb671e7",
   "metadata": {},
   "outputs": [
    {
     "name": "stdout",
     "output_type": "stream",
     "text": [
      "Array length : 3\r\n",
      "Result { \u001b[32m'0'\u001b[39m: \u001b[32m'201711113'\u001b[39m, \u001b[32m'1'\u001b[39m: \u001b[32m'lee'\u001b[39m, \u001b[32m'2'\u001b[39m: \u001b[33mfalse\u001b[39m }\r\n",
      "Result { \u001b[32m'0'\u001b[39m: \u001b[32m'201711111'\u001b[39m, \u001b[32m'1'\u001b[39m: \u001b[32m'kim'\u001b[39m, \u001b[32m'2'\u001b[39m: \u001b[33mfalse\u001b[39m }\r\n"
     ]
    }
   ],
   "source": [
    "!node src/StudentCrudUse.js"
   ]
  },
  {
   "cell_type": "markdown",
   "id": "a1fc0d1b",
   "metadata": {},
   "source": [
    "* 2번째 데이터 삭제 -> index=1 데이터 삭제 / 201711111,\"park\",true 삭제\n",
    "* 2번째 데이터 조회 -> 기존의 3번째 데이터 출력\n",
    "* 첫 데이터 조회 -> 기존의 0번째 데이터 조회 "
   ]
  },
  {
   "cell_type": "code",
   "execution_count": null,
   "id": "e4905970",
   "metadata": {},
   "outputs": [],
   "source": []
  }
 ],
 "metadata": {
  "kernelspec": {
   "display_name": "Python 3 (ipykernel)",
   "language": "python",
   "name": "python3"
  },
  "language_info": {
   "codemirror_mode": {
    "name": "ipython",
    "version": 3
   },
   "file_extension": ".py",
   "mimetype": "text/x-python",
   "name": "python",
   "nbconvert_exporter": "python",
   "pygments_lexer": "ipython3",
   "version": "3.9.12"
  }
 },
 "nbformat": 4,
 "nbformat_minor": 5
}
