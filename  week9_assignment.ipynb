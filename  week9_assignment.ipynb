{
 "cells": [
  {
   "cell_type": "markdown",
   "id": "0c39b0a6",
   "metadata": {},
   "source": [
    "## [week9_assignment]\n",
    "#### 휴먼지능정보공학과 201810756 김대환"
   ]
  },
  {
   "cell_type": "markdown",
   "id": "0564b4c5",
   "metadata": {},
   "source": [
    "----\n",
    "\n",
    "Remix 에서 실행 \n",
    "\n",
    "----"
   ]
  },
  {
   "cell_type": "markdown",
   "id": "c0ea28ff",
   "metadata": {},
   "source": [
    "##### [1] HelloInString.sol"
   ]
  },
  {
   "cell_type": "markdown",
   "id": "be6b6a9e",
   "metadata": {},
   "source": [
    "~~~python\n",
    "//SPDX-License-Identifier: GPL-3.0-or-later\n",
    "pragma solidity 0.8.12;\n",
    "contract HelloInString{\n",
    "    string toWhom=\"smu\";\n",
    "    function sayHello() view public returns(string memory){\n",
    "        return string.concat(\"Hello\",\" \",toWhom);\n",
    "    }\n",
    "    function setWhom(string memory inputString) public {\n",
    "        toWhom=inputString;\n",
    "    }\n",
    "    function getWhom() view public returns(string memory){\n",
    "        return toWhom;\n",
    "    }\n",
    "}\n",
    "~~~"
   ]
  },
  {
   "cell_type": "markdown",
   "id": "e09c401f",
   "metadata": {},
   "source": [
    "* Remix 내에서 컴파일 및 배포 \n",
    ">[vm]from: 0x5B3...eddC4to: HelloInString.(constructor)value: 0 weidata: 0x608...c0033logs: 0hash: 0x45b...b40e5\n",
    "* 배포 gas \n",
    "> 478317\n",
    "* Remix 내에서 함수 실행 결과 \n",
    "> call to HelloInString.sayHello\n",
    "CALL\n",
    "[call]from: 0x5B38Da6a701c568545dCfcB03FcB875f56beddC4to: HelloInString.sayHello()data: 0xef5...fb05b\n",
    "transact to HelloInString.setWhom pending ... \n",
    "[vm]from: 0x5B3...eddC4to: HelloInString.setWhom(string) 0xb27...07c2cvalue: 0 weidata: 0x1c8...00000logs: 0hash: 0xa67...7a36e\n",
    "call to HelloInString.getWhom\n",
    "CALL\n",
    "[call]from: 0x5B38Da6a701c568545dCfcB03FcB875f56beddC4to: HelloInString.getWhom()data: 0x3c5...00c0e\n",
    "call to HelloInString.sayHello\n",
    "CALL\n",
    "[call]from: 0x5B38Da6a701c568545dCfcB03FcB875f56beddC4to: HelloInString.sayHello()data: 0xef5...fb05b\n",
    "* String의 경우 sayHello() gas \n",
    "> 24419 gas (Cost only applies when called by a contract)"
   ]
  },
  {
   "cell_type": "markdown",
   "id": "065b3108",
   "metadata": {},
   "source": [
    "----\n",
    "##### [2] HelloInBytes.sol"
   ]
  },
  {
   "cell_type": "markdown",
   "id": "26cb6491",
   "metadata": {},
   "source": [
    "~~~python\n",
    "//SPDX--Identifier: GPL-3.0-or-later\n",
    "pragma solidity 0.8.12;\n",
    "contract HelloInBytes{\n",
    "    bytes toWhom;\n",
    "    constructor() public{\n",
    "        toWhom=\"smu\";\n",
    "    }\n",
    "    function sayHello() view public returns(bytes memory){\n",
    "        return bytes.concat(\"Hello\",\" \",toWhom);\n",
    "    }\n",
    "    function setWhom(bytes memory inputString) public {\n",
    "        toWhom=inputString;\n",
    "    }\n",
    "    function getWhom() view public returns(bytes memory){\n",
    "        return toWhom;\n",
    "    }\n",
    "}\n",
    "~~~"
   ]
  },
  {
   "cell_type": "markdown",
   "id": "06257be6",
   "metadata": {},
   "source": [
    "* Remix 내에서 컴파일 및 배포 \n",
    "> [vm]from: 0x5B3...eddC4to: HelloInBytes.(constructor)value: 0 weidata: 0x608...c0033logs: 0hash: 0xee8...9fb7e\n",
    "* 배포 gas\n",
    "> 478317 gas\n",
    "* Remix 내에서 함수 실행 결과 \n",
    "> call to HelloInBytes.sayHello\n",
    "CALL\n",
    "[call]from: 0x5B38Da6a701c568545dCfcB03FcB875f56beddC4to: HelloInBytes.sayHello()data: 0xef5...fb05b\n",
    "transact to HelloInBytes.setWhom errored: Error encoding arguments: Error: invalid arrayify value (argument=\"value\", value=\"kimdaehwan\", code=INVALID_ARGUMENT, version=bytes/5.5.0)\n",
    "call to HelloInBytes.getWhom\n",
    "CALL\n",
    "[call]from: 0x5B38Da6a701c568545dCfcB03FcB875f56beddC4to: HelloInBytes.getWhom()data: 0x3c5...00c0e\n",
    "call to HelloInBytes.sayHello\n",
    "CALL\n",
    "[call]from: 0x5B38Da6a701c568545dCfcB03FcB875f56beddC4to: HelloInBytes.sayHello()data: 0xef5...fb05b\n",
    "* sayHello() gas \n",
    "> 24419 gas (Cost only applies when called by a contract)"
   ]
  },
  {
   "cell_type": "markdown",
   "id": "be6ab603",
   "metadata": {},
   "source": [
    "---\n",
    "\n",
    "* 정리: \n",
    "> string, bytes 에서 동일한 gas가 사용됨\n",
    "\n",
    "---"
   ]
  },
  {
   "cell_type": "markdown",
   "id": "3e027db0",
   "metadata": {},
   "source": [
    "* 주피터 환경에서도 해당 sol 파일의 gas를 살펴봄"
   ]
  },
  {
   "cell_type": "code",
   "execution_count": 2,
   "id": "512df1b7",
   "metadata": {},
   "outputs": [
    {
     "name": "stdout",
     "output_type": "stream",
     "text": [
      "Writing src/HelloInString.sol\n"
     ]
    }
   ],
   "source": [
    "%%writefile src/HelloInString.sol\n",
    "//SPDX-License-Identifier: GPL-3.0-or-later\n",
    "pragma solidity 0.8.12;\n",
    "contract HelloInString{\n",
    "    string toWhom=\"smu\";\n",
    "    function sayHello() view public returns(string memory){\n",
    "        return string.concat(\"Hello\",\" \",toWhom);\n",
    "    }\n",
    "    function setWhom(string memory inputString) public {\n",
    "        toWhom=inputString;\n",
    "    }\n",
    "    function getWhom() view public returns(string memory){\n",
    "        return toWhom;\n",
    "    }\n",
    "}"
   ]
  },
  {
   "cell_type": "code",
   "execution_count": 6,
   "id": "2137e8c6",
   "metadata": {},
   "outputs": [
    {
     "name": "stdout",
     "output_type": "stream",
     "text": [
      "\r\n",
      "======= src/HelloInString.sol:HelloInString =======\r\n",
      "Gas estimation:\r\n",
      "construction:\r\n",
      "   infinite + 312200 = infinite\r\n",
      "external:\r\n",
      "   getWhom():\tinfinite\r\n",
      "   sayHello():\tinfinite\r\n",
      "   setWhom(string):\tinfinite\r\n"
     ]
    }
   ],
   "source": [
    "!solc --gas src/HelloInString.sol"
   ]
  },
  {
   "cell_type": "code",
   "execution_count": 4,
   "id": "b95bd441",
   "metadata": {},
   "outputs": [
    {
     "name": "stdout",
     "output_type": "stream",
     "text": [
      "Writing src/HelloInBytes.sol\n"
     ]
    }
   ],
   "source": [
    "%%writefile src/HelloInBytes.sol\n",
    "//SPDX-License-Identifier: GPL-3.0-or-later\n",
    "pragma solidity 0.8.12;\n",
    "contract HelloInBytes{\n",
    "    bytes toWhom;\n",
    "    constructor() public{\n",
    "        toWhom=\"smu\";\n",
    "    }\n",
    "    function sayHello() view public returns(bytes memory){\n",
    "        return bytes.concat(\"Hello\",\" \",toWhom);\n",
    "    }\n",
    "    function setWhom(bytes memory inputString) public {\n",
    "        toWhom=inputString;\n",
    "    }\n",
    "    function getWhom() view public returns(bytes memory){\n",
    "        return toWhom;\n",
    "    }\n",
    "}"
   ]
  },
  {
   "cell_type": "code",
   "execution_count": 7,
   "id": "7ab39b19",
   "metadata": {},
   "outputs": [
    {
     "name": "stdout",
     "output_type": "stream",
     "text": [
      "\u001b[1m\u001b[33mWarning\u001b[0m\u001b[1m\u001b[37m: Visibility for constructor is ignored. If you want the contract to be non-deployable, making it \"abstract\" is sufficient.\r\n",
      "\u001b[0m \u001b[1m\u001b[34m-->\u001b[0m src/HelloInBytes.sol:5:5:\r\n",
      "  \u001b[1m\u001b[34m|\u001b[0m\r\n",
      "\u001b[1m\u001b[34m5 |\u001b[0m     \u001b[33mconstructor() public{\r\n",
      "\u001b[0m  \u001b[1m\u001b[34m|\u001b[0m     \u001b[1m\u001b[33m^ (Relevant source part starts here and spans across multiple lines).\u001b[0m\r\n",
      "\r\n",
      "\r\n",
      "======= src/HelloInBytes.sol:HelloInBytes =======\r\n",
      "Gas estimation:\r\n",
      "construction:\r\n",
      "   infinite + 312200 = infinite\r\n",
      "external:\r\n",
      "   getWhom():\tinfinite\r\n",
      "   sayHello():\tinfinite\r\n",
      "   setWhom(bytes):\tinfinite\r\n"
     ]
    }
   ],
   "source": [
    "!solc --gas src/HelloInBytes.sol"
   ]
  },
  {
   "cell_type": "markdown",
   "id": "be175e2d",
   "metadata": {},
   "source": [
    "---\n",
    "string, bytes 자료형 모두 동적이므로 infinite로 뜨는 것을 확인할 수 있다.\n",
    "반대로 아래처럼 고정크기의 bytes 문자열을 사용한다면"
   ]
  },
  {
   "cell_type": "code",
   "execution_count": 8,
   "id": "4b8ad952",
   "metadata": {},
   "outputs": [
    {
     "name": "stdout",
     "output_type": "stream",
     "text": [
      "Writing src/Byte32Test.sol\n"
     ]
    }
   ],
   "source": [
    "%%writefile src/Byte32Test.sol\n",
    "//SPDX-License-Identifier: GPL-3.0-or-later\n",
    "pragma solidity 0.8.12;\n",
    "contract bytesTest{\n",
    "    bytes32 testInput;\n",
    "    constructor() public{\n",
    "        testInput=\"kimdaehwan\";\n",
    "    }\n",
    "    function sayHello() view public returns(bytes32){\n",
    "        return testInput;\n",
    "    }\n",
    "    function changeInput(bytes32 inputBytes) public {\n",
    "        testInput=inputBytes;\n",
    "    }\n",
    "    \n",
    "}"
   ]
  },
  {
   "cell_type": "code",
   "execution_count": 9,
   "id": "19f4bdac",
   "metadata": {},
   "outputs": [
    {
     "name": "stdout",
     "output_type": "stream",
     "text": [
      "\u001b[1m\u001b[33mWarning\u001b[0m\u001b[1m\u001b[37m: Visibility for constructor is ignored. If you want the contract to be non-deployable, making it \"abstract\" is sufficient.\r\n",
      "\u001b[0m \u001b[1m\u001b[34m-->\u001b[0m src/Byte32Test.sol:5:5:\r\n",
      "  \u001b[1m\u001b[34m|\u001b[0m\r\n",
      "\u001b[1m\u001b[34m5 |\u001b[0m     \u001b[33mconstructor() public{\r\n",
      "\u001b[0m  \u001b[1m\u001b[34m|\u001b[0m     \u001b[1m\u001b[33m^ (Relevant source part starts here and spans across multiple lines).\u001b[0m\r\n",
      "\r\n",
      "\r\n",
      "======= src/Byte32Test.sol:bytesTest =======\r\n",
      "Gas estimation:\r\n",
      "construction:\r\n",
      "   22231 + 67200 = 89431\r\n",
      "external:\r\n",
      "   changeInput(bytes32):\t22498\r\n",
      "   sayHello():\t2437\r\n"
     ]
    }
   ],
   "source": [
    "!solc --gas src/Byte32Test.sol"
   ]
  },
  {
   "cell_type": "markdown",
   "id": "54045eb9",
   "metadata": {},
   "source": [
    "위처럼 gas 비용을 제대로 산정하는 것을 알 수 있다."
   ]
  },
  {
   "cell_type": "code",
   "execution_count": null,
   "id": "b79f0cf2",
   "metadata": {},
   "outputs": [],
   "source": []
  }
 ],
 "metadata": {
  "kernelspec": {
   "display_name": "Python 3 (ipykernel)",
   "language": "python",
   "name": "python3"
  },
  "language_info": {
   "codemirror_mode": {
    "name": "ipython",
    "version": 3
   },
   "file_extension": ".py",
   "mimetype": "text/x-python",
   "name": "python",
   "nbconvert_exporter": "python",
   "pygments_lexer": "ipython3",
   "version": "3.9.12"
  }
 },
 "nbformat": 4,
 "nbformat_minor": 5
}
