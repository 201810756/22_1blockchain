{
 "cells": [
  {
   "cell_type": "markdown",
   "id": "9a50d5ea",
   "metadata": {},
   "source": [
    "# [6월 20일(월)]\n",
    "## [블록체인프로그래밍 기말고사 답안지]\n",
    "### [휴먼지능정보공학과 201810756 김대환]"
   ]
  },
  {
   "cell_type": "markdown",
   "id": "e827ad12",
   "metadata": {},
   "source": [
    "* token url \n",
    "\n",
    "1. https://ipfs.io/ipfs/QmSt4z63PERyZaQdG4W9FhTfKmCFJDZPgK66gcSwBfWMBo\n",
    "2. https://ipfs.io/ipfs/QmWbV8jK5L2HQWPTLQYBrdCdGJnUX3njSVpuYR9JPGvJ47\n"
   ]
  },
  {
   "cell_type": "markdown",
   "id": "9e3de57a",
   "metadata": {},
   "source": [
    "### [(1)~(5)]\n",
    "##### (1)\n",
    "```[vm]from: 0x5B3...eddC4to: MyNFT1.(constructor)value: 0 weidata: 0x608...c0033logs: 0hash: 0x2a9...9565c\n",
    "status\ttrue Transaction mined and execution succeed\n",
    "transaction hash\t0x2a95719dc6eed345bded429408443b9e69fafbd0cc9b045550a8e4459d59565c\n",
    "from\t0x5B38Da6a701c568545dCfcB03FcB875f56beddC4\n",
    "to\tMyNFT1.(constructor)\n",
    "gas\t3232223 gas\n",
    "transaction cost\t2810628 gas \n",
    "execution cost\t2810628 gas \n",
    "input\t0x608...c0033\n",
    "decoded input\t{}\n",
    "decoded output\t - \n",
    "logs\t[]\n",
    "val\t0 wei\n",
    "transact to MyNFT1.mintWithURL pending ... \n",
    "```\n",
    "##### (2)\n",
    "```\n",
    "[vm]from: 0x5B3...eddC4to: MyNFT1.mintWithURL(address,string) 0xd91...39138value: 0 weidata: 0x954...00000logs: 1hash: 0xe79...51280\n",
    "status\ttrue Transaction mined and execution succeed\n",
    "transaction hash\t0xe791a07c96f45dcb0868bf8786ca82723f2501fa7fbc57bff0b74c488d851280\n",
    "from\t0x5B38Da6a701c568545dCfcB03FcB875f56beddC4\n",
    "to\tMyNFT1.mintWithURL(address,string) 0xd9145CCE52D386f254917e481eB44e9943F39138\n",
    "gas\t133281 gas\n",
    "transaction cost\t115896 gas \n",
    "execution cost\t115896 gas \n",
    "input\t0x954...00000\n",
    "decoded input\t{\n",
    "\t\"address to\": \"0xAb8483F64d9C6d1EcF9b849Ae677dD3315835cb2\",\n",
    "\t\"string tokenUrl\": \"https://ipfs.io/ipfs/QmSt4z63PERyZaQdG4W9FhTfKmCFJDZPgK66gcSwBfWMBo\"\n",
    "}\n",
    "decoded output\t{\n",
    "\t\"0\": \"uint256: 1\"\n",
    "}\n",
    "logs\t[\n",
    "\t{\n",
    "\t\t\"from\": \"0xd9145CCE52D386f254917e481eB44e9943F39138\",\n",
    "\t\t\"topic\": \"0xddf252ad1be2c89b69c2b068fc378daa952ba7f163c4a11628f55a4df523b3ef\",\n",
    "\t\t\"event\": \"Transfer\",\n",
    "\t\t\"args\": {\n",
    "\t\t\t\"0\": \"0x0000000000000000000000000000000000000000\",\n",
    "\t\t\t\"1\": \"0xAb8483F64d9C6d1EcF9b849Ae677dD3315835cb2\",\n",
    "\t\t\t\"2\": \"1\",\n",
    "\t\t\t\"from\": \"0x0000000000000000000000000000000000000000\",\n",
    "\t\t\t\"to\": \"0xAb8483F64d9C6d1EcF9b849Ae677dD3315835cb2\",\n",
    "\t\t\t\"tokenId\": \"1\"\n",
    "\t\t}\n",
    "\t}\n",
    "]\n",
    "val\t0 wei\n",
    "transact to MyNFT1.mintWithURL pending ... ```\n",
    "```\n",
    "##### (3)\n",
    "```\n",
    "\n",
    "[vm]from: 0xAb8...35cb2to: MyNFT1.mintWithIdUrl(uint256,address,string) 0xd91...39138value: 0 weidata: 0xe98...00000logs: 0hash: 0xa00...093f2\n",
    "status\tfalse Transaction mined but execution failed\n",
    "transaction hash\t0xa0030383de44fecf395bd84dfa4650dc01cc3de1bc069c485f54ca3e6ee093f2\n",
    "from\t0xAb8483F64d9C6d1EcF9b849Ae677dD3315835cb2\n",
    "to\tMyNFT1.mintWithIdUrl(uint256,address,string) 0xd9145CCE52D386f254917e481eB44e9943F39138\n",
    "gas\t3000000 gas\n",
    "transaction cost\t27113 gas \n",
    "execution cost\t27113 gas \n",
    "input\t0xe98...00000\n",
    "decoded input\t{\n",
    "\t\"uint256 _id\": \"1\",\n",
    "\t\"address to\": \"0xAb8483F64d9C6d1EcF9b849Ae677dD3315835cb2\",\n",
    "\t\"string tokenUrl\": \"https://ipfs.io/ipfs/QmSt4z63PERyZaQdG4W9FhTfKmCFJDZPgK66gcSwBfWMBo\"\n",
    "}\n",
    "decoded output\t{\n",
    "\t\"0\": \"uint256: 3963877391197344453575983046348115674221700746820753546331534351508065746944\"\n",
    "}\n",
    "logs\t[]\n",
    "val\t0 wei\n",
    "transact to MyNFT1.mintWithIdUrl errored: VM error: revert.\n",
    "\n",
    "revert\n",
    "\tThe transaction has been reverted to the initial state.\n",
    "Reason provided by the contract: \"ERC721: token already minted\".\n",
    "Debug the transaction to get more information.\n",
    "call to MyNFT1.ownerOf\n",
    "```\n",
    "##### (4)\n",
    "```\n",
    "\n",
    "[vm]from: 0xAb8...35cb2to: MyNFT1.transferFrom(address,address,uint256) 0xd91...39138value: 0 weidata: 0x23b...00001logs: 2hash: 0xdfe...79892\n",
    "status\ttrue Transaction mined and execution succeed\n",
    "transaction hash\t0xdfe2cf1936c9e21618079f7f5952f306a6967040eb0a001c5d527c8cebb79892\n",
    "from\t0xAb8483F64d9C6d1EcF9b849Ae677dD3315835cb2\n",
    "to\tMyNFT1.transferFrom(address,address,uint256) 0xd9145CCE52D386f254917e481eB44e9943F39138\n",
    "gas\t53325 gas\n",
    "transaction cost\t41569 gas \n",
    "execution cost\t41569 gas \n",
    "input\t0x23b...00001\n",
    "decoded input\t{\n",
    "\t\"address from\": \"0xAb8483F64d9C6d1EcF9b849Ae677dD3315835cb2\",\n",
    "\t\"address to\": \"0x4B20993Bc481177ec7E8f571ceCaE8A9e22C02db\",\n",
    "\t\"uint256 tokenId\": \"1\"\n",
    "}\n",
    "decoded output\t{}\n",
    "logs\t[\n",
    "\t{\n",
    "\t\t\"from\": \"0xd9145CCE52D386f254917e481eB44e9943F39138\",\n",
    "\t\t\"topic\": \"0x8c5be1e5ebec7d5bd14f71427d1e84f3dd0314c0f7b2291e5b200ac8c7c3b925\",\n",
    "\t\t\"event\": \"Approval\",\n",
    "\t\t\"args\": {\n",
    "\t\t\t\"0\": \"0xAb8483F64d9C6d1EcF9b849Ae677dD3315835cb2\",\n",
    "\t\t\t\"1\": \"0x0000000000000000000000000000000000000000\",\n",
    "\t\t\t\"2\": \"1\",\n",
    "\t\t\t\"owner\": \"0xAb8483F64d9C6d1EcF9b849Ae677dD3315835cb2\",\n",
    "\t\t\t\"approved\": \"0x0000000000000000000000000000000000000000\",\n",
    "\t\t\t\"tokenId\": \"1\"\n",
    "\t\t}\n",
    "\t},\n",
    "\t{\n",
    "\t\t\"from\": \"0xd9145CCE52D386f254917e481eB44e9943F39138\",\n",
    "\t\t\"topic\": \"0xddf252ad1be2c89b69c2b068fc378daa952ba7f163c4a11628f55a4df523b3ef\",\n",
    "\t\t\"event\": \"Transfer\",\n",
    "\t\t\"args\": {\n",
    "\t\t\t\"0\": \"0xAb8483F64d9C6d1EcF9b849Ae677dD3315835cb2\",\n",
    "\t\t\t\"1\": \"0x4B20993Bc481177ec7E8f571ceCaE8A9e22C02db\",\n",
    "\t\t\t\"2\": \"1\",\n",
    "\t\t\t\"from\": \"0xAb8483F64d9C6d1EcF9b849Ae677dD3315835cb2\",\n",
    "\t\t\t\"to\": \"0x4B20993Bc481177ec7E8f571ceCaE8A9e22C02db\",\n",
    "\t\t\t\"tokenId\": \"1\"\n",
    "\t\t}\n",
    "\t}\n",
    "]\n",
    "val\t0 wei\n",
    "call to MyNFT1.ownerOf\n",
    "```\n",
    "##### (5)\n",
    "```\n",
    "[vm]from: 0xAb8...35cb2to: MyNFT1.transferFrom(address,address,uint256) 0x9bF...77dD7value: 0 weidata: 0x23b...00001logs: 2hash: 0xaff...70c08\n",
    "status\ttrue Transaction mined and execution succeed\n",
    "transaction hash\t0xafffff904b66b8b42da14126c11d9a3f281087897eb6462d4d4fec775bf70c08\n",
    "from\t0xAb8483F64d9C6d1EcF9b849Ae677dD3315835cb2\n",
    "to\tMyNFT1.transferFrom(address,address,uint256) 0x9bF88fAe8CF8BaB76041c1db6467E7b37b977dD7\n",
    "gas\t53325 gas\n",
    "transaction cost\t41569 gas \n",
    "execution cost\t41569 gas \n",
    "input\t0x23b...00001\n",
    "decoded input\t{\n",
    "\t\"address from\": \"0xAb8483F64d9C6d1EcF9b849Ae677dD3315835cb2\",\n",
    "\t\"address to\": \"0x4B20993Bc481177ec7E8f571ceCaE8A9e22C02db\",\n",
    "\t\"uint256 tokenId\": \"1\"\n",
    "}\n",
    "decoded output\t{}\n",
    "logs\t[\n",
    "\t{\n",
    "\t\t\"from\": \"0x9bF88fAe8CF8BaB76041c1db6467E7b37b977dD7\",\n",
    "\t\t\"topic\": \"0x8c5be1e5ebec7d5bd14f71427d1e84f3dd0314c0f7b2291e5b200ac8c7c3b925\",\n",
    "\t\t\"event\": \"Approval\",\n",
    "\t\t\"args\": {\n",
    "\t\t\t\"0\": \"0xAb8483F64d9C6d1EcF9b849Ae677dD3315835cb2\",\n",
    "\t\t\t\"1\": \"0x0000000000000000000000000000000000000000\",\n",
    "\t\t\t\"2\": \"1\",\n",
    "\t\t\t\"owner\": \"0xAb8483F64d9C6d1EcF9b849Ae677dD3315835cb2\",\n",
    "\t\t\t\"approved\": \"0x0000000000000000000000000000000000000000\",\n",
    "\t\t\t\"tokenId\": \"1\"\n",
    "\t\t}\n",
    "\t},\n",
    "\t{\n",
    "\t\t\"from\": \"0x9bF88fAe8CF8BaB76041c1db6467E7b37b977dD7\",\n",
    "\t\t\"topic\": \"0xddf252ad1be2c89b69c2b068fc378daa952ba7f163c4a11628f55a4df523b3ef\",\n",
    "\t\t\"event\": \"Transfer\",\n",
    "\t\t\"args\": {\n",
    "\t\t\t\"0\": \"0xAb8483F64d9C6d1EcF9b849Ae677dD3315835cb2\",\n",
    "\t\t\t\"1\": \"0x4B20993Bc481177ec7E8f571ceCaE8A9e22C02db\",\n",
    "\t\t\t\"2\": \"1\",\n",
    "\t\t\t\"from\": \"0xAb8483F64d9C6d1EcF9b849Ae677dD3315835cb2\",\n",
    "\t\t\t\"to\": \"0x4B20993Bc481177ec7E8f571ceCaE8A9e22C02db\",\n",
    "\t\t\t\"tokenId\": \"1\"\n",
    "\t\t}\n",
    "\t}\n",
    "]\n",
    "val\t0 wei\n",
    "```\n",
    "\n",
    "----"
   ]
  },
  {
   "cell_type": "markdown",
   "id": "76aa0827",
   "metadata": {},
   "source": [
    "##### (6) 로컬에서 컴파일"
   ]
  },
  {
   "cell_type": "code",
   "execution_count": 86,
   "id": "096c0ac1",
   "metadata": {},
   "outputs": [
    {
     "name": "stdout",
     "output_type": "stream",
     "text": [
      "Overwriting src/MyNFT1.sol\n"
     ]
    }
   ],
   "source": [
    "%%writefile src/MyNFT1.sol\n",
    "// SPDX-License-Identifier: MIT\n",
    "pragma solidity ^0.8.12;\n",
    "\n",
    "import \"node_modules/@openzeppelin/contracts/token/ERC721/ERC721.sol\";\n",
    "//import \"https://github.com/OpenZeppelin/openzeppelin-contracts/blob/v4.4.0/contracts/token/ERC721/ERC721.sol\";\n",
    "import \"node_modules/@openzeppelin/contracts/utils/Counters.sol\";\n",
    "//import \"https://github.com/OpenZeppelin/openzeppelin-contracts/blob/v4.4.0/contracts/utils/Counters.sol\";\n",
    "\n",
    "contract MyNFT1 is ERC721 {\n",
    "    using Counters for Counters.Counter;\n",
    "    Counters.Counter private _tokenIds;\n",
    "    uint256 tokenIdCount = 0;\n",
    "    struct Item{\n",
    "        address owner;\n",
    "        address nowOwner;\n",
    "        uint256 price;\n",
    "        string tokenUrl;\n",
    "        uint256 currentTime;\n",
    "    }\n",
    "    mapping(uint256 => Item) public tokenIdToItem;\n",
    "    mapping(address => uint256) public idByAddr;\n",
    "    mapping(address => uint256) public countByAddr;\n",
    "    constructor() ERC721(\"Final\", \"KDH\"){}\n",
    "    function mintWithURL(address to, string memory tokenUrl) public returns(uint256){\n",
    "        _tokenIds.increment();\n",
    "        uint256 newTokenId = _tokenIds.current();\n",
    "        _mint(to, newTokenId);\n",
    "        idByAddr[to] = newTokenId;\n",
    "        tokenIdCount += 1;\n",
    "        uint256 t = block.timestamp;\n",
    "        setTokenIdToItem(newTokenId, msg.sender, to, newTokenId, tokenUrl, t);\n",
    "        if(countByAddr[to] == 0){\n",
    "            countByAddr[to] = 1;\n",
    "        }\n",
    "        else{\n",
    "            countByAddr[to] += 1;\n",
    "        }\n",
    "        return newTokenId;\n",
    "    }\n",
    "    function mintWithIdUrl(uint256 _id, address to, string memory tokenUrl) public returns(uint256){\n",
    "        _mint(to, _id);\n",
    "        idByAddr[to] = _id;\n",
    "        tokenIdCount += 1;\n",
    "        uint256 t = block.timestamp;\n",
    "        setTokenIdToItem(_id, msg.sender, to, _id, tokenUrl, t);\n",
    "        if(countByAddr[to] == 0){\n",
    "            countByAddr[to] = 1;\n",
    "        }\n",
    "        else{\n",
    "            countByAddr[to] += 1;\n",
    "        }\n",
    "        return _id;\n",
    "    }\n",
    "    function myTransfer(address from, address to, uint256 _tokenId) public{\n",
    "        _transfer(from, to, _tokenId);\n",
    "        countByAddr[from] -= 1;\n",
    "        if(countByAddr[to] == 0){\n",
    "            countByAddr[to] = 1;\n",
    "        }\n",
    "        else{\n",
    "            countByAddr[to] += 1;\n",
    "        }\n",
    "        tokenIdToItem[idByAddr[from]].nowOwner = to;\n",
    "    }\n",
    "    function setTokenIdToItem(uint256 _id, address _o, address _to, uint256 _p, string memory _uri, uint256 _t) public{\n",
    "        tokenIdToItem[_id].owner = _o;\n",
    "        tokenIdToItem[_id].nowOwner = _to;\n",
    "        tokenIdToItem[_id].price = _p;\n",
    "        tokenIdToItem[_id].tokenUrl = _uri;\n",
    "        tokenIdToItem[_id].currentTime = _t;\n",
    "    }\n",
    "    function getTokenIdToItem(uint256 tokenId) public view returns(address, address,uint256, string memory, uint256){\n",
    "        return (tokenIdToItem[tokenId].owner, tokenIdToItem[tokenId].nowOwner, tokenIdToItem[tokenId].price, tokenIdToItem[tokenId].tokenUrl, tokenIdToItem[tokenId].currentTime);\n",
    "    }\n",
    "    function getAddrToItem(address _addr) public view returns(address, address,uint256, string memory, uint256){\n",
    "        return (tokenIdToItem[idByAddr[_addr]].owner, tokenIdToItem[idByAddr[_addr]].nowOwner, tokenIdToItem[idByAddr[_addr]].price, tokenIdToItem[idByAddr[_addr]].tokenUrl, tokenIdToItem[idByAddr[_addr]].currentTime);\n",
    "    }\n",
    "    function getItemsLength() public view returns(uint256){\n",
    "        return tokenIdCount;\n",
    "    }\n",
    "    function getOwner() public view returns(address){\n",
    "        return msg.sender;\n",
    "    }\n",
    "    function getTokenURI(uint256 tokenId) public view returns(string memory){\n",
    "        return tokenIdToItem[tokenId].tokenUrl;\n",
    "    }\n",
    "    function getTotalSupply() public view returns(uint256){\n",
    "        return tokenIdCount;\n",
    "    }\n",
    "    function getCount(address _addr) public view returns(uint256){\n",
    "       return countByAddr[_addr];\n",
    "    }\n",
    "    function burn(uint256 _id) public{\n",
    "        countByAddr[tokenIdToItem[_id].nowOwner] -= 1;\n",
    "    }\n",
    "}\n"
   ]
  },
  {
   "cell_type": "code",
   "execution_count": 87,
   "id": "74440ce9",
   "metadata": {},
   "outputs": [],
   "source": [
    "!solc --optimize --combined-json abi,bin src/MyNFT1.sol > src/MyNFT1.json"
   ]
  },
  {
   "cell_type": "code",
   "execution_count": 88,
   "id": "b5f9493b",
   "metadata": {},
   "outputs": [
    {
     "name": "stdout",
     "output_type": "stream",
     "text": [
      "{\"contracts\":{\"node_modules/@openzeppelin/contracts/token/ERC721/ERC721.sol:ERC721\":{\"abi\":[{\"inputs\":[{\"internalType\":\"string\",\"name\":\"name_\",\"type\":\"string\"},{\"internalType\":\"string\",\"name\":\"symbol_\",\"type\":\"string\"}],\"stateMutability\":\"nonpayable\",\"type\":\"constructor\"},{\"anonymous\":false,\"inputs\":[{\"indexed\":true,\"internalType\":\"address\",\"name\":\"owner\",\"type\":\"address\"},{\"indexed\":true,\"internalType\":\"address\",\"name\":\"approved\",\"type\":\"address\"},{\"indexed\":true,\"internalType\":\"uint256\",\"name\":\"tokenId\",\"type\":\"uint256\"}],\"name\":\"Approval\",\"type\":\"event\"},{\"anonymous\":false,\"inputs\":[{\"indexed\":true,\"internalType\":\"address\",\"name\":\"owner\",\"type\":\"address\"},{\"indexed\":true,\"internalType\":\"address\",\"name\":\"operator\",\"type\":\"address\"},{\"indexed\":false,\"internalType\":\"bool\",\"name\":\"approved\",\"type\":\"bool\"}],\"name\":\"ApprovalForAll\",\"type\":\"event\"},{\"anonymous\":false,\"inputs\":[{\"indexed\":true,\"internalType\":\"address\",\"name\":\"from\",\"type\":\"address\"},{\"indexed\":true,\"internalType\":\"address\",\"name\":\"to\",\"type\":\"address\"},{\"indexed\":true,\"internalType\":\"uint256\",\"name\":\"tokenId\",\"type\":\"uint256\"}],\"name\":\"Transfer\",\"type\":\"event\"},{\"inputs\":[{\"internalType\":\"address\",\"name\":\"to\",\"type\":\"address\"},{\"internalType\":\"uint256\",\"name\":\"tokenId\",\"type\":\"uint256\"}],\"name\":\"approve\",\"outputs\":[],\"stateMutability\":\"nonpayable\",\"type\":\"function\"},{\"inputs\":[{\"internalType\":\"address\",\"name\":\"owner\",\"type\":\"address\"}],\"name\":\"balanceOf\",\"outputs\":[{\"internalType\":\"uint256\",\"name\":\"\",\"type\":\"uint256\"}],\"stateMutability\":\"view\",\"type\":\"function\"},{\"inputs\":[{\"internalType\":\"uint256\",\"name\":\"tokenId\",\"type\":\"uint256\"}],\"name\":\"getApproved\",\"outputs\":[{\"internalType\":\"address\",\"name\":\"\",\"type\":\"address\"}],\"stateMutability\":\"view\",\"type\":\"function\"},{\"inputs\":[{\"internalType\":\"address\",\"name\":\"owner\",\"type\":\"address\"},{\"internalType\":\"address\",\"name\":\"operator\",\"type\":\"address\"}],\"name\":\"isApprovedForAll\",\"outputs\":[{\"internalType\":\"bool\",\"name\":\"\",\"type\":\"bool\"}],\"stateMutability\":\"view\",\"type\":\"function\"},{\"inputs\":[],\"name\":\"name\",\"outputs\":[{\"internalType\":\"string\",\"name\":\"\",\"type\":\"string\"}],\"stateMutability\":\"view\",\"type\":\"function\"},{\"inputs\":[{\"internalType\":\"uint256\",\"name\":\"tokenId\",\"type\":\"uint256\"}],\"name\":\"ownerOf\",\"outputs\":[{\"internalType\":\"address\",\"name\":\"\",\"type\":\"address\"}],\"stateMutability\":\"view\",\"type\":\"function\"},{\"inputs\":[{\"internalType\":\"address\",\"name\":\"from\",\"type\":\"address\"},{\"internalType\":\"address\",\"name\":\"to\",\"type\":\"address\"},{\"internalType\":\"uint256\",\"name\":\"tokenId\",\"type\":\"uint256\"}],\"name\":\"safeTransferFrom\",\"outputs\":[],\"stateMutability\":\"nonpayable\",\"type\":\"function\"},{\"inputs\":[{\"internalType\":\"address\",\"name\":\"from\",\"type\":\"address\"},{\"internalType\":\"address\",\"name\":\"to\",\"type\":\"address\"},{\"internalType\":\"uint256\",\"name\":\"tokenId\",\"type\":\"uint256\"},{\"internalType\":\"bytes\",\"name\":\"_data\",\"type\":\"bytes\"}],\"name\":\"safeTransferFrom\",\"outputs\":[],\"stateMutability\":\"nonpayable\",\"type\":\"function\"},{\"inputs\":[{\"internalType\":\"address\",\"name\":\"operator\",\"type\":\"address\"},{\"internalType\":\"bool\",\"name\":\"approved\",\"type\":\"bool\"}],\"name\":\"setApprovalForAll\",\"outputs\":[],\"stateMutability\":\"nonpayable\",\"type\":\"function\"},{\"inputs\":[{\"internalType\":\"bytes4\",\"name\":\"interfaceId\",\"type\":\"bytes4\"}],\"name\":\"supportsInterface\",\"outputs\":[{\"internalType\":\"bool\",\"name\":\"\",\"type\":\"bool\"}],\"stateMutability\":\"view\",\"type\":\"function\"},{\"inputs\":[],\"name\":\"symbol\",\"outputs\":[{\"internalType\":\"string\",\"name\":\"\",\"type\":\"string\"}],\"stateMutability\":\"view\",\"type\":\"function\"},{\"inputs\":[{\"internalType\":\"uint256\",\"name\":\"tokenId\",\"type\":\"uint256\"}],\"name\":\"tokenURI\",\"outputs\":[{\"internalType\":\"string\",\"name\":\"\",\"type\":\"string\"}],\"stateMutability\":\"view\",\"type\":\"function\"},{\"inputs\":[{\"internalType\":\"address\",\"name\":\"from\",\"type\":\"address\"},{\"internalType\":\"address\",\"name\":\"to\",\"type\":\"address\"},{\"internalType\":\"uint256\",\"name\":\"tokenId\",\"type\":\"uint256\"}],\"name\":\"transferFrom\",\"outputs\":[],\"stateMutability\":\"nonpayable\",\"type\":\"function\"}],\"bin\":\"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\"},\"node_modules/@openzeppelin/contracts/token/ERC721/IERC721.sol:IERC721\":{\"abi\":[{\"anonymous\":false,\"inputs\":[{\"indexed\":true,\"internalType\":\"address\",\"name\":\"owner\",\"type\":\"address\"},{\"indexed\":true,\"internalType\":\"address\",\"name\":\"approved\",\"type\":\"address\"},{\"indexed\":true,\"internalType\":\"uint256\",\"name\":\"tokenId\",\"type\":\"uint256\"}],\"name\":\"Approval\",\"type\":\"event\"},{\"anonymous\":false,\"inputs\":[{\"indexed\":true,\"internalType\":\"address\",\"name\":\"owner\",\"type\":\"address\"},{\"indexed\":true,\"internalType\":\"address\",\"name\":\"operator\",\"type\":\"address\"},{\"indexed\":false,\"internalType\":\"bool\",\"name\":\"approved\",\"type\":\"bool\"}],\"name\":\"ApprovalForAll\",\"type\":\"event\"},{\"anonymous\":false,\"inputs\":[{\"indexed\":true,\"internalType\":\"address\",\"name\":\"from\",\"type\":\"address\"},{\"indexed\":true,\"internalType\":\"address\",\"name\":\"to\",\"type\":\"address\"},{\"indexed\":true,\"internalType\":\"uint256\",\"name\":\"tokenId\",\"type\":\"uint256\"}],\"name\":\"Transfer\",\"type\":\"event\"},{\"inputs\":[{\"internalType\":\"address\",\"name\":\"to\",\"type\":\"address\"},{\"internalType\":\"uint256\",\"name\":\"tokenId\",\"type\":\"uint256\"}],\"name\":\"approve\",\"outputs\":[],\"stateMutability\":\"nonpayable\",\"type\":\"function\"},{\"inputs\":[{\"internalType\":\"address\",\"name\":\"owner\",\"type\":\"address\"}],\"name\":\"balanceOf\",\"outputs\":[{\"internalType\":\"uint256\",\"name\":\"balance\",\"type\":\"uint256\"}],\"stateMutability\":\"view\",\"type\":\"function\"},{\"inputs\":[{\"internalType\":\"uint256\",\"name\":\"tokenId\",\"type\":\"uint256\"}],\"name\":\"getApproved\",\"outputs\":[{\"internalType\":\"address\",\"name\":\"operator\",\"type\":\"address\"}],\"stateMutability\":\"view\",\"type\":\"function\"},{\"inputs\":[{\"internalType\":\"address\",\"name\":\"owner\",\"type\":\"address\"},{\"internalType\":\"address\",\"name\":\"operator\",\"type\":\"address\"}],\"name\":\"isApprovedForAll\",\"outputs\":[{\"internalType\":\"bool\",\"name\":\"\",\"type\":\"bool\"}],\"stateMutability\":\"view\",\"type\":\"function\"},{\"inputs\":[{\"internalType\":\"uint256\",\"name\":\"tokenId\",\"type\":\"uint256\"}],\"name\":\"ownerOf\",\"outputs\":[{\"internalType\":\"address\",\"name\":\"owner\",\"type\":\"address\"}],\"stateMutability\":\"view\",\"type\":\"function\"},{\"inputs\":[{\"internalType\":\"address\",\"name\":\"from\",\"type\":\"address\"},{\"internalType\":\"address\",\"name\":\"to\",\"type\":\"address\"},{\"internalType\":\"uint256\",\"name\":\"tokenId\",\"type\":\"uint256\"}],\"name\":\"safeTransferFrom\",\"outputs\":[],\"stateMutability\":\"nonpayable\",\"type\":\"function\"},{\"inputs\":[{\"internalType\":\"address\",\"name\":\"from\",\"type\":\"address\"},{\"internalType\":\"address\",\"name\":\"to\",\"type\":\"address\"},{\"internalType\":\"uint256\",\"name\":\"tokenId\",\"type\":\"uint256\"},{\"internalType\":\"bytes\",\"name\":\"data\",\"type\":\"bytes\"}],\"name\":\"safeTransferFrom\",\"outputs\":[],\"stateMutability\":\"nonpayable\",\"type\":\"function\"},{\"inputs\":[{\"internalType\":\"address\",\"name\":\"operator\",\"type\":\"address\"},{\"internalType\":\"bool\",\"name\":\"_approved\",\"type\":\"bool\"}],\"name\":\"setApprovalForAll\",\"outputs\":[],\"stateMutability\":\"nonpayable\",\"type\":\"function\"},{\"inputs\":[{\"internalType\":\"bytes4\",\"name\":\"interfaceId\",\"type\":\"bytes4\"}],\"name\":\"supportsInterface\",\"outputs\":[{\"internalType\":\"bool\",\"name\":\"\",\"type\":\"bool\"}],\"stateMutability\":\"view\",\"type\":\"function\"},{\"inputs\":[{\"internalType\":\"address\",\"name\":\"from\",\"type\":\"address\"},{\"internalType\":\"address\",\"name\":\"to\",\"type\":\"address\"},{\"internalType\":\"uint256\",\"name\":\"tokenId\",\"type\":\"uint256\"}],\"name\":\"transferFrom\",\"outputs\":[],\"stateMutability\":\"nonpayable\",\"type\":\"function\"}],\"bin\":\"\"},\"node_modules/@openzeppelin/contracts/token/ERC721/IERC721Receiver.sol:IERC721Receiver\":{\"abi\":[{\"inputs\":[{\"internalType\":\"address\",\"name\":\"operator\",\"type\":\"address\"},{\"internalType\":\"address\",\"name\":\"from\",\"type\":\"address\"},{\"internalType\":\"uint256\",\"name\":\"tokenId\",\"type\":\"uint256\"},{\"internalType\":\"bytes\",\"name\":\"data\",\"type\":\"bytes\"}],\"name\":\"onERC721Received\",\"outputs\":[{\"internalType\":\"bytes4\",\"name\":\"\",\"type\":\"bytes4\"}],\"stateMutability\":\"nonpayable\",\"type\":\"function\"}],\"bin\":\"\"},\"node_modules/@openzeppelin/contracts/token/ERC721/extensions/IERC721Metadata.sol:IERC721Metadata\":{\"abi\":[{\"anonymous\":false,\"inputs\":[{\"indexed\":true,\"internalType\":\"address\",\"name\":\"owner\",\"type\":\"address\"},{\"indexed\":true,\"internalType\":\"address\",\"name\":\"approved\",\"type\":\"address\"},{\"indexed\":true,\"internalType\":\"uint256\",\"name\":\"tokenId\",\"type\":\"uint256\"}],\"name\":\"Approval\",\"type\":\"event\"},{\"anonymous\":false,\"inputs\":[{\"indexed\":true,\"internalType\":\"address\",\"name\":\"owner\",\"type\":\"address\"},{\"indexed\":true,\"internalType\":\"address\",\"name\":\"operator\",\"type\":\"address\"},{\"indexed\":false,\"internalType\":\"bool\",\"name\":\"approved\",\"type\":\"bool\"}],\"name\":\"ApprovalForAll\",\"type\":\"event\"},{\"anonymous\":false,\"inputs\":[{\"indexed\":true,\"internalType\":\"address\",\"name\":\"from\",\"type\":\"address\"},{\"indexed\":true,\"internalType\":\"address\",\"name\":\"to\",\"type\":\"address\"},{\"indexed\":true,\"internalType\":\"uint256\",\"name\":\"tokenId\",\"type\":\"uint256\"}],\"name\":\"Transfer\",\"type\":\"event\"},{\"inputs\":[{\"internalType\":\"address\",\"name\":\"to\",\"type\":\"address\"},{\"internalType\":\"uint256\",\"name\":\"tokenId\",\"type\":\"uint256\"}],\"name\":\"approve\",\"outputs\":[],\"stateMutability\":\"nonpayable\",\"type\":\"function\"},{\"inputs\":[{\"internalType\":\"address\",\"name\":\"owner\",\"type\":\"address\"}],\"name\":\"balanceOf\",\"outputs\":[{\"internalType\":\"uint256\",\"name\":\"balance\",\"type\":\"uint256\"}],\"stateMutability\":\"view\",\"type\":\"function\"},{\"inputs\":[{\"internalType\":\"uint256\",\"name\":\"tokenId\",\"type\":\"uint256\"}],\"name\":\"getApproved\",\"outputs\":[{\"internalType\":\"address\",\"name\":\"operator\",\"type\":\"address\"}],\"stateMutability\":\"view\",\"type\":\"function\"},{\"inputs\":[{\"internalType\":\"address\",\"name\":\"owner\",\"type\":\"address\"},{\"internalType\":\"address\",\"name\":\"operator\",\"type\":\"address\"}],\"name\":\"isApprovedForAll\",\"outputs\":[{\"internalType\":\"bool\",\"name\":\"\",\"type\":\"bool\"}],\"stateMutability\":\"view\",\"type\":\"function\"},{\"inputs\":[],\"name\":\"name\",\"outputs\":[{\"internalType\":\"string\",\"name\":\"\",\"type\":\"string\"}],\"stateMutability\":\"view\",\"type\":\"function\"},{\"inputs\":[{\"internalType\":\"uint256\",\"name\":\"tokenId\",\"type\":\"uint256\"}],\"name\":\"ownerOf\",\"outputs\":[{\"internalType\":\"address\",\"name\":\"owner\",\"type\":\"address\"}],\"stateMutability\":\"view\",\"type\":\"function\"},{\"inputs\":[{\"internalType\":\"address\",\"name\":\"from\",\"type\":\"address\"},{\"internalType\":\"address\",\"name\":\"to\",\"type\":\"address\"},{\"internalType\":\"uint256\",\"name\":\"tokenId\",\"type\":\"uint256\"}],\"name\":\"safeTransferFrom\",\"outputs\":[],\"stateMutability\":\"nonpayable\",\"type\":\"function\"},{\"inputs\":[{\"internalType\":\"address\",\"name\":\"from\",\"type\":\"address\"},{\"internalType\":\"address\",\"name\":\"to\",\"type\":\"address\"},{\"internalType\":\"uint256\",\"name\":\"tokenId\",\"type\":\"uint256\"},{\"internalType\":\"bytes\",\"name\":\"data\",\"type\":\"bytes\"}],\"name\":\"safeTransferFrom\",\"outputs\":[],\"stateMutability\":\"nonpayable\",\"type\":\"function\"},{\"inputs\":[{\"internalType\":\"address\",\"name\":\"operator\",\"type\":\"address\"},{\"internalType\":\"bool\",\"name\":\"_approved\",\"type\":\"bool\"}],\"name\":\"setApprovalForAll\",\"outputs\":[],\"stateMutability\":\"nonpayable\",\"type\":\"function\"},{\"inputs\":[{\"internalType\":\"bytes4\",\"name\":\"interfaceId\",\"type\":\"bytes4\"}],\"name\":\"supportsInterface\",\"outputs\":[{\"internalType\":\"bool\",\"name\":\"\",\"type\":\"bool\"}],\"stateMutability\":\"view\",\"type\":\"function\"},{\"inputs\":[],\"name\":\"symbol\",\"outputs\":[{\"internalType\":\"string\",\"name\":\"\",\"type\":\"string\"}],\"stateMutability\":\"view\",\"type\":\"function\"},{\"inputs\":[{\"internalType\":\"uint256\",\"name\":\"tokenId\",\"type\":\"uint256\"}],\"name\":\"tokenURI\",\"outputs\":[{\"internalType\":\"string\",\"name\":\"\",\"type\":\"string\"}],\"stateMutability\":\"view\",\"type\":\"function\"},{\"inputs\":[{\"internalType\":\"address\",\"name\":\"from\",\"type\":\"address\"},{\"internalType\":\"address\",\"name\":\"to\",\"type\":\"address\"},{\"internalType\":\"uint256\",\"name\":\"tokenId\",\"type\":\"uint256\"}],\"name\":\"transferFrom\",\"outputs\":[],\"stateMutability\":\"nonpayable\",\"type\":\"function\"}],\"bin\":\"\"},\"node_modules/@openzeppelin/contracts/utils/Address.sol:Address\":{\"abi\":[],\"bin\":\"60566037600b82828239805160001a607314602a57634e487b7160e01b600052600060045260246000fd5b30600052607381538281f3fe73000000000000000000000000000000000000000030146080604052600080fdfea2646970667358221220d38f90cccfd833306991cb1925349d0c825dfc2d2d11f5232a2f3f131cc6aa7964736f6c634300080c0033\"},\"node_modules/@openzeppelin/contracts/utils/Context.sol:Context\":{\"abi\":[],\"bin\":\"\"},\"node_modules/@openzeppelin/contracts/utils/Counters.sol:Counters\":{\"abi\":[],\"bin\":\"60566037600b82828239805160001a607314602a57634e487b7160e01b600052600060045260246000fd5b30600052607381538281f3fe73000000000000000000000000000000000000000030146080604052600080fdfea26469706673582212205dad1cb3b845f38477df58c8ba4b20a5fd23e6ee0ec30bb848a6f0548ca9a73f64736f6c634300080c0033\"},\"node_modules/@openzeppelin/contracts/utils/Strings.sol:Strings\":{\"abi\":[],\"bin\":\"60566037600b82828239805160001a607314602a57634e487b7160e01b600052600060045260246000fd5b30600052607381538281f3fe73000000000000000000000000000000000000000030146080604052600080fdfea26469706673582212209aff5699c77a42f4b6ccd12ed076c7891a0e2527242c9c0f72ea9f78921a35e864736f6c634300080c0033\"},\"node_modules/@openzeppelin/contracts/utils/introspection/ERC165.sol:ERC165\":{\"abi\":[{\"inputs\":[{\"internalType\":\"bytes4\",\"name\":\"interfaceId\",\"type\":\"bytes4\"}],\"name\":\"supportsInterface\",\"outputs\":[{\"internalType\":\"bool\",\"name\":\"\",\"type\":\"bool\"}],\"stateMutability\":\"view\",\"type\":\"function\"}],\"bin\":\"\"},\"node_modules/@openzeppelin/contracts/utils/introspection/IERC165.sol:IERC165\":{\"abi\":[{\"inputs\":[{\"internalType\":\"bytes4\",\"name\":\"interfaceId\",\"type\":\"bytes4\"}],\"name\":\"supportsInterface\",\"outputs\":[{\"internalType\":\"bool\",\"name\":\"\",\"type\":\"bool\"}],\"stateMutability\":\"view\",\"type\":\"function\"}],\"bin\":\"\"},\"src/MyNFT1.sol:MyNFT1\":{\"abi\":[{\"inputs\":[],\"stateMutability\":\"nonpayable\",\"type\":\"constructor\"},{\"anonymous\":false,\"inputs\":[{\"indexed\":true,\"internalType\":\"address\",\"name\":\"owner\",\"type\":\"address\"},{\"indexed\":true,\"internalType\":\"address\",\"name\":\"approved\",\"type\":\"address\"},{\"indexed\":true,\"internalType\":\"uint256\",\"name\":\"tokenId\",\"type\":\"uint256\"}],\"name\":\"Approval\",\"type\":\"event\"},{\"anonymous\":false,\"inputs\":[{\"indexed\":true,\"internalType\":\"address\",\"name\":\"owner\",\"type\":\"address\"},{\"indexed\":true,\"internalType\":\"address\",\"name\":\"operator\",\"type\":\"address\"},{\"indexed\":false,\"internalType\":\"bool\",\"name\":\"approved\",\"type\":\"bool\"}],\"name\":\"ApprovalForAll\",\"type\":\"event\"},{\"anonymous\":false,\"inputs\":[{\"indexed\":true,\"internalType\":\"address\",\"name\":\"from\",\"type\":\"address\"},{\"indexed\":true,\"internalType\":\"address\",\"name\":\"to\",\"type\":\"address\"},{\"indexed\":true,\"internalType\":\"uint256\",\"name\":\"tokenId\",\"type\":\"uint256\"}],\"name\":\"Transfer\",\"type\":\"event\"},{\"inputs\":[{\"internalType\":\"address\",\"name\":\"to\",\"type\":\"address\"},{\"internalType\":\"uint256\",\"name\":\"tokenId\",\"type\":\"uint256\"}],\"name\":\"approve\",\"outputs\":[],\"stateMutability\":\"nonpayable\",\"type\":\"function\"},{\"inputs\":[{\"internalType\":\"address\",\"name\":\"owner\",\"type\":\"address\"}],\"name\":\"balanceOf\",\"outputs\":[{\"internalType\":\"uint256\",\"name\":\"\",\"type\":\"uint256\"}],\"stateMutability\":\"view\",\"type\":\"function\"},{\"inputs\":[{\"internalType\":\"uint256\",\"name\":\"_id\",\"type\":\"uint256\"}],\"name\":\"burn\",\"outputs\":[],\"stateMutability\":\"nonpayable\",\"type\":\"function\"},{\"inputs\":[{\"internalType\":\"address\",\"name\":\"\",\"type\":\"address\"}],\"name\":\"countByAddr\",\"outputs\":[{\"internalType\":\"uint256\",\"name\":\"\",\"type\":\"uint256\"}],\"stateMutability\":\"view\",\"type\":\"function\"},{\"inputs\":[{\"internalType\":\"address\",\"name\":\"_addr\",\"type\":\"address\"}],\"name\":\"getAddrToItem\",\"outputs\":[{\"internalType\":\"address\",\"name\":\"\",\"type\":\"address\"},{\"internalType\":\"address\",\"name\":\"\",\"type\":\"address\"},{\"internalType\":\"uint256\",\"name\":\"\",\"type\":\"uint256\"},{\"internalType\":\"string\",\"name\":\"\",\"type\":\"string\"},{\"internalType\":\"uint256\",\"name\":\"\",\"type\":\"uint256\"}],\"stateMutability\":\"view\",\"type\":\"function\"},{\"inputs\":[{\"internalType\":\"uint256\",\"name\":\"tokenId\",\"type\":\"uint256\"}],\"name\":\"getApproved\",\"outputs\":[{\"internalType\":\"address\",\"name\":\"\",\"type\":\"address\"}],\"stateMutability\":\"view\",\"type\":\"function\"},{\"inputs\":[{\"internalType\":\"address\",\"name\":\"_addr\",\"type\":\"address\"}],\"name\":\"getCount\",\"outputs\":[{\"internalType\":\"uint256\",\"name\":\"\",\"type\":\"uint256\"}],\"stateMutability\":\"view\",\"type\":\"function\"},{\"inputs\":[],\"name\":\"getItemsLength\",\"outputs\":[{\"internalType\":\"uint256\",\"name\":\"\",\"type\":\"uint256\"}],\"stateMutability\":\"view\",\"type\":\"function\"},{\"inputs\":[],\"name\":\"getOwner\",\"outputs\":[{\"internalType\":\"address\",\"name\":\"\",\"type\":\"address\"}],\"stateMutability\":\"view\",\"type\":\"function\"},{\"inputs\":[{\"internalType\":\"uint256\",\"name\":\"tokenId\",\"type\":\"uint256\"}],\"name\":\"getTokenIdToItem\",\"outputs\":[{\"internalType\":\"address\",\"name\":\"\",\"type\":\"address\"},{\"internalType\":\"address\",\"name\":\"\",\"type\":\"address\"},{\"internalType\":\"uint256\",\"name\":\"\",\"type\":\"uint256\"},{\"internalType\":\"string\",\"name\":\"\",\"type\":\"string\"},{\"internalType\":\"uint256\",\"name\":\"\",\"type\":\"uint256\"}],\"stateMutability\":\"view\",\"type\":\"function\"},{\"inputs\":[{\"internalType\":\"uint256\",\"name\":\"tokenId\",\"type\":\"uint256\"}],\"name\":\"getTokenURI\",\"outputs\":[{\"internalType\":\"string\",\"name\":\"\",\"type\":\"string\"}],\"stateMutability\":\"view\",\"type\":\"function\"},{\"inputs\":[],\"name\":\"getTotalSupply\",\"outputs\":[{\"internalType\":\"uint256\",\"name\":\"\",\"type\":\"uint256\"}],\"stateMutability\":\"view\",\"type\":\"function\"},{\"inputs\":[{\"internalType\":\"address\",\"name\":\"\",\"type\":\"address\"}],\"name\":\"idByAddr\",\"outputs\":[{\"internalType\":\"uint256\",\"name\":\"\",\"type\":\"uint256\"}],\"stateMutability\":\"view\",\"type\":\"function\"},{\"inputs\":[{\"internalType\":\"address\",\"name\":\"owner\",\"type\":\"address\"},{\"internalType\":\"address\",\"name\":\"operator\",\"type\":\"address\"}],\"name\":\"isApprovedForAll\",\"outputs\":[{\"internalType\":\"bool\",\"name\":\"\",\"type\":\"bool\"}],\"stateMutability\":\"view\",\"type\":\"function\"},{\"inputs\":[{\"internalType\":\"uint256\",\"name\":\"_id\",\"type\":\"uint256\"},{\"internalType\":\"address\",\"name\":\"to\",\"type\":\"address\"},{\"internalType\":\"string\",\"name\":\"tokenUrl\",\"type\":\"string\"}],\"name\":\"mintWithIdUrl\",\"outputs\":[{\"internalType\":\"uint256\",\"name\":\"\",\"type\":\"uint256\"}],\"stateMutability\":\"nonpayable\",\"type\":\"function\"},{\"inputs\":[{\"internalType\":\"address\",\"name\":\"to\",\"type\":\"address\"},{\"internalType\":\"string\",\"name\":\"tokenUrl\",\"type\":\"string\"}],\"name\":\"mintWithURL\",\"outputs\":[{\"internalType\":\"uint256\",\"name\":\"\",\"type\":\"uint256\"}],\"stateMutability\":\"nonpayable\",\"type\":\"function\"},{\"inputs\":[{\"internalType\":\"address\",\"name\":\"from\",\"type\":\"address\"},{\"internalType\":\"address\",\"name\":\"to\",\"type\":\"address\"},{\"internalType\":\"uint256\",\"name\":\"_tokenId\",\"type\":\"uint256\"}],\"name\":\"myTransfer\",\"outputs\":[],\"stateMutability\":\"nonpayable\",\"type\":\"function\"},{\"inputs\":[],\"name\":\"name\",\"outputs\":[{\"internalType\":\"string\",\"name\":\"\",\"type\":\"string\"}],\"stateMutability\":\"view\",\"type\":\"function\"},{\"inputs\":[{\"internalType\":\"uint256\",\"name\":\"tokenId\",\"type\":\"uint256\"}],\"name\":\"ownerOf\",\"outputs\":[{\"internalType\":\"address\",\"name\":\"\",\"type\":\"address\"}],\"stateMutability\":\"view\",\"type\":\"function\"},{\"inputs\":[{\"internalType\":\"address\",\"name\":\"from\",\"type\":\"address\"},{\"internalType\":\"address\",\"name\":\"to\",\"type\":\"address\"},{\"internalType\":\"uint256\",\"name\":\"tokenId\",\"type\":\"uint256\"}],\"name\":\"safeTransferFrom\",\"outputs\":[],\"stateMutability\":\"nonpayable\",\"type\":\"function\"},{\"inputs\":[{\"internalType\":\"address\",\"name\":\"from\",\"type\":\"address\"},{\"internalType\":\"address\",\"name\":\"to\",\"type\":\"address\"},{\"internalType\":\"uint256\",\"name\":\"tokenId\",\"type\":\"uint256\"},{\"internalType\":\"bytes\",\"name\":\"_data\",\"type\":\"bytes\"}],\"name\":\"safeTransferFrom\",\"outputs\":[],\"stateMutability\":\"nonpayable\",\"type\":\"function\"},{\"inputs\":[{\"internalType\":\"address\",\"name\":\"operator\",\"type\":\"address\"},{\"internalType\":\"bool\",\"name\":\"approved\",\"type\":\"bool\"}],\"name\":\"setApprovalForAll\",\"outputs\":[],\"stateMutability\":\"nonpayable\",\"type\":\"function\"},{\"inputs\":[{\"internalType\":\"uint256\",\"name\":\"_id\",\"type\":\"uint256\"},{\"internalType\":\"address\",\"name\":\"_o\",\"type\":\"address\"},{\"internalType\":\"address\",\"name\":\"_to\",\"type\":\"address\"},{\"internalType\":\"uint256\",\"name\":\"_p\",\"type\":\"uint256\"},{\"internalType\":\"string\",\"name\":\"_uri\",\"type\":\"string\"},{\"internalType\":\"uint256\",\"name\":\"_t\",\"type\":\"uint256\"}],\"name\":\"setTokenIdToItem\",\"outputs\":[],\"stateMutability\":\"nonpayable\",\"type\":\"function\"},{\"inputs\":[{\"internalType\":\"bytes4\",\"name\":\"interfaceId\",\"type\":\"bytes4\"}],\"name\":\"supportsInterface\",\"outputs\":[{\"internalType\":\"bool\",\"name\":\"\",\"type\":\"bool\"}],\"stateMutability\":\"view\",\"type\":\"function\"},{\"inputs\":[],\"name\":\"symbol\",\"outputs\":[{\"internalType\":\"string\",\"name\":\"\",\"type\":\"string\"}],\"stateMutability\":\"view\",\"type\":\"function\"},{\"inputs\":[{\"internalType\":\"uint256\",\"name\":\"\",\"type\":\"uint256\"}],\"name\":\"tokenIdToItem\",\"outputs\":[{\"internalType\":\"address\",\"name\":\"owner\",\"type\":\"address\"},{\"internalType\":\"address\",\"name\":\"nowOwner\",\"type\":\"address\"},{\"internalType\":\"uint256\",\"name\":\"price\",\"type\":\"uint256\"},{\"internalType\":\"string\",\"name\":\"tokenUrl\",\"type\":\"string\"},{\"internalType\":\"uint256\",\"name\":\"currentTime\",\"type\":\"uint256\"}],\"stateMutability\":\"view\",\"type\":\"function\"},{\"inputs\":[{\"internalType\":\"uint256\",\"name\":\"tokenId\",\"type\":\"uint256\"}],\"name\":\"tokenURI\",\"outputs\":[{\"internalType\":\"string\",\"name\":\"\",\"type\":\"string\"}],\"stateMutability\":\"view\",\"type\":\"function\"},{\"inputs\":[{\"internalType\":\"address\",\"name\":\"from\",\"type\":\"address\"},{\"internalType\":\"address\",\"name\":\"to\",\"type\":\"address\"},{\"internalType\":\"uint256\",\"name\":\"tokenId\",\"type\":\"uint256\"}],\"name\":\"transferFrom\",\"outputs\":[],\"stateMutability\":\"nonpayable\",\"type\":\"function\"}],\"bin\":\"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\"}},\"version\":\"0.8.12+commit.f00d7308.Darwin.appleclang\"}\r\n"
     ]
    }
   ],
   "source": [
    "!cat src/MyNFT1.json"
   ]
  },
  {
   "cell_type": "markdown",
   "id": "bd40858b",
   "metadata": {},
   "source": [
    "##### (7) ganache 배포"
   ]
  },
  {
   "cell_type": "code",
   "execution_count": 10,
   "id": "d75310e5",
   "metadata": {},
   "outputs": [
    {
     "name": "stdout",
     "output_type": "stream",
     "text": [
      "Overwriting src/MyNFTTest.js\n"
     ]
    }
   ],
   "source": [
    "%%writefile src/MyNFTTest.js\n",
    "var Web3 = require('web3');\n",
    "var _abiBinJson = require('./MyNFT1.json');      //importing a javascript file\n",
    "\n",
    "var web3 = new Web3(new Web3.providers.HttpProvider(\"http://127.0.0.1:8345\"));\n",
    "\n",
    "contractName=Object.keys(_abiBinJson.contracts);\n",
    "//console.log(contractName);\n",
    "console.log(contractName[10]);"
   ]
  },
  {
   "cell_type": "code",
   "execution_count": 11,
   "id": "8a9df031",
   "metadata": {},
   "outputs": [
    {
     "name": "stdout",
     "output_type": "stream",
     "text": [
      "src/MyNFT1.sol:MyNFT1\r\n"
     ]
    }
   ],
   "source": [
    "!node src/MyNFTTest.js"
   ]
  },
  {
   "cell_type": "code",
   "execution_count": 89,
   "id": "5ea13ce2",
   "metadata": {},
   "outputs": [
    {
     "name": "stdout",
     "output_type": "stream",
     "text": [
      "Overwriting src/MyNFTDeploy.js\n"
     ]
    }
   ],
   "source": [
    "%%writefile src/MyNFTDeploy.js\n",
    "var Web3 = require('web3');\n",
    "var _abiBinJson = require('./MyNFT1.json');      //importing a javascript file\n",
    "\n",
    "var web3 = new Web3(new Web3.providers.HttpProvider(\"http://127.0.0.1:8345\"));\n",
    "\n",
    "contractName=Object.keys(_abiBinJson.contracts);\n",
    "//console.log(contractName);\n",
    "console.log(\"- contract name: \", contractName[10]);\n",
    "_abi=_abiBinJson.contracts[contractName[10]].abi;\n",
    "_abiArray=JSON.parse(JSON.stringify(_abi));\n",
    "_bin=\"0x\"+_abiBinJson.contracts[contractName[10]].bin;\n",
    "async function deploy() {\n",
    "    const accounts = await web3.eth.getAccounts();\n",
    "    console.log(\"Deploying the contract from \" + accounts[0]);\n",
    "    var deployed = await new web3.eth.Contract(_abiArray)\n",
    "        .deploy({data: _bin})\n",
    "        .send({from: accounts[0], gas: 1800000}, function(err, transactionHash) {\n",
    "                if(!err) console.log(\"hash: \" + transactionHash); \n",
    "        })\n",
    "    console.log(\"---> The contract deployed to: \" + deployed.options.address)\n",
    "}\n",
    "deploy()"
   ]
  },
  {
   "cell_type": "code",
   "execution_count": 123,
   "id": "7eb7e2ac",
   "metadata": {},
   "outputs": [
    {
     "name": "stdout",
     "output_type": "stream",
     "text": [
      "- contract name:  src/MyNFT1.sol:MyNFT1\n",
      "Deploying the contract from 0xe29FCc98c9B925D0ccF320cDb338C1187bdAf7bB\n",
      "hash: 0x98d9f118a1f6f27b25f0d671e4ab59cbf39f6d04e7180a8216b4e99f1ab69484\n",
      "---> The contract deployed to: 0x678b3A18CC2F658D085Cc90ce730f25D801705a0\n"
     ]
    }
   ],
   "source": [
    "!node src/MyNFTDeploy.js"
   ]
  },
  {
   "cell_type": "code",
   "execution_count": 124,
   "id": "f2fb814e",
   "metadata": {},
   "outputs": [
    {
     "name": "stdout",
     "output_type": "stream",
     "text": [
      "Overwriting src/MyNFTUse_1.js\n"
     ]
    }
   ],
   "source": [
    "%%writefile src/MyNFTUse_1.js\n",
    "var Web3=require('web3');\n",
    "var _abiBinJson = require('./MyNFT1.json');\n",
    "//var web3 = new Web3(new Web3.providers.HttpProvider(\"http://127.0.0.1:8345\"));\n",
    "var web3 = new Web3(new Web3.providers.WebsocketProvider(\"ws://127.0.0.1:8345\"));\n",
    "contractName=Object.keys(_abiBinJson.contracts);\n",
    "console.log(\"- contract name: \", contractName[10]);\n",
    "_abi=_abiBinJson.contracts[contractName[10]].abi;\n",
    "_abiArray=JSON.parse(JSON.stringify(_abi));\n",
    "_bin=\"0x\"+_abiBinJson.contracts[contractName[10]].bin;\n",
    "var _nft = new web3.eth.Contract(_abiArray,\"0x678b3A18CC2F658D085Cc90ce730f25D801705a0\");\n",
    "async function doIt() {\n",
    "    const accounts = await web3.eth.getAccounts();\n",
    "    var url_1 = \"https://ipfs.io/ipfs/QmSt4z63PERyZaQdG4W9FhTfKmCFJDZPgK66gcSwBfWMBo\";\n",
    "    var url_2 = \"https://ipfs.io/ipfs/QmWbV8jK5L2HQWPTLQYBrdCdGJnUX3njSVpuYR9JPGvJ47\";\n",
    "    await _nft.methods.mintWithURL(accounts[1], url_1).send({from:accounts[0], gas:1000000});\n",
    "    console.log(\"(8) minting from \"+accounts[0]+\"to \"+accounts[1]);\n",
    "    await _nft.methods.mintWithURL(accounts[2], url_1).send({from:accounts[0], gas:1000000});\n",
    "    console.log(\"(9) minting from \"+accounts[0]+\"to \"+accounts[2]);\n",
    "    await _nft.methods.getTotalSupply().call().then(function(value){\n",
    "        console.log(\"(10) Total number minted : \", value);\n",
    "    });\n",
    "    process.exit(1);\n",
    "}\n",
    "doIt()"
   ]
  },
  {
   "cell_type": "code",
   "execution_count": 125,
   "id": "69e5681e",
   "metadata": {},
   "outputs": [
    {
     "name": "stdout",
     "output_type": "stream",
     "text": [
      "- contract name:  src/MyNFT1.sol:MyNFT1\n",
      "(8) minting from 0xe29FCc98c9B925D0ccF320cDb338C1187bdAf7bBto 0x6033704a195d88DFC0479748086b9C9C3Ef11778\n",
      "(9) minting from 0xe29FCc98c9B925D0ccF320cDb338C1187bdAf7bBto 0x72281cd16791eB691639d0F6734f2dE7984E857E\n",
      "(10) Total number minted :  2\n"
     ]
    }
   ],
   "source": [
    "!node src/MyNFTUse_1.js"
   ]
  },
  {
   "cell_type": "code",
   "execution_count": 126,
   "id": "aa38f910",
   "metadata": {},
   "outputs": [
    {
     "name": "stdout",
     "output_type": "stream",
     "text": [
      "Overwriting src/MyNFTUse_2.js\n"
     ]
    }
   ],
   "source": [
    "%%writefile src/MyNFTUse_2.js\n",
    "var Web3=require('web3');\n",
    "var _abiBinJson = require('./MyNFT1.json');\n",
    "//var web3 = new Web3(new Web3.providers.HttpProvider(\"http://127.0.0.1:8345\"));\n",
    "var web3 = new Web3(new Web3.providers.WebsocketProvider(\"ws://127.0.0.1:8345\"));\n",
    "contractName=Object.keys(_abiBinJson.contracts);\n",
    "console.log(\"- contract name: \", contractName[10]);\n",
    "_abi=_abiBinJson.contracts[contractName[10]].abi;\n",
    "_abiArray=JSON.parse(JSON.stringify(_abi));\n",
    "_bin=\"0x\"+_abiBinJson.contracts[contractName[10]].bin;\n",
    "var _nft = new web3.eth.Contract(_abiArray,\"0x678b3A18CC2F658D085Cc90ce730f25D801705a0\");\n",
    "async function doIt() {\n",
    "    const accounts = await web3.eth.getAccounts();\n",
    "    var url_1 = \"https://ipfs.io/ipfs/QmSt4z63PERyZaQdG4W9FhTfKmCFJDZPgK66gcSwBfWMBo\";\n",
    "    var url_2 = \"https://ipfs.io/ipfs/QmWbV8jK5L2HQWPTLQYBrdCdGJnUX3njSVpuYR9JPGvJ47\";\n",
    "    await _nft.methods.getCount(accounts[0]).call().then(function(value){\n",
    "        console.log(\"(11) balanceOf \"+accounts[0]+\" : \"+value)\n",
    "    });\n",
    "    await _nft.methods.getCount(accounts[1]).call().then(function(value){\n",
    "        console.log(\"(11) balanceOf \"+accounts[1]+\" : \"+value)\n",
    "    });\n",
    "    await _nft.methods.getCount(accounts[2]).call().then(function(value){\n",
    "        console.log(\"(11) balanceOf \"+accounts[2]+\" : \"+value)\n",
    "    });\n",
    "    process.exit(1);\n",
    "}\n",
    "doIt()"
   ]
  },
  {
   "cell_type": "code",
   "execution_count": 127,
   "id": "9575c3aa",
   "metadata": {},
   "outputs": [
    {
     "name": "stdout",
     "output_type": "stream",
     "text": [
      "- contract name:  src/MyNFT1.sol:MyNFT1\r\n",
      "(11) balanceOf 0xe29FCc98c9B925D0ccF320cDb338C1187bdAf7bB : 0\r\n",
      "(11) balanceOf 0x6033704a195d88DFC0479748086b9C9C3Ef11778 : 1\r\n",
      "(11) balanceOf 0x72281cd16791eB691639d0F6734f2dE7984E857E : 1\r\n"
     ]
    }
   ],
   "source": [
    "!node src/MyNFTUse_2.js"
   ]
  },
  {
   "cell_type": "code",
   "execution_count": 128,
   "id": "2b122b0a",
   "metadata": {},
   "outputs": [
    {
     "name": "stdout",
     "output_type": "stream",
     "text": [
      "Overwriting src/MyNFTUse_3.js\n"
     ]
    }
   ],
   "source": [
    "%%writefile src/MyNFTUse_3.js\n",
    "var Web3=require('web3');\n",
    "var _abiBinJson = require('./MyNFT1.json');\n",
    "//var web3 = new Web3(new Web3.providers.HttpProvider(\"http://127.0.0.1:8345\"));\n",
    "var web3 = new Web3(new Web3.providers.WebsocketProvider(\"ws://127.0.0.1:8345\"));\n",
    "contractName=Object.keys(_abiBinJson.contracts);\n",
    "console.log(\"- contract name: \", contractName[10]);\n",
    "_abi=_abiBinJson.contracts[contractName[10]].abi;\n",
    "_abiArray=JSON.parse(JSON.stringify(_abi));\n",
    "_bin=\"0x\"+_abiBinJson.contracts[contractName[10]].bin;\n",
    "var _nft = new web3.eth.Contract(_abiArray,\"0x678b3A18CC2F658D085Cc90ce730f25D801705a0\");\n",
    "async function doIt() {\n",
    "    const accounts = await web3.eth.getAccounts();\n",
    "    var url_1 = \"https://ipfs.io/ipfs/QmSt4z63PERyZaQdG4W9FhTfKmCFJDZPgK66gcSwBfWMBo\";\n",
    "    var url_2 = \"https://ipfs.io/ipfs/QmWbV8jK5L2HQWPTLQYBrdCdGJnUX3njSVpuYR9JPGvJ47\";\n",
    "    await _nft.methods.getTokenIdToItem(1).call().then(function(value){\n",
    "        console.log(\"(12) ownerOf tokenId 1: \"+value[1]);\n",
    "        console.log(\"(12) tokenURL of tokenId 1 : \"+value[3]);\n",
    "    })\n",
    "    await _nft.methods.getTokenIdToItem(1).call().then(function(value){\n",
    "        console.log(\"(13) getTokenIdItem information (tokenId = 1)\");\n",
    "        console.log(\"\\t owner : \"+value[0]);\n",
    "        console.log(\"\\t now owner : \"+value[1]);\n",
    "        console.log(\"\\t price : \"+value[2]);\n",
    "        console.log(\"\\t tokenUrl : \"+value[3]);\n",
    "        console.log(\"\\t currentTime : \"+value[4]);\n",
    "    });\n",
    "    process.exit(1);\n",
    "}\n",
    "doIt()"
   ]
  },
  {
   "cell_type": "code",
   "execution_count": 129,
   "id": "68c3e586",
   "metadata": {},
   "outputs": [
    {
     "name": "stdout",
     "output_type": "stream",
     "text": [
      "- contract name:  src/MyNFT1.sol:MyNFT1\n",
      "(12) ownerOf tokenId 1: 0x6033704a195d88DFC0479748086b9C9C3Ef11778\n",
      "(12) tokenURL of tokenId 1 : https://ipfs.io/ipfs/QmSt4z63PERyZaQdG4W9FhTfKmCFJDZPgK66gcSwBfWMBo\n",
      "(13) getTokenIdItem information (tokenId = 1)\n",
      "\t owner : 0xe29FCc98c9B925D0ccF320cDb338C1187bdAf7bB\n",
      "\t now owner : 0x6033704a195d88DFC0479748086b9C9C3Ef11778\n",
      "\t price : 1\n",
      "\t tokenUrl : https://ipfs.io/ipfs/QmSt4z63PERyZaQdG4W9FhTfKmCFJDZPgK66gcSwBfWMBo\n",
      "\t currentTime : 1655713318\n"
     ]
    }
   ],
   "source": [
    "!node src/MyNFTUse_3.js"
   ]
  },
  {
   "cell_type": "code",
   "execution_count": 130,
   "id": "2a07b6ec",
   "metadata": {},
   "outputs": [
    {
     "name": "stdout",
     "output_type": "stream",
     "text": [
      "Overwriting src/MyNFTUse_4.js\n"
     ]
    }
   ],
   "source": [
    "%%writefile src/MyNFTUse_4.js\n",
    "var Web3=require('web3');\n",
    "var _abiBinJson = require('./MyNFT1.json');  \n",
    "//var web3 = new Web3(new Web3.providers.HttpProvider(\"http://127.0.0.1:8345\"));\n",
    "var web3 = new Web3(new Web3.providers.WebsocketProvider(\"ws://127.0.0.1:8345\"));\n",
    "contractName=Object.keys(_abiBinJson.contracts);\n",
    "console.log(\"- contract name: \", contractName[10]);\n",
    "_abi=_abiBinJson.contracts[contractName[10]].abi;\n",
    "_abiArray=JSON.parse(JSON.stringify(_abi));\n",
    "_bin=\"0x\"+_abiBinJson.contracts[contractName[10]].bin;\n",
    "var _nft = new web3.eth.Contract(_abiArray,\"0x678b3A18CC2F658D085Cc90ce730f25D801705a0\");\n",
    "var event = _nft.events.Transfer({fromBlock: 0}, function (error, result) {\n",
    "    if (!error) {\n",
    "        console.log(\"Event fired: \" + JSON.stringify(result.returnValues));\n",
    "    }\n",
    "});\n",
    "async function doIt() {\n",
    "    const accounts = await web3.eth.getAccounts();\n",
    "    var url_1 = \"https://ipfs.io/ipfs/QmSt4z63PERyZaQdG4W9FhTfKmCFJDZPgK66gcSwBfWMBo\";\n",
    "    var url_2 = \"https://ipfs.io/ipfs/QmWbV8jK5L2HQWPTLQYBrdCdGJnUX3njSVpuYR9JPGvJ47\";\n",
    "    await _nft.methods.myTransfer(accounts[1], accounts[2], 1).send({from:accounts[0], gas:1000000});\n",
    "    await _nft.methods.getTokenIdToItem(1).call().then(function(value){\n",
    "        console.log(\"(14) ownerOf tokenId 1 after transfered : \"+value[1]);\n",
    "    })\n",
    "    await _nft.methods.myTransfer(accounts[2], accounts[3], 2).send({from:accounts[2], gas:1000000});\n",
    "    await _nft.methods.getTokenIdToItem(2).call().then(function(value){\n",
    "        console.log(\"(15) ownerOf tokenId 2 after transfered : \"+value[1]);\n",
    "    })\n",
    "    process.exit(1);\n",
    "}\n",
    "doIt()"
   ]
  },
  {
   "cell_type": "code",
   "execution_count": 131,
   "id": "5aec72e3",
   "metadata": {},
   "outputs": [
    {
     "name": "stdout",
     "output_type": "stream",
     "text": [
      "- contract name:  src/MyNFT1.sol:MyNFT1\n",
      "Event fired: {\"0\":\"0x0000000000000000000000000000000000000000\",\"1\":\"0x72281cd16791eB691639d0F6734f2dE7984E857E\",\"2\":\"2\",\"from\":\"0x0000000000000000000000000000000000000000\",\"to\":\"0x72281cd16791eB691639d0F6734f2dE7984E857E\",\"tokenId\":\"2\"}\n",
      "Event fired: {\"0\":\"0x6033704a195d88DFC0479748086b9C9C3Ef11778\",\"1\":\"0x72281cd16791eB691639d0F6734f2dE7984E857E\",\"2\":\"1\",\"from\":\"0x6033704a195d88DFC0479748086b9C9C3Ef11778\",\"to\":\"0x72281cd16791eB691639d0F6734f2dE7984E857E\",\"tokenId\":\"1\"}\n",
      "(14) ownerOf tokenId 1 after transfered : 0x72281cd16791eB691639d0F6734f2dE7984E857E\n",
      "Event fired: {\"0\":\"0x72281cd16791eB691639d0F6734f2dE7984E857E\",\"1\":\"0x83D3e58faB26cC22d557AA60c5ac9B479BaFd8Af\",\"2\":\"2\",\"from\":\"0x72281cd16791eB691639d0F6734f2dE7984E857E\",\"to\":\"0x83D3e58faB26cC22d557AA60c5ac9B479BaFd8Af\",\"tokenId\":\"2\"}\n",
      "(15) ownerOf tokenId 2 after transfered : 0x83D3e58faB26cC22d557AA60c5ac9B479BaFd8Af\n"
     ]
    }
   ],
   "source": [
    "!node src/MyNFTUse_4.js"
   ]
  },
  {
   "cell_type": "code",
   "execution_count": 132,
   "id": "8b539543",
   "metadata": {},
   "outputs": [
    {
     "name": "stdout",
     "output_type": "stream",
     "text": [
      "Overwriting src/MyNFTUse_5.js\n"
     ]
    }
   ],
   "source": [
    "%%writefile src/MyNFTUse_5.js\n",
    "var Web3=require('web3');\n",
    "var _abiBinJson = require('./MyNFT1.json');  \n",
    "//var web3 = new Web3(new Web3.providers.HttpProvider(\"http://127.0.0.1:8345\"));\n",
    "var web3 = new Web3(new Web3.providers.WebsocketProvider(\"ws://127.0.0.1:8345\"));\n",
    "contractName=Object.keys(_abiBinJson.contracts);\n",
    "console.log(\"- contract name: \", contractName[10]);\n",
    "_abi=_abiBinJson.contracts[contractName[10]].abi;\n",
    "_abiArray=JSON.parse(JSON.stringify(_abi));\n",
    "_bin=\"0x\"+_abiBinJson.contracts[contractName[10]].bin;\n",
    "var _nft = new web3.eth.Contract(_abiArray,\"0x678b3A18CC2F658D085Cc90ce730f25D801705a0\");\n",
    "async function doIt() {\n",
    "    const accounts = await web3.eth.getAccounts();\n",
    "    var url_1 = \"https://ipfs.io/ipfs/QmSt4z63PERyZaQdG4W9FhTfKmCFJDZPgK66gcSwBfWMBo\";\n",
    "    var url_2 = \"https://ipfs.io/ipfs/QmWbV8jK5L2HQWPTLQYBrdCdGJnUX3njSVpuYR9JPGvJ47\";\n",
    "    await _nft.methods.burn(2).send({from:accounts[0], gas:100000});\n",
    "    await _nft.methods.getCount(accounts[3]).call().then(function(value){\n",
    "        console.log(\"(16) balanceOf \"+accounts[3]+\" : \"+value)\n",
    "    });\n",
    "    await web3.eth.getBlockNumber(function(err, value){\n",
    "        if(!err)\n",
    "            console.log(\"\\t (18) Block Number : \", value);\n",
    "    });\n",
    "    process.exit(1);\n",
    "}\n",
    "doIt()"
   ]
  },
  {
   "cell_type": "code",
   "execution_count": 133,
   "id": "ae66b735",
   "metadata": {},
   "outputs": [
    {
     "name": "stdout",
     "output_type": "stream",
     "text": [
      "- contract name:  src/MyNFT1.sol:MyNFT1\n",
      "(16) balanceOf 0x83D3e58faB26cC22d557AA60c5ac9B479BaFd8Af : 0\n",
      "\t (18) Block Number :  \u001b[33m45\u001b[39m\n"
     ]
    }
   ],
   "source": [
    "!node src/MyNFTUse_5.js"
   ]
  },
  {
   "cell_type": "markdown",
   "id": "48586346",
   "metadata": {},
   "source": [
    "##### (17) ==> (transfer하는 주피터 칸에서 긁어왔습니다)\n",
    "\n",
    "\n",
    "Event fired: {\"0\":\"0x6033704a195d88DFC0479748086b9C9C3Ef11778\",\"1\":\"0x72281cd16791eB691639d0F6734f2dE7984E857E\",\"2\":\"1\",\"from\":\"0x6033704a195d88DFC0479748086b9C9C3Ef11778\",\"to\":\"0x72281cd16791eB691639d0F6734f2dE7984E857E\",\"tokenId\":\"1\"}"
   ]
  },
  {
   "cell_type": "code",
   "execution_count": 136,
   "id": "6a7ff00a",
   "metadata": {},
   "outputs": [
    {
     "name": "stdout",
     "output_type": "stream",
     "text": [
      "Overwriting src/MyNFTDeployGeth.js\n"
     ]
    }
   ],
   "source": [
    "%%writefile src/MyNFTDeployGeth.js\n",
    "var Web3 = require('web3');\n",
    "var _abiBinJson = require('./MyNFT1.json');      //importing a javascript file\n",
    "\n",
    "var web3 = new Web3(new Web3.providers.HttpProvider(\"http://127.0.0.1:8445\"));\n",
    "\n",
    "contractName=Object.keys(_abiBinJson.contracts);\n",
    "//console.log(contractName);\n",
    "console.log(\"- contract name: \", contractName[10]);\n",
    "_abi=_abiBinJson.contracts[contractName[10]].abi;\n",
    "_abiArray=JSON.parse(JSON.stringify(_abi));\n",
    "_bin=\"0x\"+_abiBinJson.contracts[contractName[10]].bin;\n",
    "async function deploy() {\n",
    "    const accounts = await web3.eth.getAccounts();\n",
    "    console.log(\"Deploying the contract from \" + accounts[0]);\n",
    "    var deployed = await new web3.eth.Contract(_abiArray)\n",
    "        .deploy({data: _bin})\n",
    "        .send({from: accounts[0], gas: 5800000}, function(err, transactionHash) {\n",
    "                if(!err) console.log(\"hash: \" + transactionHash); \n",
    "        })\n",
    "    console.log(\"---> The contract deployed to: \" + deployed.options.address)\n",
    "}\n",
    "deploy()"
   ]
  },
  {
   "cell_type": "markdown",
   "id": "abd3525e",
   "metadata": {},
   "source": [
    "##### (19) geth 배포\n",
    "\n",
    "* 계정해제, 마이닝은 단말에서 진행\n",
    "\n",
    "```\n",
    "personal.unlockAccount(eth.accounts[0])\n",
    "Unlock account 0x9178bdc606dd7ccc4e51936342d480514d65e054\n",
    "Passphrase: \n",
    "true\n",
    "> miner.start();\n",
    "null\n",
    "> miner.stop()\n",
    "null\n",
    "> miner.start();\n",
    "null\n",
    "> miner.stop();\n",
    "null\n",
    "> \n",
    "```\n"
   ]
  },
  {
   "cell_type": "code",
   "execution_count": 137,
   "id": "71df2362",
   "metadata": {},
   "outputs": [
    {
     "name": "stdout",
     "output_type": "stream",
     "text": [
      "- contract name:  src/MyNFT1.sol:MyNFT1\n",
      "Deploying the contract from 0x9178BDC606Dd7ccC4e51936342d480514d65E054\n",
      "hash: 0xdcfb8385a524011e0f5aed83eb30c32a41b88d6487095fd8035fac483fa60097\n",
      "---> The contract deployed to: 0xE0862526fB2911065f9C83e893206E3d49ba288A\n"
     ]
    }
   ],
   "source": [
    "!node src/MyNFTDeployGeth.js"
   ]
  },
  {
   "cell_type": "markdown",
   "id": "44a26d95",
   "metadata": {},
   "source": [
    "* 테스트넷 배포 주소 : 0xE0862526fB2911065f9C83e893206E3d49ba288A"
   ]
  },
  {
   "cell_type": "code",
   "execution_count": null,
   "id": "0c5417da",
   "metadata": {},
   "outputs": [],
   "source": []
  }
 ],
 "metadata": {
  "kernelspec": {
   "display_name": "Python 3 (ipykernel)",
   "language": "python",
   "name": "python3"
  },
  "language_info": {
   "codemirror_mode": {
    "name": "ipython",
    "version": 3
   },
   "file_extension": ".py",
   "mimetype": "text/x-python",
   "name": "python",
   "nbconvert_exporter": "python",
   "pygments_lexer": "ipython3",
   "version": "3.9.12"
  }
 },
 "nbformat": 4,
 "nbformat_minor": 5
}
