{
 "cells": [
  {
   "cell_type": "markdown",
   "id": "9eef9dff",
   "metadata": {},
   "source": [
    "### 11주차 블록체인프로그래밍 과제 \n",
    "#### 휴먼지능정보공학과 201810756 김대환"
   ]
  },
  {
   "cell_type": "code",
   "execution_count": 213,
   "id": "6ef42cd1",
   "metadata": {},
   "outputs": [
    {
     "name": "stdout",
     "output_type": "stream",
     "text": [
      "Overwriting src/Bank11.sol\n"
     ]
    }
   ],
   "source": [
    "%%writefile src/Bank11.sol\n",
    "//SPDX-License-Identifier: GPL-3.0-or-later\n",
    "pragma solidity ^0.8.12;\n",
    "contract Bank11{\n",
    "    address owner;\n",
    "    uint balance;\n",
    "    uint tmp;\n",
    "    event PrintLog(address from, uint amount);\n",
    "    constructor(){\n",
    "        owner = msg.sender;\n",
    "        balance = address(this).balance;\n",
    "    }\n",
    "    fallback () external{\n",
    "        emit PrintLog(owner,333);\n",
    "    }\n",
    "    function deposit(uint amount) payable public{\n",
    "        require(msg.value == amount);\n",
    "        balance += amount;\n",
    "    }\n",
    "    function withdrawAll() public{\n",
    "        balance -= address(this).balance;\n",
    "        payable(owner).transfer(address(this).balance);\n",
    "    }\n",
    "    function getBalance() public view returns(uint, uint){\n",
    "        return (address(this).balance, balance);\n",
    "    }\n",
    "    function forwardTo(address payable _receiver, uint amount) public payable{\n",
    "        require(_receiver.send(amount));\n",
    "        balance -= amount;\n",
    "    }\n",
    "    function getAddrBalance(address addr) public view returns(uint){\n",
    "        return addr.balance;\n",
    "    }\n",
    "}"
   ]
  },
  {
   "cell_type": "markdown",
   "id": "0f984941",
   "metadata": {},
   "source": [
    "> 특정 계정의 잔고를 반환하는 getAddrBalance 함수도 구현하였지만(2번째 계정 등 특정 계정의 잔고를 반환하기 위해)\\\n",
    "기존 과제 지시사항에는 그런 함수에 대한 언급이 없어 사용하지는 않았습니다."
   ]
  },
  {
   "cell_type": "code",
   "execution_count": 214,
   "id": "c1f4f03a",
   "metadata": {},
   "outputs": [
    {
     "name": "stdout",
     "output_type": "stream",
     "text": [
      "//SPDX-License-Identifier: GPL-3.0-or-later\r\n",
      "pragma solidity ^0.8.12;\r\n",
      "contract Bank11{\r\n",
      "    address owner;\r\n",
      "    uint balance;\r\n",
      "    uint tmp;\r\n",
      "    event PrintLog(address from, uint amount);\r\n",
      "    constructor(){\r\n",
      "        owner = msg.sender;\r\n",
      "        balance = address(this).balance;\r\n",
      "    }\r\n",
      "    fallback () external{\r\n",
      "        emit PrintLog(owner,333);\r\n",
      "    }\r\n",
      "    function deposit(uint amount) payable public{\r\n",
      "        require(msg.value == amount);\r\n",
      "        balance += amount;\r\n",
      "    }\r\n",
      "    function withdrawAll() public{\r\n",
      "        balance -= address(this).balance;\r\n",
      "        payable(owner).transfer(address(this).balance);\r\n",
      "    }\r\n",
      "    function getBalance() public view returns(uint, uint){\r\n",
      "        return (address(this).balance, balance);\r\n",
      "    }\r\n",
      "    function forwardTo(address payable _receiver, uint amount) public payable{\r\n",
      "        require(_receiver.send(amount));\r\n",
      "        balance -= amount;\r\n",
      "    }\r\n",
      "    function getAddrBalance(address addr) public view returns(uint){\r\n",
      "        return addr.balance;\r\n",
      "    }\r\n",
      "}\r\n"
     ]
    }
   ],
   "source": [
    "!cat src/Bank11.sol"
   ]
  },
  {
   "cell_type": "code",
   "execution_count": 215,
   "id": "0b6505e6",
   "metadata": {},
   "outputs": [],
   "source": [
    "!solc --optimize --combined-json abi,bin src/Bank11.sol > src/Bank11.json"
   ]
  },
  {
   "cell_type": "code",
   "execution_count": 216,
   "id": "528ed5aa",
   "metadata": {},
   "outputs": [
    {
     "name": "stdout",
     "output_type": "stream",
     "text": [
      "{\"contracts\":{\"src/Bank11.sol:Bank11\":{\"abi\":[{\"inputs\":[],\"stateMutability\":\"nonpayable\",\"type\":\"constructor\"},{\"anonymous\":false,\"inputs\":[{\"indexed\":false,\"internalType\":\"address\",\"name\":\"from\",\"type\":\"address\"},{\"indexed\":false,\"internalType\":\"uint256\",\"name\":\"amount\",\"type\":\"uint256\"}],\"name\":\"PrintLog\",\"type\":\"event\"},{\"stateMutability\":\"nonpayable\",\"type\":\"fallback\"},{\"inputs\":[{\"internalType\":\"uint256\",\"name\":\"amount\",\"type\":\"uint256\"}],\"name\":\"deposit\",\"outputs\":[],\"stateMutability\":\"payable\",\"type\":\"function\"},{\"inputs\":[{\"internalType\":\"address payable\",\"name\":\"_receiver\",\"type\":\"address\"},{\"internalType\":\"uint256\",\"name\":\"amount\",\"type\":\"uint256\"}],\"name\":\"forwardTo\",\"outputs\":[],\"stateMutability\":\"payable\",\"type\":\"function\"},{\"inputs\":[{\"internalType\":\"address\",\"name\":\"addr\",\"type\":\"address\"}],\"name\":\"getAddrBalance\",\"outputs\":[{\"internalType\":\"uint256\",\"name\":\"\",\"type\":\"uint256\"}],\"stateMutability\":\"view\",\"type\":\"function\"},{\"inputs\":[],\"name\":\"getBalance\",\"outputs\":[{\"internalType\":\"uint256\",\"name\":\"\",\"type\":\"uint256\"},{\"internalType\":\"uint256\",\"name\":\"\",\"type\":\"uint256\"}],\"stateMutability\":\"view\",\"type\":\"function\"},{\"inputs\":[],\"name\":\"withdrawAll\",\"outputs\":[],\"stateMutability\":\"nonpayable\",\"type\":\"function\"}],\"bin\":\"608060405234801561001057600080fd5b50600080546001600160a01b0319163317905547600155610300806100366000396000f3fe60806040526004361061004a5760003560e01c806312065fe0146100a0578063853828b6146100d1578063b6b55f25146100e8578063b96ee716146100fb578063e46c4e5f1461010e575b34801561005657600080fd5b50600054604080516001600160a01b03909216825261014d60208301527fac247564f70be8d5e06a6068acf596e7bbca33994b256697b38d49095d4f3805910160405180910390a1005b3480156100ac57600080fd5b506100b76001544791565b604080519283526020830191909152015b60405180910390f35b3480156100dd57600080fd5b506100e6610144565b005b6100e66100f6366004610207565b610198565b6100e6610109366004610235565b6101be565b34801561011a57600080fd5b50610136610129366004610261565b6001600160a01b03163190565b6040519081526020016100c8565b4760016000828254610156919061029b565b9091555050600080546040516001600160a01b03909116914780156108fc02929091818181858888f19350505050158015610195573d6000803e3d6000fd5b50565b8034146101a457600080fd5b80600160008282546101b691906102b2565b909155505050565b6040516001600160a01b0383169082156108fc029083906000818181858888f193505050506101ec57600080fd5b80600160008282546101fe919061029b565b90915550505050565b60006020828403121561021957600080fd5b5035919050565b6001600160a01b038116811461019557600080fd5b6000806040838503121561024857600080fd5b823561025381610220565b946020939093013593505050565b60006020828403121561027357600080fd5b813561027e81610220565b9392505050565b634e487b7160e01b600052601160045260246000fd5b6000828210156102ad576102ad610285565b500390565b600082198211156102c5576102c5610285565b50019056fea264697066735822122075257ee36dfc33b1beeb15cb0793d15f231c75ae6c7b58833baa01717dab1a6364736f6c634300080c0033\"}},\"version\":\"0.8.12+commit.f00d7308.Darwin.appleclang\"}\r\n"
     ]
    }
   ],
   "source": [
    "!cat src/Bank11.json"
   ]
  },
  {
   "cell_type": "markdown",
   "id": "236c32f6",
   "metadata": {},
   "source": [
    "#### 배포하기"
   ]
  },
  {
   "cell_type": "code",
   "execution_count": 217,
   "id": "a5461e9b",
   "metadata": {},
   "outputs": [
    {
     "name": "stdout",
     "output_type": "stream",
     "text": [
      "Overwriting src/Bank11Deploy.js\n"
     ]
    }
   ],
   "source": [
    "%%writefile src/Bank11Deploy.js\n",
    "var Web3 = require('web3');\n",
    "var _abiBinJson = require('./Bank11.json');\n",
    "var web3 = new Web3(new Web3.providers.HttpProvider(\"http://127.0.0.1:8345\"));\n",
    "contractName=Object.keys(_abiBinJson.contracts);\n",
    "_abi=_abiBinJson.contracts[contractName].abi;\n",
    "_abiArray=JSON.parse(JSON.stringify(_abi));\n",
    "_bin=_abiBinJson.contracts[contractName].bin;\n",
    "async function deploy(){\n",
    "    const accounts = await web3.eth.getAccounts();\n",
    "    var deployed = await new web3.eth.Contract(_abiArray)\n",
    "        .deploy({data : \"0x\"+_bin})\n",
    "        .send({from: accounts[0], gas: 259210}, function(err,transactionHash){\n",
    "            if(!err) console.log(\"hash: \"+transactionHash);\n",
    "        })\n",
    "    console.log(deployed.options.address)\n",
    "}\n",
    "deploy()"
   ]
  },
  {
   "cell_type": "code",
   "execution_count": 80,
   "id": "7647bd0f",
   "metadata": {},
   "outputs": [
    {
     "name": "stdout",
     "output_type": "stream",
     "text": [
      "hash: 0x407e9b8e86ac28fdff6a5bcf026b4dadc3e10d6bd450e0d5293e0e1b2a6c9902\r\n",
      "0x78207dD3f7a9B212B89d8Fc80Ed679B2b15D3311\r\n"
     ]
    }
   ],
   "source": [
    "!node src/Bank11Deploy.js"
   ]
  },
  {
   "cell_type": "code",
   "execution_count": 81,
   "id": "5cd5fe0f",
   "metadata": {},
   "outputs": [
    {
     "name": "stdout",
     "output_type": "stream",
     "text": [
      "Overwriting src/Bank11_1.js\n"
     ]
    }
   ],
   "source": [
    "%%writefile src/Bank11_1.js\n",
    "var Web3 = require('web3');\n",
    "var _abiBinJson = require('./Bank11.json');\n",
    "var web3 = new Web3(new Web3.providers.HttpProvider(\"http://127.0.0.1:8345\"));\n",
    "contractName=Object.keys(_abiBinJson.contracts);\n",
    "_abi=_abiBinJson.contracts[contractName].abi;\n",
    "_abiArray=JSON.parse(JSON.stringify(_abi));\n",
    "var Bank = new web3.eth.Contract(_abiArray,'0x78207dD3f7a9B212B89d8Fc80Ed679B2b15D3311');\n",
    "async function use(){\n",
    "    const accounts = await web3.eth.getAccounts();\n",
    "    await Bank.methods.deposit(11111).send({from:accounts[0],gas:259210,value:11111});\n",
    "    await Bank.methods.deposit(222).send({from:accounts[0],gas:259210,value:222});\n",
    "    await Bank.methods.getBalance().call().then(function(value){\n",
    "        console.log(\"\\t(1) contract balance : \",value)\n",
    "    });\n",
    "}\n",
    "use()"
   ]
  },
  {
   "cell_type": "markdown",
   "id": "9dfd0c1d",
   "metadata": {},
   "source": [
    "##### - 입금 11111 wei, 222wei 하고 컨트랙 잔고 11333 wei 출력"
   ]
  },
  {
   "cell_type": "code",
   "execution_count": 82,
   "id": "89e29bbd",
   "metadata": {},
   "outputs": [
    {
     "name": "stdout",
     "output_type": "stream",
     "text": [
      "\t(1) contract balance :  Result { \u001b[32m'0'\u001b[39m: \u001b[32m'11333'\u001b[39m, \u001b[32m'1'\u001b[39m: \u001b[32m'11333'\u001b[39m }\r\n"
     ]
    }
   ],
   "source": [
    "!node src/Bank11_1.js"
   ]
  },
  {
   "cell_type": "code",
   "execution_count": 83,
   "id": "0bf15569",
   "metadata": {},
   "outputs": [
    {
     "name": "stdout",
     "output_type": "stream",
     "text": [
      "Overwriting src/Bank11_2.js\n"
     ]
    }
   ],
   "source": [
    "%%writefile src/Bank11_2.js\n",
    "var Web3 = require('web3');\n",
    "var _abiBinJson = require('./Bank11.json');\n",
    "var web3 = new Web3(new Web3.providers.HttpProvider(\"http://127.0.0.1:8345\"));\n",
    "contractName=Object.keys(_abiBinJson.contracts);\n",
    "_abi=_abiBinJson.contracts[contractName].abi;\n",
    "_abiArray=JSON.parse(JSON.stringify(_abi));\n",
    "var Bank = new web3.eth.Contract(_abiArray,'0x78207dD3f7a9B212B89d8Fc80Ed679B2b15D3311');\n",
    "async function use(){\n",
    "    const accounts = await web3.eth.getAccounts();\n",
    "    const beforeBal = await web3.eth.getBalance(accounts[1]);\n",
    "    console.log(\"\\t (2) accounts[1] balance(before transfer) : \",beforeBal);\n",
    "    await Bank.methods.forwardTo(accounts[1],333).send({from:accounts[0],gas:259210});\n",
    "    await Bank.methods.getBalance().call().then(function(value){\n",
    "        console.log(\"\\t (2) contract balance(after transfer) : \",value)\n",
    "    });\n",
    "    const afterBal = await web3.eth.getBalance(accounts[1]);\n",
    "    console.log(\"\\t (2) accounts[1] balance(after transfer) : \",afterBal);\n",
    "}\n",
    "use()"
   ]
  },
  {
   "cell_type": "markdown",
   "id": "9ff42054",
   "metadata": {},
   "source": [
    "##### - 자신의 2번째 계정으로 계좌이체 333 wei 하고 컨트랙 잔고 11000 wei 출력, 자신의 2 번째 계정 잔고 증가분(+333 wei) 출력"
   ]
  },
  {
   "cell_type": "code",
   "execution_count": 84,
   "id": "c348a967",
   "metadata": {},
   "outputs": [
    {
     "name": "stdout",
     "output_type": "stream",
     "text": [
      "\t (2) accounts[1] balance(before transfer) :  100000000000000003996\n",
      "\t (2) contract balance(after transfer) :  Result { \u001b[32m'0'\u001b[39m: \u001b[32m'11000'\u001b[39m, \u001b[32m'1'\u001b[39m: \u001b[32m'11000'\u001b[39m }\n",
      "\t (2) accounts[1] balance(after transfer) :  100000000000000004329\n"
     ]
    }
   ],
   "source": [
    "!node src/Bank11_2.js"
   ]
  },
  {
   "cell_type": "markdown",
   "id": "90db3933",
   "metadata": {},
   "source": [
    "> 계정의 증가분 333 wei는 제대로 계산되지 않았습니다. 단순히 값의 차이로 계산하니 계속해서 '0' 값만 출력됩니다.\\\n",
    "> 출력된 결과로는 333 wei 만큼 증가된 것을 확인할 수 있습니다."
   ]
  },
  {
   "cell_type": "code",
   "execution_count": 85,
   "id": "19eedb15",
   "metadata": {},
   "outputs": [
    {
     "name": "stdout",
     "output_type": "stream",
     "text": [
      "Overwriting src/Bank11_3.js\n"
     ]
    }
   ],
   "source": [
    "%%writefile src/Bank11_3.js\n",
    "var Web3 = require('web3');\n",
    "var _abiBinJson = require('./Bank11.json');\n",
    "var web3 = new Web3(new Web3.providers.HttpProvider(\"http://127.0.0.1:8345\"));\n",
    "contractName=Object.keys(_abiBinJson.contracts);\n",
    "_abi=_abiBinJson.contracts[contractName].abi;\n",
    "_abiArray=JSON.parse(JSON.stringify(_abi));\n",
    "var Bank = new web3.eth.Contract(_abiArray,'0x78207dD3f7a9B212B89d8Fc80Ed679B2b15D3311');\n",
    "async function use(){\n",
    "    const accounts = await web3.eth.getAccounts();\n",
    "    const beforeBal = await web3.eth.getBalance(accounts[0]);\n",
    "    console.log(\"\\t (3) accounts[0] balance(before withdrawAll) : \", beforeBal);\n",
    "    await Bank.methods.withdrawAll().send({from:accounts[0],gas:259210});\n",
    "    const afterBal = await web3.eth.getBalance(accounts[0]);\n",
    "    console.log(\"\\t (3) accounts[0] balance(after withdrawAll) : \", afterBal);\n",
    "    await Bank.methods.getBalance().call().then(function(value){\n",
    "        console.log(\"\\t (3) contract balance(after withdrawAll) : \",value)\n",
    "    });\n",
    "}\n",
    "use()"
   ]
  },
  {
   "cell_type": "markdown",
   "id": "752c22ff",
   "metadata": {},
   "source": [
    "##### - 전액 인출하고 11000 wei, 자신의 잔고 증가분 출력 (+11000 wei)"
   ]
  },
  {
   "cell_type": "code",
   "execution_count": 86,
   "id": "d4bdf59d",
   "metadata": {},
   "outputs": [
    {
     "name": "stdout",
     "output_type": "stream",
     "text": [
      "\t (3) accounts[0] balance(before withdrawAll) :  99940750099999971673\n",
      "\t (3) accounts[0] balance(after withdrawAll) :  99940341639999982673\n",
      "\t (3) contract balance(after withdrawAll) :  Result { \u001b[32m'0'\u001b[39m: \u001b[32m'0'\u001b[39m, \u001b[32m'1'\u001b[39m: \u001b[32m'0'\u001b[39m }\n"
     ]
    }
   ],
   "source": [
    "!node src/Bank11_3.js"
   ]
  },
  {
   "cell_type": "markdown",
   "id": "59f82f8e",
   "metadata": {},
   "source": [
    "> gas 비로 인해 차이가 11000 wei 만큼 출력되지는 않습니다.\\\n",
    "> 전액 인출 후 컨트랙 잔고가 0 인 것을 확인하였습니다."
   ]
  },
  {
   "cell_type": "code",
   "execution_count": 105,
   "id": "c50760eb",
   "metadata": {},
   "outputs": [
    {
     "name": "stdout",
     "output_type": "stream",
     "text": [
      "Overwriting src/Bank11_4.js\n"
     ]
    }
   ],
   "source": [
    "%%writefile src/Bank11_4.js\n",
    "var Web3 = require('web3');\n",
    "var _abiBinJson = require('./Bank11.json');\n",
    "var web3 = new Web3(new Web3.providers.WebsocketProvider(\"ws://127.0.0.1:8345\"));\n",
    "contractName=Object.keys(_abiBinJson.contracts);\n",
    "_abi=_abiBinJson.contracts[contractName].abi;\n",
    "_abiArray=JSON.parse(JSON.stringify(_abi));\n",
    "var Bank = new web3.eth.Contract(_abiArray,'0x78207dD3f7a9B212B89d8Fc80Ed679B2b15D3311');\n",
    "async function use(){\n",
    "    const accounts = await web3.eth.getAccounts();\n",
    "    var event = await Bank.events.PrintLog(function(error,result){\n",
    "        if (!error) {\n",
    "            console.log(\"Event fired: \" + JSON.stringify(result) + \"\\n---> \" + JSON.stringify(result.returnValues));\n",
    "            Bank.methods.deposit(333).send({from:accounts[0],gas:259210,value:333});\n",
    "        }\n",
    "    });\n",
    "    await web3.eth.sendTransaction({from:accounts[0],to:'0x78207dD3f7a9B212B89d8Fc80Ed679B2b15D3311'});\n",
    "    await Bank.methods.getBalance().call().then(function(value){\n",
    "        console.log(\"\\t(4) contract balance(by fallback) : \",value)\n",
    "    });\n",
    "    process.exit(1);\n",
    "}\n",
    "use()"
   ]
  },
  {
   "cell_type": "markdown",
   "id": "c7d454e3",
   "metadata": {},
   "source": [
    "##### 컨트랙으로 111 송금하고, deposit() 이 아니라 fallback으로 입금하세요. 컨트랙 잔고 111 wei 출력"
   ]
  },
  {
   "cell_type": "code",
   "execution_count": 107,
   "id": "6382d2da",
   "metadata": {},
   "outputs": [
    {
     "name": "stdout",
     "output_type": "stream",
     "text": [
      "Event fired: {\"logIndex\":0,\"transactionIndex\":0,\"transactionHash\":\"0x4faffd59851e3bff0ab6a9c12611791384d83322209d1f449a4b7468bacd9a7e\",\"blockHash\":\"0x3457f468e554939e4439c8005c9a9f8bc0484beb9a17d048163dd1a1151315b8\",\"blockNumber\":90,\"address\":\"0x78207dD3f7a9B212B89d8Fc80Ed679B2b15D3311\",\"type\":\"mined\",\"removed\":false,\"id\":\"log_a0c4ebf8\",\"returnValues\":{\"0\":\"0xFDD87F0271dB204Ab51C23eF4AB0323Dddc0B4cf\",\"1\":\"333\",\"from\":\"0xFDD87F0271dB204Ab51C23eF4AB0323Dddc0B4cf\",\"amount\":\"333\"},\"event\":\"PrintLog\",\"signature\":\"0xac247564f70be8d5e06a6068acf596e7bbca33994b256697b38d49095d4f3805\",\"raw\":{\"data\":\"0x000000000000000000000000fdd87f0271db204ab51c23ef4ab0323dddc0b4cf000000000000000000000000000000000000000000000000000000000000014d\",\"topics\":[\"0xac247564f70be8d5e06a6068acf596e7bbca33994b256697b38d49095d4f3805\"]}}\r\n",
      "---> {\"0\":\"0xFDD87F0271dB204Ab51C23eF4AB0323Dddc0B4cf\",\"1\":\"333\",\"from\":\"0xFDD87F0271dB204Ab51C23eF4AB0323Dddc0B4cf\",\"amount\":\"333\"}\r\n",
      "\t(4) contract balance(by fallback) :  Result { \u001b[32m'0'\u001b[39m: \u001b[32m'333'\u001b[39m, \u001b[32m'1'\u001b[39m: \u001b[32m'333'\u001b[39m }\r\n"
     ]
    }
   ],
   "source": [
    "!node src/Bank11_4.js"
   ]
  },
  {
   "cell_type": "markdown",
   "id": "efc95b6b",
   "metadata": {},
   "source": [
    "> 문제를 정확히 이해했는지 잘 모르겠습니다.\\\n",
    "fallback 을 일부러 호출하여 event에서 depsoit() 함수를 통해 컨트랙으로 입금하라는 것으로 이해하고\\\n",
    "그렇게 진행하였습니다."
   ]
  },
  {
   "cell_type": "code",
   "execution_count": null,
   "id": "1e4858ce",
   "metadata": {},
   "outputs": [],
   "source": []
  }
 ],
 "metadata": {
  "kernelspec": {
   "display_name": "Python 3 (ipykernel)",
   "language": "python",
   "name": "python3"
  },
  "language_info": {
   "codemirror_mode": {
    "name": "ipython",
    "version": 3
   },
   "file_extension": ".py",
   "mimetype": "text/x-python",
   "name": "python",
   "nbconvert_exporter": "python",
   "pygments_lexer": "ipython3",
   "version": "3.9.12"
  }
 },
 "nbformat": 4,
 "nbformat_minor": 5
}
