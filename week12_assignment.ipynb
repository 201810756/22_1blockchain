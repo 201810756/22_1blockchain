{
 "cells": [
  {
   "cell_type": "markdown",
   "id": "2292ed1b",
   "metadata": {},
   "source": [
    "### 12주차 블록체인프로그래밍 과제\n",
    "#### 휴먼지능정보공학과 201810756 김대환"
   ]
  },
  {
   "cell_type": "markdown",
   "id": "8c04bd7b",
   "metadata": {},
   "source": [
    "* 블록체인에서 주문을 하고, 그 주문내역을 로컬 파일에 작성하세요.\n",
    "* 블록체인으로 주문이 전송되면 이벤트가 발생하도록 프로그램하고, 주문내역은 로컬파일에 저장됩니다.\n",
    "* 강의자료 OrderEvent.sol을 참조해서 구현하세요.\n",
    "* order(상품항목, 주문개수, 단가, 배송지) 함수를 작성. '개수 x 단가'로 주문금액을 계산하고 이 금액만큼 입금되지 않으면 예외발생.\n",
    "* getBalance() 함수를 작성. 최초 프로그램 생성자 owner만 읽을 수 있게 modfier isOwner 작성."
   ]
  },
  {
   "cell_type": "markdown",
   "id": "faba4223",
   "metadata": {},
   "source": [
    "### [코드]"
   ]
  },
  {
   "cell_type": "code",
   "execution_count": 1,
   "id": "9e0b573e",
   "metadata": {},
   "outputs": [
    {
     "name": "stdout",
     "output_type": "stream",
     "text": [
      "Writing src/Week12.sol\n"
     ]
    }
   ],
   "source": [
    "%%writefile src/Week12.sol\n",
    "//SPDX-License-Identifier: GPL-3.0-or-later\n",
    "pragma solidity ^0.8.12;\n",
    "\n",
    "contract Week12{\n",
    "    address owner;\n",
    "    event OrderLog(address orderFrom, bytes2 _itemId, uint quantity, uint price, string destination);\n",
    "    constructor(){\n",
    "        owner = msg.sender;\n",
    "    }\n",
    "    function order(bytes2 _itemId, uint quantity, uint price, string memory destination) payable public{\n",
    "        uint amount = price * quantity;\n",
    "        require(amount == msg.value);\n",
    "        emit OrderLog(msg.sender, _itemId, quantity, price, destination);\n",
    "    }\n",
    "    function getBalance() view public isOwner() returns(uint){\n",
    "        return address(this).balance;\n",
    "    }\n",
    "    // 최초 프로그램 생성자 Owner만 읽을 수 있는 Modifier\n",
    "    modifier isOwner(){\n",
    "        require(msg.sender == owner);\n",
    "        _;\n",
    "    }\n",
    "}"
   ]
  },
  {
   "cell_type": "markdown",
   "id": "9d9fb3d4",
   "metadata": {},
   "source": [
    "### [remix 이벤트 콘솔 내역]"
   ]
  },
  {
   "cell_type": "code",
   "execution_count": 143,
   "id": "afc658d6",
   "metadata": {},
   "outputs": [
    {
     "data": {
      "text/plain": [
       "'\\n[vm]from: 0x5B3...eddC4to: Week12.order(bytes2,uint256,uint256,string) 0xf8e...9fBe8value: 300 weidata: 0x5a2...00000logs: 1hash: 0x4e5...465be\\nstatus\\ttrue Transaction mined and execution succeed\\ntransaction hash\\t0x4e5f76f384fbe4a29c2e9d9ae6b5caf8f761fd3a5a25612a18124d61995465be\\nfrom\\t0x5B38Da6a701c568545dCfcB03FcB875f56beddC4\\nto\\tWeek12.order(bytes2,uint256,uint256,string) 0xf8e81D47203A594245E36C48e151709F0C19fBe8\\ngas\\t32263 gas\\ntransaction cost\\t28054 gas \\nexecution cost\\t28054 gas \\ninput\\t0x5a2...00000\\ndecoded input\\t{\\n\\t\"bytes2 _itemId\": \"0x1111\",\\n\\t\"uint256 quantity\": \"3\",\\n\\t\"uint256 price\": \"100\",\\n\\t\"string destination\": \"20 2-gil Hongji-dong Jongro-gu Seoul\"\\n}\\ndecoded output\\t{}\\nlogs\\t[\\n\\t{\\n\\t\\t\"from\": \"0xf8e81D47203A594245E36C48e151709F0C19fBe8\",\\n\\t\\t\"topic\": \"0x538006ae16981d84b66e084c148f73553be69e4290d2c7bbb61abec6284186c1\",\\n\\t\\t\"event\": \"OrderLog\",\\n\\t\\t\"args\": {\\n\\t\\t\\t\"0\": \"0x5B38Da6a701c568545dCfcB03FcB875f56beddC4\",\\n\\t\\t\\t\"1\": \"0x1111\",\\n\\t\\t\\t\"2\": \"3\",\\n\\t\\t\\t\"3\": \"100\",\\n\\t\\t\\t\"4\": \"20 2-gil Hongji-dong Jongro-gu Seoul\",\\n\\t\\t\\t\"orderFrom\": \"0x5B38Da6a701c568545dCfcB03FcB875f56beddC4\",\\n\\t\\t\\t\"_itemId\": \"0x1111\",\\n\\t\\t\\t\"quantity\": \"3\",\\n\\t\\t\\t\"price\": \"100\",\\n\\t\\t\\t\"destination\": \"20 2-gil Hongji-dong Jongro-gu Seoul\"\\n\\t\\t}\\n\\t}\\n]\\nval\\t300 wei'"
      ]
     },
     "execution_count": 143,
     "metadata": {},
     "output_type": "execute_result"
    }
   ],
   "source": [
    "\"\"\"\n",
    "[vm]from: 0x5B3...eddC4to: Week12.order(bytes2,uint256,uint256,string) 0xf8e...9fBe8value: 300 weidata: 0x5a2...00000logs: 1hash: 0x4e5...465be\n",
    "status\ttrue Transaction mined and execution succeed\n",
    "transaction hash\t0x4e5f76f384fbe4a29c2e9d9ae6b5caf8f761fd3a5a25612a18124d61995465be\n",
    "from\t0x5B38Da6a701c568545dCfcB03FcB875f56beddC4\n",
    "to\tWeek12.order(bytes2,uint256,uint256,string) 0xf8e81D47203A594245E36C48e151709F0C19fBe8\n",
    "gas\t32263 gas\n",
    "transaction cost\t28054 gas \n",
    "execution cost\t28054 gas \n",
    "input\t0x5a2...00000\n",
    "decoded input\t{\n",
    "\t\"bytes2 _itemId\": \"0x1111\",\n",
    "\t\"uint256 quantity\": \"3\",\n",
    "\t\"uint256 price\": \"100\",\n",
    "\t\"string destination\": \"20 2-gil Hongji-dong Jongro-gu Seoul\"\n",
    "}\n",
    "decoded output\t{}\n",
    "logs\t[\n",
    "\t{\n",
    "\t\t\"from\": \"0xf8e81D47203A594245E36C48e151709F0C19fBe8\",\n",
    "\t\t\"topic\": \"0x538006ae16981d84b66e084c148f73553be69e4290d2c7bbb61abec6284186c1\",\n",
    "\t\t\"event\": \"OrderLog\",\n",
    "\t\t\"args\": {\n",
    "\t\t\t\"0\": \"0x5B38Da6a701c568545dCfcB03FcB875f56beddC4\",\n",
    "\t\t\t\"1\": \"0x1111\",\n",
    "\t\t\t\"2\": \"3\",\n",
    "\t\t\t\"3\": \"100\",\n",
    "\t\t\t\"4\": \"20 2-gil Hongji-dong Jongro-gu Seoul\",\n",
    "\t\t\t\"orderFrom\": \"0x5B38Da6a701c568545dCfcB03FcB875f56beddC4\",\n",
    "\t\t\t\"_itemId\": \"0x1111\",\n",
    "\t\t\t\"quantity\": \"3\",\n",
    "\t\t\t\"price\": \"100\",\n",
    "\t\t\t\"destination\": \"20 2-gil Hongji-dong Jongro-gu Seoul\"\n",
    "\t\t}\n",
    "\t}\n",
    "]\n",
    "val\t300 wei\"\"\""
   ]
  },
  {
   "cell_type": "markdown",
   "id": "b0d48bd9",
   "metadata": {},
   "source": [
    "### (2) 컴파일"
   ]
  },
  {
   "cell_type": "code",
   "execution_count": 3,
   "id": "6f2ae82d",
   "metadata": {},
   "outputs": [],
   "source": [
    "!solc --optimize --combined-json abi,bin src/Week12.sol > src/Week12.json"
   ]
  },
  {
   "cell_type": "code",
   "execution_count": 4,
   "id": "7e22864c",
   "metadata": {},
   "outputs": [
    {
     "name": "stdout",
     "output_type": "stream",
     "text": [
      "{\"contracts\":{\"src/Week12.sol:Week12\":{\"abi\":[{\"inputs\":[],\"stateMutability\":\"nonpayable\",\"type\":\"constructor\"},{\"anonymous\":false,\"inputs\":[{\"indexed\":false,\"internalType\":\"address\",\"name\":\"orderFrom\",\"type\":\"address\"},{\"indexed\":false,\"internalType\":\"bytes2\",\"name\":\"_itemId\",\"type\":\"bytes2\"},{\"indexed\":false,\"internalType\":\"uint256\",\"name\":\"quantity\",\"type\":\"uint256\"},{\"indexed\":false,\"internalType\":\"uint256\",\"name\":\"price\",\"type\":\"uint256\"},{\"indexed\":false,\"internalType\":\"string\",\"name\":\"destination\",\"type\":\"string\"}],\"name\":\"OrderLog\",\"type\":\"event\"},{\"inputs\":[],\"name\":\"getBalance\",\"outputs\":[{\"internalType\":\"uint256\",\"name\":\"\",\"type\":\"uint256\"}],\"stateMutability\":\"view\",\"type\":\"function\"},{\"inputs\":[{\"internalType\":\"bytes2\",\"name\":\"_itemId\",\"type\":\"bytes2\"},{\"internalType\":\"uint256\",\"name\":\"quantity\",\"type\":\"uint256\"},{\"internalType\":\"uint256\",\"name\":\"price\",\"type\":\"uint256\"},{\"internalType\":\"string\",\"name\":\"destination\",\"type\":\"string\"}],\"name\":\"order\",\"outputs\":[],\"stateMutability\":\"payable\",\"type\":\"function\"}],\"bin\":\"608060405234801561001057600080fd5b50600080546001600160a01b031916331790556102c5806100326000396000f3fe6080604052600436106100295760003560e01c806312065fe01461002e5780635a2ac00e14610055575b600080fd5b34801561003a57600080fd5b5061004361006a565b60405190815260200160405180910390f35b6100686100633660046100fd565b610087565b005b600080546001600160a01b0316331461008257600080fd5b504790565b600061009384846101e1565b90503481146100a157600080fd5b7f538006ae16981d84b66e084c148f73553be69e4290d2c7bbb61abec6284186c133868686866040516100d895949392919061020e565b60405180910390a15050505050565b634e487b7160e01b600052604160045260246000fd5b6000806000806080858703121561011357600080fd5b84356001600160f01b03198116811461012b57600080fd5b93506020850135925060408501359150606085013567ffffffffffffffff8082111561015657600080fd5b818701915087601f83011261016a57600080fd5b81358181111561017c5761017c6100e7565b604051601f8201601f19908116603f011681019083821181831017156101a4576101a46100e7565b816040528281528a60208487010111156101bd57600080fd5b82602086016020830137600060208483010152809550505050505092959194509250565b600081600019048311821515161561020957634e487b7160e01b600052601160045260246000fd5b500290565b60018060a01b03861681526000602061ffff60f01b87168184015285604084015284606084015260a0608084015283518060a085015260005b818110156102635785810183015185820160c001528201610247565b8181111561027557600060c083870101525b50601f01601f19169290920160c00197965050505050505056fea26469706673582212203379de3ec7778bbe338c6b72d3747c9d9df70745d775ebd823a6d208442aa5c464736f6c634300080c0033\"}},\"version\":\"0.8.12+commit.f00d7308.Darwin.appleclang\"}\r\n"
     ]
    }
   ],
   "source": [
    "!cat src/week12.json"
   ]
  },
  {
   "cell_type": "markdown",
   "id": "f6de4674",
   "metadata": {},
   "source": [
    "### (3) ganache 배포"
   ]
  },
  {
   "cell_type": "code",
   "execution_count": 12,
   "id": "ca7e2ca5",
   "metadata": {},
   "outputs": [
    {
     "name": "stdout",
     "output_type": "stream",
     "text": [
      "Overwriting src/Week12Deploy.js\n"
     ]
    }
   ],
   "source": [
    "%%writefile src/Week12Deploy.js\n",
    "var Web3 = require('web3');\n",
    "var _abiBinJson = require('./Week12.json');\n",
    "var web3 = new Web3(new Web3.providers.HttpProvider(\"http://127.0.0.1:8345\"));\n",
    "contractName=Object.keys(_abiBinJson.contracts);\n",
    "_abi=_abiBinJson.contracts[contractName].abi;\n",
    "_abiArray=JSON.parse(JSON.stringify(_abi));\n",
    "_bin=_abiBinJson.contracts[contractName].bin;\n",
    "async function deploy(){\n",
    "    const accounts = await web3.eth.getAccounts();\n",
    "     new web3.eth.Contract(_abiArray).deploy({data: _bin}).estimateGas(function(err, gas) {\n",
    "        if(!err) console.log(\">> estimated gas: \"+ gas);\n",
    "    });\n",
    "    var deployed = await new web3.eth.Contract(_abiArray)\n",
    "        .deploy({data : \"0x\"+_bin})\n",
    "        .send({from: accounts[0], gas: 227381}, function(err,transactionHash){\n",
    "            if(!err) console.log(\"hash: \"+transactionHash);\n",
    "        })\n",
    "    console.log(deployed.options.address)\n",
    "}\n",
    "deploy()"
   ]
  },
  {
   "cell_type": "code",
   "execution_count": 13,
   "id": "b9802fab",
   "metadata": {},
   "outputs": [
    {
     "name": "stdout",
     "output_type": "stream",
     "text": [
      ">> estimated gas: 227381\n",
      "hash: 0xf03038c1bc81e300b01c8bced02b0d83ff9795a9e33a25f12ed101f0e0a86095\n",
      "0x6561e616b52048CB2e960f76B0fcf36dff10866F\n"
     ]
    }
   ],
   "source": [
    "!node src/Week12Deploy.js"
   ]
  },
  {
   "cell_type": "markdown",
   "id": "e33ecd88",
   "metadata": {},
   "source": [
    "### (4) 주문 3건 발생, 이벤트를 통해 출력"
   ]
  },
  {
   "cell_type": "code",
   "execution_count": 140,
   "id": "18ad37c8",
   "metadata": {},
   "outputs": [
    {
     "name": "stdout",
     "output_type": "stream",
     "text": [
      "Overwriting src/Week12Use.js\n"
     ]
    }
   ],
   "source": [
    "%%writefile src/Week12Use.js\n",
    "var Web3 = require('web3');\n",
    "var fs = require('fs');\n",
    "var _abiBinJson = require('./Week12.json');\n",
    "var web3 = new Web3(new Web3.providers.WebsocketProvider(\"ws://127.0.0.1:8345\"));\n",
    "contractName=Object.keys(_abiBinJson.contracts);\n",
    "_abi=_abiBinJson.contracts[contractName].abi;\n",
    "_abiArray=JSON.parse(JSON.stringify(_abi));\n",
    "var Week12 = new web3.eth.Contract(_abiArray,'0x6561e616b52048CB2e960f76B0fcf36dff10866F');\n",
    "async function use(){\n",
    "    const accounts = await web3.eth.getAccounts();\n",
    "    var event = await Week12.events.OrderLog(function(error,result){\n",
    "        if (!error) {\n",
    "            log = JSON.stringify(result.returnValues);\n",
    "            orderFrom = result.returnValues.orderFrom;\n",
    "            _itemId = result.returnValues._itemId;\n",
    "            quantity = result.returnValues.quantity;\n",
    "            price = result.returnValues.price;\n",
    "            destination = result.returnValues.destination\n",
    "            console.log(\"Event fired : \",log);\n",
    "            fs.appendFile(\"src/OrderEvent.txt\",orderFrom+\", \"+_itemId+\", \"+quantity+\", \"+price+\", \"+destination+\"\\n\",\"utf-8\", function(e){\n",
    "                if(!e){\n",
    "                    console.log(\">> writing to file\");\n",
    "                }\n",
    "            })\n",
    "        }\n",
    "    });\n",
    "    await Week12.methods.order(\"0x1111\",3,100,\"20 2-gil Hongil-dong Jongro-gu Seoul\").send({from:accounts[0], gas:227381, value:300})\n",
    "    await Week12.methods.order(\"0x1111\",5,100,\"20 2-gil Hongil-dong Jongro-gu Seoul\").send({from:accounts[0], gas:227381, value:500})\n",
    "    await Week12.methods.order(\"0x1111\",20,100,\"20 2-gil Hongil-dong Jongro-gu Seoul\").send({from:accounts[0], gas:227381, value:2000})\n",
    "    process.exit(1);\n",
    "}\n",
    "use()"
   ]
  },
  {
   "cell_type": "code",
   "execution_count": 141,
   "id": "f01a7661",
   "metadata": {},
   "outputs": [
    {
     "name": "stdout",
     "output_type": "stream",
     "text": [
      "Event fired :  {\"0\":\"0x63d3C568B0E970dDBf42C3Cf2e41Fa0551A949e7\",\"1\":\"0x1111\",\"2\":\"3\",\"3\":\"100\",\"4\":\"20 2-gil Hongil-dong Jongro-gu Seoul\",\"orderFrom\":\"0x63d3C568B0E970dDBf42C3Cf2e41Fa0551A949e7\",\"_itemId\":\"0x1111\",\"quantity\":\"3\",\"price\":\"100\",\"destination\":\"20 2-gil Hongil-dong Jongro-gu Seoul\"}\r\n",
      ">> writing to file\r\n",
      "Event fired :  {\"0\":\"0x63d3C568B0E970dDBf42C3Cf2e41Fa0551A949e7\",\"1\":\"0x1111\",\"2\":\"5\",\"3\":\"100\",\"4\":\"20 2-gil Hongil-dong Jongro-gu Seoul\",\"orderFrom\":\"0x63d3C568B0E970dDBf42C3Cf2e41Fa0551A949e7\",\"_itemId\":\"0x1111\",\"quantity\":\"5\",\"price\":\"100\",\"destination\":\"20 2-gil Hongil-dong Jongro-gu Seoul\"}\r\n",
      ">> writing to file\r\n",
      "Event fired :  {\"0\":\"0x63d3C568B0E970dDBf42C3Cf2e41Fa0551A949e7\",\"1\":\"0x1111\",\"2\":\"20\",\"3\":\"100\",\"4\":\"20 2-gil Hongil-dong Jongro-gu Seoul\",\"orderFrom\":\"0x63d3C568B0E970dDBf42C3Cf2e41Fa0551A949e7\",\"_itemId\":\"0x1111\",\"quantity\":\"20\",\"price\":\"100\",\"destination\":\"20 2-gil Hongil-dong Jongro-gu Seoul\"}\r\n",
      ">> writing to file\r\n"
     ]
    }
   ],
   "source": [
    "!node src/Week12Use.js"
   ]
  },
  {
   "cell_type": "markdown",
   "id": "7f823793",
   "metadata": {},
   "source": [
    "### (5)파일에 저장된 파일 내역 출력 (OrderEvent.txt)"
   ]
  },
  {
   "cell_type": "code",
   "execution_count": 142,
   "id": "de9443be",
   "metadata": {},
   "outputs": [
    {
     "name": "stdout",
     "output_type": "stream",
     "text": [
      "0x63d3C568B0E970dDBf42C3Cf2e41Fa0551A949e7, 0x1111, 3, 100, 20 2-gil Hongil-dong Jongro-gu Seoul\r\n",
      "0x63d3C568B0E970dDBf42C3Cf2e41Fa0551A949e7, 0x1111, 5, 100, 20 2-gil Hongil-dong Jongro-gu Seoul\r\n",
      "0x63d3C568B0E970dDBf42C3Cf2e41Fa0551A949e7, 0x1111, 20, 100, 20 2-gil Hongil-dong Jongro-gu Seoul\r\n"
     ]
    }
   ],
   "source": [
    "!cat src/OrderEvent.txt"
   ]
  },
  {
   "cell_type": "code",
   "execution_count": null,
   "id": "8055fb73",
   "metadata": {},
   "outputs": [],
   "source": []
  }
 ],
 "metadata": {
  "kernelspec": {
   "display_name": "Python 3 (ipykernel)",
   "language": "python",
   "name": "python3"
  },
  "language_info": {
   "codemirror_mode": {
    "name": "ipython",
    "version": 3
   },
   "file_extension": ".py",
   "mimetype": "text/x-python",
   "name": "python",
   "nbconvert_exporter": "python",
   "pygments_lexer": "ipython3",
   "version": "3.9.12"
  }
 },
 "nbformat": 4,
 "nbformat_minor": 5
}
